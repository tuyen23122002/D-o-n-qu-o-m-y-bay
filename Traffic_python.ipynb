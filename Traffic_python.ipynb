{
  "cells": [
    {
      "cell_type": "markdown",
      "metadata": {
        "id": "view-in-github",
        "colab_type": "text"
      },
      "source": [
        "<a href=\"https://colab.research.google.com/github/tuyen23122002/D-o-n-qu-o-m-y-bay/blob/main/Traffic_python.ipynb\" target=\"_parent\"><img src=\"https://colab.research.google.com/assets/colab-badge.svg\" alt=\"Open In Colab\"/></a>"
      ]
    },
    {
      "cell_type": "code",
      "execution_count": null,
      "metadata": {
        "colab": {
          "base_uri": "https://localhost:8080/"
        },
        "id": "OuirVNpDAkdx",
        "outputId": "1ededbae-35f7-48b5-864b-7498050cf6db"
      },
      "outputs": [
        {
          "name": "stdout",
          "output_type": "stream",
          "text": [
            "Mounted at /content/drive\n"
          ]
        }
      ],
      "source": [
        "from google.colab import drive\n",
        "\n",
        "# Try authenticating again before mounting\n",
        "drive.mount('/content/drive', force_remount=True)"
      ]
    },
    {
      "cell_type": "markdown",
      "metadata": {
        "id": "MyyEeptYB1iT"
      },
      "source": [
        "#HIỂN THỊ DỮ LIỆU"
      ]
    },
    {
      "cell_type": "code",
      "execution_count": null,
      "metadata": {
        "id": "5Dm2BCvpgCUl"
      },
      "outputs": [],
      "source": [
        "import pandas as pd"
      ]
    },
    {
      "cell_type": "code",
      "execution_count": null,
      "metadata": {
        "id": "GYXmu-YBFsfz"
      },
      "outputs": [],
      "source": [
        "path =\"/content/drive/MyDrive/data/combined_csv_data (2).csv\"\n",
        "data = pd.read_csv(path)\n",
        "data\n"
      ]
    },
    {
      "cell_type": "markdown",
      "metadata": {
        "id": "3nS_toWyDG3q"
      },
      "source": [
        "#LƯU TRỮ THƯ MỤC VÀO DRIVE"
      ]
    },
    {
      "cell_type": "code",
      "execution_count": null,
      "metadata": {
        "id": "sy-7ZfZqCqMK"
      },
      "outputs": [],
      "source": [
        "!cp -r \"/content/data_split\" \"/content/drive/My Drive/\"\n"
      ]
    },
    {
      "cell_type": "markdown",
      "metadata": {
        "id": "VJrC3j7sB8Da"
      },
      "source": [
        "#THỐNG KÊ DỮ LIỆU"
      ]
    },
    {
      "cell_type": "code",
      "execution_count": null,
      "metadata": {
        "id": "6s3YlUwgb1zo"
      },
      "outputs": [],
      "source": [
        "data[\"time\"] = pd.to_datetime(data['time'], unit='s')\n",
        "# Đặt cột \"time\" làm cột chỉ mục (index)\n",
        "data.set_index('time', inplace=True)\n",
        "\n",
        "data\n"
      ]
    },
    {
      "cell_type": "code",
      "execution_count": null,
      "metadata": {
        "id": "djO3Nm0oqz8R"
      },
      "outputs": [],
      "source": [
        "data = data[[\"icao24\",\"lat\",\"lon\",\"velocity\",\"heading\",\"geoaltitude\"]]\n",
        "data"
      ]
    },
    {
      "cell_type": "code",
      "execution_count": null,
      "metadata": {
        "id": "XuT1Gc4GXFba"
      },
      "outputs": [],
      "source": [
        "data.describe()"
      ]
    },
    {
      "cell_type": "code",
      "execution_count": null,
      "metadata": {
        "id": "jEgerPl6joc6"
      },
      "outputs": [],
      "source": [
        "import pandas as pd\n",
        "data = pd.read_csv(\"/content/drive/MyDrive/data/combined_csv_data (2).csv\", index_col=\"time\")\n",
        "data"
      ]
    },
    {
      "cell_type": "code",
      "source": [
        "from google.colab import drive\n",
        "drive.mount('/content/drive')"
      ],
      "metadata": {
        "colab": {
          "base_uri": "https://localhost:8080/"
        },
        "id": "6eXBH3OUsxsh",
        "outputId": "9d842694-5783-4770-a0ce-ab48f23e12c0"
      },
      "execution_count": null,
      "outputs": [
        {
          "output_type": "stream",
          "name": "stdout",
          "text": [
            "Mounted at /content/drive\n"
          ]
        }
      ]
    },
    {
      "cell_type": "code",
      "execution_count": null,
      "metadata": {
        "id": "x9gm3r0eNCe5"
      },
      "outputs": [],
      "source": [
        "\n",
        "icao24 = set()\n",
        "for index, row in data.iterrows():\n",
        "  icao24.add(row[\"icao24\"])\n"
      ]
    },
    {
      "cell_type": "code",
      "execution_count": null,
      "metadata": {
        "colab": {
          "base_uri": "https://localhost:8080/"
        },
        "id": "Kdmma413RQoo",
        "outputId": "bd7149d6-1895-4846-99fa-ae49889b93ef"
      },
      "outputs": [
        {
          "output_type": "stream",
          "name": "stdout",
          "text": [
            "3619\n"
          ]
        }
      ],
      "source": [
        "print(len(list(icao24)))"
      ]
    },
    {
      "cell_type": "code",
      "execution_count": null,
      "metadata": {
        "id": "5f_pTcvnP1DY"
      },
      "outputs": [],
      "source": [
        "import pandas as pd\n",
        "import os\n",
        "\n",
        "# Danh sách ICAO 24\n",
        "icao24 = list(icao24)\n",
        "\n",
        "# Tạo một thư mục để lưu các tệp con\n",
        "output_dir = \"output_directory\"  # Thay đổi tên thư mục theo mong muốn của bạn\n",
        "os.makedirs(output_dir, exist_ok=True)\n",
        "\n",
        "# Lặp qua từng ICAO 24 trong danh sách\n",
        "for icao24 in icao24:\n",
        "    # Lọc dữ liệu cho từng ICAO 24\n",
        "    subset_data = data[data['icao24'] == icao24]\n",
        "\n",
        "    # Tạo tên tệp cho tệp con dựa trên giá trị của ICAO 24\n",
        "    output_file_path = os.path.join(output_dir, f\"{icao24}.csv\")\n",
        "\n",
        "    # Lưu dữ liệu vào tệp con\n",
        "    subset_data.to_csv(output_file_path, index=True)\n"
      ]
    },
    {
      "cell_type": "code",
      "execution_count": null,
      "metadata": {
        "collapsed": true,
        "id": "cmgMIio9D-8L"
      },
      "outputs": [],
      "source": [
        "import pandas as pd\n",
        "import os\n",
        "\n",
        "# Đường dẫn đến thư mục gốc chứa các tệp CSV\n",
        "input_dir = \"/content/output_directory\"  # Thay đổi đường dẫn tới thư mục gốc chứa các tệp CSV\n",
        "output_dir = \"data_full\"  # Thay đổi đường dẫn tới thư mục lưu các tệp nhỏ theo ngày\n",
        "os.makedirs(output_dir, exist_ok=True)\n",
        "\n",
        "# Lặp qua tất cả các tệp CSV trong thư mục gốc\n",
        "for filename in os.listdir(input_dir):\n",
        "    if filename.endswith(\".csv\"):  # Đảm bảo chỉ xử lý các tệp CSV\n",
        "        # Đường dẫn đầy đủ đến tệp CSV\n",
        "        input_file = os.path.join(input_dir, filename)\n",
        "\n",
        "        # Đọc dữ liệu từ tệp CSV\n",
        "        data = pd.read_csv(input_file)\n",
        "\n",
        "        # Chuyển đổi cột 'timestamp' thành đối tượng datetime\n",
        "        data['time'] = pd.to_datetime(data['time'])\n",
        "\n",
        "        # Tách dữ liệu thành các nhóm theo ngày\n",
        "        for date, group_data in data.groupby(data['time'].dt.date):\n",
        "            # Tạo tên tệp cho tệp nhỏ dựa trên ngày và ICAO 24\n",
        "            output_file_path = os.path.join(output_dir, f\"{os.path.splitext(filename)[0]}_{date}.csv\")\n",
        "\n",
        "            # Lưu dữ liệu vào tệp nhỏ\n",
        "            group_data.to_csv(output_file_path, index=True)\n"
      ]
    },
    {
      "cell_type": "markdown",
      "metadata": {
        "id": "ICUE0hs0dtvi"
      },
      "source": [
        "# XÓA QUỸ ĐẠO ÍT ĐIỂM"
      ]
    },
    {
      "cell_type": "code",
      "execution_count": null,
      "metadata": {
        "id": "HVbBqMKtoIVV"
      },
      "outputs": [],
      "source": [
        "import pandas as pd\n",
        "import os\n",
        "\n",
        "# Đường dẫn đến thư mục gốc chứa các tệp CSV\n",
        "input_dir = \"/content/drive/MyDrive/filtered_data_0_1000\"  # Thay đổi đường dẫn tới thư mục gốc chứa các tệp CSV\n",
        "\n",
        "# Lặp qua tất cả các tệp CSV trong thư mục gốc\n",
        "for filename in os.listdir(input_dir):\n",
        "    if filename.endswith(\".csv\"):  # Đảm bảo chỉ xử lý các tệp CSV\n",
        "        # Đường dẫn đầy đủ đến tệp CSV\n",
        "        input_file = os.path.join(input_dir, filename)\n",
        "\n",
        "        # Kiểm tra kích thước tệp CSV\n",
        "        file_size = os.path.getsize(input_file)\n",
        "        if file_size == 0:\n",
        "            print(f\"File {filename} is empty or does not exist.\")\n",
        "            os.remove(input_file)\n",
        "        else:\n",
        "            try:\n",
        "                # Đọc dữ liệu từ tệp CSV\n",
        "                data = pd.read_csv(input_file)\n",
        "\n",
        "                # Kiểm tra số lượng điểm của dữ liệu\n",
        "                num_points = len(data)\n",
        "\n",
        "                # Nếu số lượng điểm nhỏ hơn 100, xóa tệp CSV\n",
        "                if num_points < 20:\n",
        "                    os.remove(input_file)\n",
        "            except Exception as e:\n",
        "                print(f\"Error reading file {filename}: {e}\")\n"
      ]
    },
    {
      "cell_type": "markdown",
      "metadata": {
        "id": "jpiPoHZxFqYk"
      },
      "source": [
        "#Tách quỹ đạo theo time"
      ]
    },
    {
      "cell_type": "code",
      "execution_count": null,
      "metadata": {
        "id": "xPYL09E6Fuqk"
      },
      "outputs": [],
      "source": [
        "import os\n",
        "import shutil\n",
        "import pandas as pd\n",
        "\n",
        "# Đường dẫn đến thư mục gốc chứa các tệp CSV\n",
        "input_dir = \"/content/drive/MyDrive/data_full\"  # Thay đổi đường dẫn tới thư mục gốc chứa các tệp CSV\n",
        "output_dir = \"/content/data_split\"  # Thư mục để lưu các tệp CSV đã tách\n",
        "non_split_dir = \"/content/data_non_split\"  # Thư mục để lưu các tệp không bị tách\n",
        "\n",
        "# Tạo các thư mục đầu ra nếu chúng không tồn tại\n",
        "os.makedirs(output_dir, exist_ok=True)\n",
        "os.makedirs(non_split_dir, exist_ok=True)\n",
        "\n",
        "# Ngưỡng thời gian ngắt quãng (giây)\n",
        "time_gap_threshold = 3600\n",
        "\n",
        "# Danh sách lưu trữ tên các tệp bị tách\n",
        "split_files = []\n",
        "non_split_files = []\n",
        "\n",
        "# Hàm để tách dữ liệu thành các đoạn khác nhau dựa trên khoảng thời gian ngắt quãng\n",
        "def split_trajectories(data, time_column, time_gap_threshold):\n",
        "    # Chuyển đổi cột thời gian sang định dạng thời gian\n",
        "    data[time_column] = pd.to_datetime(data[time_column])\n",
        "\n",
        "    # Tính khoảng thời gian giữa các điểm dữ liệu liên tiếp\n",
        "    data['time_diff'] = data[time_column].diff().dt.total_seconds()\n",
        "\n",
        "    # Xác định các điểm ngắt quãng dựa trên ngưỡng thời gian\n",
        "    gaps = data['time_diff'] > time_gap_threshold\n",
        "\n",
        "    # Nếu không có khoảng ngắt quãng nào vượt ngưỡng, trả về dữ liệu gốc\n",
        "    if not gaps.any():\n",
        "        return [data]\n",
        "\n",
        "    # Tạo một cột để đánh dấu các đoạn quỹ đạo khác nhau\n",
        "    data['segment'] = gaps.cumsum()\n",
        "\n",
        "    # Tách dữ liệu thành các đoạn khác nhau\n",
        "    segments = [segment_data.drop(columns=['time_diff', 'segment']) for _, segment_data in data.groupby('segment')]\n",
        "\n",
        "    return segments\n",
        "\n",
        "# Lặp qua tất cả các tệp CSV trong thư mục gốc\n",
        "for filename in os.listdir(input_dir):\n",
        "    if filename.endswith(\".csv\"):  # Đảm bảo chỉ xử lý các tệp CSV\n",
        "        # Đường dẫn đầy đủ đến tệp CSV\n",
        "        input_file = os.path.join(input_dir, filename)\n",
        "\n",
        "        # Đọc dữ liệu từ file CSV\n",
        "        data = pd.read_csv(input_file)\n",
        "\n",
        "        # Lọc các cột cần thiết\n",
        "        data = data[['time', 'lat', 'lon', 'heading', 'velocity', 'geoaltitude']]\n",
        "\n",
        "        # Tách các quỹ đạo bị ngắt quãng thời gian\n",
        "        segments = split_trajectories(data, 'time', time_gap_threshold)\n",
        "\n",
        "        # Kiểm tra xem tệp có bị ngắt quãng hay không\n",
        "        if len(segments) == 1:\n",
        "            # Sao chép tệp gốc vào thư mục không bị tách\n",
        "            shutil.copy(input_file, non_split_dir)\n",
        "            # Thêm tên tệp vào danh sách tệp không bị tách\n",
        "            non_split_files.append(filename)\n",
        "        else:\n",
        "            # Thêm tên tệp vào danh sách tệp bị tách\n",
        "            split_files.append(filename)\n",
        "\n",
        "            # Lưu từng đoạn dữ liệu vào các file mới trong thư mục đầu ra nếu bị ngắt quãng\n",
        "            for i, segment in enumerate(segments):\n",
        "                output_file = os.path.join(output_dir, f\"{os.path.splitext(filename)[0]}_part_{i+1}.csv\")\n",
        "                segment.to_csv(output_file, index=False)\n",
        "\n",
        "# In kết quả\n",
        "print(\"Quá trình tách và lưu file hoàn tất.\")\n",
        "print(\"Danh sách các tệp bị tách:\")\n",
        "print(split_files)\n",
        "print(\"Số lượng tệp bị tách:\", len(split_files))\n",
        "print(\"Danh sách các tệp không bị tách:\")\n",
        "print(non_split_files)\n",
        "print(\"Số lượng tệp không bị tách:\", len(non_split_files))\n"
      ]
    },
    {
      "cell_type": "code",
      "execution_count": null,
      "metadata": {
        "id": "zMKZbrTrE22R"
      },
      "outputs": [],
      "source": [
        "import os\n",
        "import shutil\n",
        "import pandas as pd\n",
        "\n",
        "# Đường dẫn đến thư mục chứa các tệp CSV không bị tách\n",
        "input_dir = \"/content/data_non_split\"  # Thay đổi đường dẫn tới thư mục gốc chứa các tệp CSV\n",
        "\n",
        "# Đường dẫn đến thư mục lưu các tệp CSV đã tách\n",
        "output_dir = \"/content/data_split\"\n",
        "\n",
        "# Tạo thư mục đầu ra nếu không tồn tại\n",
        "os.makedirs(output_dir, exist_ok=True)\n",
        "\n",
        "# Ngưỡng thời gian ngắt quãng (giây) cho việc kiểm tra lại\n",
        "recheck_time_gap_threshold = 10\n",
        "\n",
        "# Hàm để tách dữ liệu thành các đoạn khác nhau dựa trên khoảng thời gian ngắt quãng\n",
        "def split_trajectories(data, time_column, time_gap_threshold):\n",
        "    # Chuyển đổi cột thời gian sang định dạng thời gian\n",
        "    data[time_column] = pd.to_datetime(data[time_column])\n",
        "\n",
        "    # Tính khoảng thời gian giữa các điểm dữ liệu liên tiếp\n",
        "    data['time_diff'] = data[time_column].diff().dt.total_seconds()\n",
        "\n",
        "    # Xác định các điểm ngắt quãng dựa trên ngưỡng thời gian\n",
        "    gaps = data['time_diff'] > time_gap_threshold\n",
        "\n",
        "    # Nếu không có khoảng ngắt quãng nào vượt ngưỡng, trả về dữ liệu gốc\n",
        "    if not gaps.any():\n",
        "        return [data]\n",
        "\n",
        "    # Tạo một cột để đánh dấu các đoạn quỹ đạo khác nhau\n",
        "    data['segment'] = gaps.cumsum()\n",
        "\n",
        "    # Tách dữ liệu thành các đoạn khác nhau\n",
        "    segments = [segment_data.drop(columns=['time_diff', 'segment']) for _, segment_data in data.groupby('segment')]\n",
        "\n",
        "    return segments\n",
        "\n",
        "# Danh sách lưu trữ tên các tệp bị tách\n",
        "rechecked_split_files = []\n",
        "\n",
        "# Kiểm tra các tệp trong non_split_dir cho khoảng thời gian ngắt quãng nhỏ hơn 10 giây\n",
        "for filename in os.listdir(input_dir):\n",
        "    if filename.endswith(\".csv\"):  # Đảm bảo chỉ xử lý các tệp CSV\n",
        "        # Đường dẫn đầy đủ đến tệp CSV\n",
        "        input_file = os.path.join(input_dir, filename)\n",
        "\n",
        "        # Đọc dữ liệu từ file CSV\n",
        "        data = pd.read_csv(input_file)\n",
        "\n",
        "        # Chuyển đổi cột thời gian sang định dạng thời gian\n",
        "        data['time'] = pd.to_datetime(data['time'])\n",
        "\n",
        "        # Tính khoảng thời gian giữa các điểm dữ liệu liên tiếp\n",
        "        data['time_diff'] = data['time'].diff().dt.total_seconds()\n",
        "\n",
        "        # Kiểm tra nếu có bất kỳ khoảng thời gian ngắt quãng nào lớn hơn 10 giây\n",
        "        if (data['time_diff'] > recheck_time_gap_threshold).any():\n",
        "            # Tách dữ liệu dựa trên khoảng thời gian ngắt quãng 10 giây\n",
        "            segments = split_trajectories(data, 'time', recheck_time_gap_threshold)\n",
        "\n",
        "            # Thêm tên tệp vào danh sách tệp bị tách\n",
        "            rechecked_split_files.append(filename)\n",
        "\n",
        "            # Lưu từng đoạn dữ liệu vào các file mới trong thư mục đầu ra\n",
        "            for i, segment in enumerate(segments):\n",
        "                output_file = os.path.join(output_dir, f\"{os.path.splitext(filename)[0]}_part_{i+1}.csv\")\n",
        "                segment.to_csv(output_file, index=False)\n",
        "\n",
        "            # Xóa tệp gốc khỏi thư mục non_split_dir\n",
        "            os.remove(input_file)\n",
        "\n",
        "# In kết quả\n",
        "print(\"Quá trình kiểm tra và tách file hoàn tất.\")\n",
        "print(\"Danh sách các tệp bị tách lại do có khoảng thời gian ngắt quãng > 10 giây:\")\n",
        "print(rechecked_split_files)\n",
        "print(\"Số lượng tệp bị tách lại:\", len(rechecked_split_files))\n"
      ]
    },
    {
      "cell_type": "code",
      "execution_count": null,
      "metadata": {
        "id": "FVlXgnVQoyvr"
      },
      "outputs": [],
      "source": [
        "import pandas as pd\n",
        "import os\n",
        "\n",
        "# Đường dẫn đến thư mục gốc chứa các tệp CSV\n",
        "input_dir = \"/content/data_non_split\"  # Thay đổi đường dẫn tới thư mục gốc chứa các tệp CSV\n",
        "\n",
        "# Hàm để kiểm tra và in ra khoảng thời gian ngắt quãng lớn hơn hoặc bằng 2 giây\n",
        "def print_time_gaps(input_dir):\n",
        "    for filename in os.listdir(input_dir):\n",
        "        if filename.endswith(\".csv\"):  # Đảm bảo chỉ xử lý các tệp CSV\n",
        "            # Đường dẫn đầy đủ đến tệp CSV\n",
        "            input_file = os.path.join(input_dir, filename)\n",
        "\n",
        "            # Đọc dữ liệu từ tệp CSV\n",
        "            data = pd.read_csv(input_file)\n",
        "\n",
        "            # Chuyển đổi cột 'time' sang datetime nếu cần thiết\n",
        "            if 'time' in data.columns:\n",
        "                data['time'] = pd.to_datetime(data['time'])\n",
        "\n",
        "            # Tính toán khoảng thời gian ngắt quãng\n",
        "            if 'time' in data.columns:\n",
        "                time_diffs = data['time'].diff().dt.total_seconds().dropna()\n",
        "                if (time_diffs >= 2).any():\n",
        "                    print(f\"File: {filename}\")\n",
        "                    print(f\"Khoảng thời gian ngắt quãng >= 2 giây:\")\n",
        "                    for index, diff in time_diffs.items():  # Use .items() to iterate over (index, value) pairs\n",
        "                        if diff >= 2:\n",
        "                            print(f\"   - Row {index + 1}: {diff} giây\")\n",
        "                    print()\n",
        "\n",
        "print_time_gaps(input_dir)\n"
      ]
    },
    {
      "cell_type": "markdown",
      "metadata": {
        "id": "ymypc9AOCuiY"
      },
      "source": [
        "#Chia dữ liệu"
      ]
    },
    {
      "cell_type": "code",
      "execution_count": null,
      "metadata": {
        "id": "40IMskBqCwZB"
      },
      "outputs": [],
      "source": [
        "import os\n",
        "import pandas as pd\n",
        "from sklearn.model_selection import train_test_split\n",
        "\n",
        "# Đường dẫn đến thư mục chứa các tệp CSV của bạn\n",
        "input_folder = '/content/drive/MyDrive/merged_data'\n",
        "# Đường dẫn đến thư mục lưu trữ các tệp đã chia\n",
        "output_folder = '/content/drive/MyDrive/split_data'\n",
        "\n",
        "# Tạo thư mục đầu ra nếu chưa tồn tại\n",
        "if not os.path.exists(output_folder):\n",
        "    os.makedirs(output_folder)\n",
        "\n",
        "# Tạo các thư mục con cho các tập D1 đến D5\n",
        "for i in range(1, 6):\n",
        "    os.makedirs(os.path.join(output_folder, f'D{i}/train'), exist_ok=True)\n",
        "    os.makedirs(os.path.join(output_folder, f'D{i}/test'), exist_ok=True)\n",
        "\n",
        "# Hàm để chia và lưu các tệp CSV\n",
        "def split_csv_files(input_folder, output_folder, test_size=0.1, n_splits=5):\n",
        "    files = [f for f in os.listdir(input_folder) if f.endswith('.csv')]\n",
        "\n",
        "    for file in files:\n",
        "        df = pd.read_csv(os.path.join(input_folder, file))\n",
        "\n",
        "        for i in range(1, n_splits + 1):\n",
        "            train, test = train_test_split(df, test_size=test_size, random_state=i)\n",
        "\n",
        "            train.to_csv(os.path.join(output_folder, f'D{i}/train', file), index=False)\n",
        "            test.to_csv(os.path.join(output_folder, f'D{i}/test', file), index=False)\n",
        "            print(f'Processed {file} for split D{i}')\n",
        "\n",
        "# Gọi hàm để chia và lưu các tệp CSV\n",
        "split_csv_files(input_folder, output_folder)\n",
        "\n",
        "print(\"Completed splitting CSV files into training and test sets.\")\n"
      ]
    },
    {
      "cell_type": "code",
      "execution_count": null,
      "metadata": {
        "id": "QlpbqmpH21pF"
      },
      "outputs": [],
      "source": [
        "import pandas as pd\n",
        "import os\n",
        "\n",
        "# Đường dẫn đến thư mục gốc chứa các tệp CSV\n",
        "input_dir = \"/content/drive/MyDrive/data_full\"  # Thay đổi đường dẫn tới thư mục gốc chứa các tệp CSV\n",
        "output_dir = \"/content/drive/MyDrive/data_split\"  # Thư mục để lưu các tệp CSV mới\n",
        "os.makedirs(output_dir, exist_ok=True)\n",
        "\n",
        "# Hàm để kiểm tra và tách các quỹ đạo\n",
        "def split_trajectories(input_dir, output_dir, gap_threshold=3600):\n",
        "    for filename in os.listdir(input_dir):\n",
        "        if filename.endswith(\".csv\"):  # Đảm bảo chỉ xử lý các tệp CSV\n",
        "            # Đường dẫn đầy đủ đến tệp CSV\n",
        "            input_file = os.path.join(input_dir, filename)\n",
        "\n",
        "            # Đọc dữ liệu từ tệp CSV\n",
        "            data = pd.read_csv(input_file)\n",
        "\n",
        "            # Chuyển đổi cột 'time' sang datetime nếu cần thiết\n",
        "            if 'time' in data.columns:\n",
        "                data['time'] = pd.to_datetime(data['time'])\n",
        "\n",
        "                # Tính toán khoảng thời gian ngắt quãng\n",
        "                data['time_diff'] = data['time'].diff().dt.total_seconds()\n",
        "\n",
        "                # Tách dữ liệu thành các quỹ đạo mới\n",
        "                trajectory_id = 0\n",
        "                start_index = 0\n",
        "\n",
        "                for index, row in data.iterrows():\n",
        "                    if index > 0 and data.at[index, 'time_diff'] >= gap_threshold:\n",
        "                        # Tạo một quỹ đạo mới\n",
        "                        trajectory_id += 1\n",
        "                        trajectory_data = data.iloc[start_index:index].drop(columns=['time_diff'])\n",
        "\n",
        "                        # Lưu quỹ đạo mới vào tệp CSV\n",
        "                        output_file = os.path.join(output_dir, f\"{os.path.splitext(filename)[0]}_trajectory_{trajectory_id}.csv\")\n",
        "                        trajectory_data.to_csv(output_file, index=False)\n",
        "\n",
        "                        # Cập nhật start_index\n",
        "                        start_index = index\n",
        "\n",
        "                # Lưu quỹ đạo cuối cùng\n",
        "                if start_index < len(data):\n",
        "                    trajectory_id += 1\n",
        "                    trajectory_data = data.iloc[start_index:].drop(columns=['time_diff'])\n",
        "                    output_file = os.path.join(output_dir, f\"{os.path.splitext(filename)[0]}_trajectory_{trajectory_id}.csv\")\n",
        "                    trajectory_data.to_csv(output_file, index=False)\n",
        "\n",
        "# Thực thi hàm tách quỹ đạo\n",
        "split_trajectories(input_dir, output_dir)\n"
      ]
    },
    {
      "cell_type": "markdown",
      "metadata": {
        "id": "TGsnrV1eg-AO"
      },
      "source": [
        "# Vẽ quỹ đạo của các quỹ đạo bị ngắt quãng"
      ]
    },
    {
      "cell_type": "code",
      "execution_count": null,
      "metadata": {
        "id": "zohEUHrF7epo"
      },
      "outputs": [],
      "source": [
        "data = pd.read_csv(\"/content/drive/MyDrive/data_full/a4ffcb_2017-03-05.csv\")\n",
        "data"
      ]
    },
    {
      "cell_type": "markdown",
      "metadata": {
        "id": "Fa7B1si2wshf"
      },
      "source": [
        "# Đếm số lượng chuyến bay"
      ]
    },
    {
      "cell_type": "code",
      "execution_count": null,
      "metadata": {
        "colab": {
          "base_uri": "https://localhost:8080/"
        },
        "id": "ofj3w_VEgY21",
        "outputId": "c3fc4d98-a8fe-46bf-a96d-1184578b6f49"
      },
      "outputs": [
        {
          "name": "stdout",
          "output_type": "stream",
          "text": [
            "243\n"
          ]
        }
      ],
      "source": [
        "import pandas as pd\n",
        "import os\n",
        "\n",
        "# Đường dẫn đến thư mục gốc chứa các tệp CSV\n",
        "input_dir = \"/content/drive/MyDrive/filtered_data_0_1000\"  # Thay đổi đường dẫn tới thư mục gốc chứa các tệp CSV\n",
        "\n",
        "dem = 0\n",
        "\n",
        "# Lặp qua tất cả các tệp CSV trong thư mục gốc\n",
        "for filename in os.listdir(input_dir):\n",
        "    if filename.endswith(\".csv\"):  # Đảm bảo chỉ xử lý các tệp CSV\n",
        "        # Đường dẫn đầy đủ đến tệp CSV\n",
        "        dem = dem +1\n",
        "print(dem)"
      ]
    },
    {
      "cell_type": "markdown",
      "metadata": {
        "id": "A2fVN_DtudbS"
      },
      "source": []
    },
    {
      "cell_type": "code",
      "execution_count": null,
      "metadata": {
        "id": "sMszc3SKx8Nw"
      },
      "outputs": [],
      "source": [
        "import pandas as pd\n",
        "import os\n",
        "import matplotlib.pyplot as plt\n",
        "\n",
        "# Đường dẫn đến thư mục gốc chứa các tệp CSV\n",
        "input_dir = \"/content/drive/MyDrive/data_full\"  # Thay đổi đường dẫn tới thư mục gốc chứa các tệp CSV\n",
        "dem = 0\n",
        "# Lặp qua tất cả các tệp CSV trong thư mục gốc\n",
        "for filename in os.listdir(input_dir):\n",
        "   if filename == \"a00439_2017-01-15.csv\":\n",
        "    input_file = os.path.join(input_dir,filename)\n",
        "    print(input_file)\n"
      ]
    },
    {
      "cell_type": "code",
      "execution_count": null,
      "metadata": {
        "id": "wA8ly1MAESRa"
      },
      "outputs": [],
      "source": [
        "import os\n",
        "import shutil\n",
        "\n",
        "# Đường dẫn đến hai thư mục chứa các file CSV\n",
        "folder1 = '/content/drive/MyDrive/data_non_split'\n",
        "folder2 = '/content/drive/MyDrive/data_split'\n",
        "\n",
        "# Đường dẫn đến thư mục đầu ra để lưu trữ các file CSV đã gộp\n",
        "output_folder = '/content/drive/MyDrive/merged_data'\n",
        "\n",
        "# Tạo thư mục đầu ra nếu chưa tồn tại\n",
        "if not os.path.exists(output_folder):\n",
        "    os.makedirs(output_folder)\n",
        "\n",
        "# Hàm để gộp các file CSV từ mỗi thư mục vào thư mục đầu ra\n",
        "def merge_csv_files(input_folder, output_folder):\n",
        "    files = os.listdir(input_folder)\n",
        "    for file in files:\n",
        "        if file.endswith('.csv'):\n",
        "            shutil.copyfile(os.path.join(input_folder, file), os.path.join(output_folder, file))\n",
        "\n",
        "# Gọi hàm để gộp các file từ folder1 vào thư mục đầu ra\n",
        "merge_csv_files(folder1, output_folder)\n",
        "\n",
        "# Gọi hàm để gộp các file từ folder2 vào thư mục đầu ra\n",
        "merge_csv_files(folder2, output_folder)\n",
        "\n",
        "print(\"Đã gộp các file thành công vào thư mục\", output_folder)\n"
      ]
    },
    {
      "cell_type": "code",
      "execution_count": null,
      "metadata": {
        "id": "GjEXVbB-4Y2j"
      },
      "outputs": [],
      "source": [
        "data = pd.read_csv(\"/content/data_full/abf6ae_2017-03-14.csv\")\n",
        "data\n"
      ]
    },
    {
      "cell_type": "code",
      "execution_count": null,
      "metadata": {
        "id": "rfWeCZJn9zAW"
      },
      "outputs": [],
      "source": [
        "\n",
        "data1 = data.iloc[149:284]\n",
        "data1.to_csv(os.path.join(\"/content/drive/MyDrive/data_full\",\"split126.csv\"))\n",
        "#data2 = data.iloc[317:365]\n",
        "#data2.to_csv(os.path.join(\"/content/drive/MyDrive/data_full\",\"split43.csv\"))\n"
      ]
    },
    {
      "cell_type": "code",
      "execution_count": null,
      "metadata": {
        "id": "VjzbOiimyNBC"
      },
      "outputs": [],
      "source": [
        "import pandas as pd\n",
        "\n",
        "search_date = '2017-03-07'\n",
        "# Chuyển đổi ngày tìm kiếm sang định dạng datetime\n",
        "search_date = pd.to_datetime(search_date)\n",
        "\n",
        "# Lọc các chuyến bay trong ngày tìm kiếm và có chỉ số icao24 nhất định\n",
        "flights_on_search_date = data[(data.index.date == search_date.date()) & (data['icao24'] == '2c0516')] # tb\n",
        "\n",
        "print(flights_on_search_date)\n",
        "flights_on_search_date.to_csv(\"ex1.csv\",index = True)"
      ]
    },
    {
      "cell_type": "code",
      "execution_count": null,
      "metadata": {
        "id": "tzlun0jCg52z"
      },
      "outputs": [],
      "source": [
        "data = pd.read_csv(\"/content/data_fix_new/a4943e_2017-01-22.csv\")\n",
        " # Vẽ biểu đồ đường của cột 'geoaltitude' theo 'time'\n",
        "plt.figure(figsize=(8, 4))\n",
        "plt.plot(data['time'], data['velocity'], marker='o', linestyle='-', color='b')\n",
        "plt.xlabel('Time')\n",
        "plt.ylabel('velocity')\n",
        "plt.title(f'Velocity Over Time for {filename}')\n",
        "plt.grid(True)\n",
        "plt.show()\n"
      ]
    },
    {
      "cell_type": "code",
      "execution_count": null,
      "metadata": {
        "id": "bY9R6hajhUyp"
      },
      "outputs": [],
      "source": [
        "data = pd.read_csv(\"/content/data_loss_new/a4943e_2017-01-22.csv\")\n",
        " # Vẽ biểu đồ đường của cột 'geoaltitude' theo 'time'\n",
        "plt.figure(figsize=(8, 4))\n",
        "plt.plot(data['time'], data['velocity'], marker='o', linestyle='-', color='b')\n",
        "plt.xlabel('Time')\n",
        "plt.ylabel('velocity')\n",
        "plt.title(f'Velocity Over Time for {filename}')\n",
        "plt.grid(True)\n",
        "plt.show()"
      ]
    },
    {
      "cell_type": "code",
      "execution_count": null,
      "metadata": {
        "collapsed": true,
        "id": "nlY0YggLe8_a"
      },
      "outputs": [],
      "source": [
        "import pandas as pd\n",
        "import os\n",
        "import matplotlib.pyplot as plt\n",
        "\n",
        "# Đường dẫn đến thư mục gốc chứa các tệp CSV\n",
        "input_dir = \"/content/drive/MyDrive/data_full\"  # Thay đổi đường dẫn tới thư mục gốc chứa các tệp CSV\n",
        "\n",
        "# Lặp qua tất cả các tệp CSV trong thư mục gốc\n",
        "for filename in os.listdir(input_dir):\n",
        "    if filename.endswith(\".csv\"):  # Đảm bảo chỉ xử lý các tệp CSV\n",
        "        # Đường dẫn đầy đủ đến tệp CSV\n",
        "        input_file = os.path.join(input_dir, filename)\n",
        "\n",
        "        # Đọc dữ liệu từ tệp CSV\n",
        "        data = pd.read_csv(input_file)\n",
        "\n",
        "        # Lọc ra các hàng mà có kinh độ và vĩ độ duy nhất\n",
        "        unique_data = data.drop_duplicates(subset=['lon', 'lat'])\n",
        "\n",
        "        if len(unique_data) > 30:\n",
        "            # Sắp xếp dataframe theo cột 'time'\n",
        "            sorted_data = data.sort_values(by='time')\n",
        "\n",
        "            # Vẽ biểu đồ đường của cột 'velocity' theo 'time' với các điểm riêng biệt không nối với nhau\n",
        "            plt.figure(figsize=(8, 4))\n",
        "            plt.plot(sorted_data['time'], sorted_data['velocity'], marker='o', linestyle='', color='b')\n",
        "            plt.xlabel('Time')\n",
        "            plt.ylabel('Velocity')\n",
        "            plt.title(f'Velocity Over Time for {filename}')\n",
        "            plt.grid(True)\n",
        "            plt.show()\n"
      ]
    },
    {
      "cell_type": "code",
      "execution_count": null,
      "metadata": {
        "collapsed": true,
        "id": "lpEP2T7iRyXI"
      },
      "outputs": [],
      "source": [
        "import pandas as pd\n",
        "import os\n",
        "import matplotlib.pyplot as plt\n",
        "\n",
        "input_dir = \"/content/data_full\"\n",
        "for filename in os.listdir(input_dir):\n",
        "    input_file = os.path.join(input_dir, filename)\n",
        "    data = pd.read_csv(input_file)\n",
        "\n",
        "    # Vẽ quỹ đạo của từng chuyến bay\n",
        "    plt.figure(figsize=(8, 4))\n",
        "    plt.plot(data['lon'], data['lat'], marker='o', linestyle='-', color='b')\n",
        "    plt.xlabel('Longitude')\n",
        "    plt.ylabel('Latitude')\n",
        "    plt.title(f'Flight Trajectory of {filename}')\n",
        "    plt.grid(True)\n",
        "    plt.show()\n"
      ]
    },
    {
      "cell_type": "code",
      "execution_count": null,
      "metadata": {
        "id": "ZHvQyg7gJzNP"
      },
      "outputs": [],
      "source": [
        "import pandas as pd\n",
        "import os\n",
        "\n",
        "# Đường dẫn đến thư mục gốc chứa các tệp CSV\n",
        "input_dir = \"/content/data_train\"  # Thay đổi đường dẫn tới thư mục gốc chứa các tệp CSV\n",
        "output_dir = \"data_full\"  # Thay đổi đường dẫn tới thư mục lưu các tệp nhỏ theo ngày\n",
        "os.makedirs(output_dir, exist_ok=True)\n",
        "\n",
        "# Lặp qua tất cả các tệp CSV trong thư mục gốc\n",
        "for filename in os.listdir(input_dir):\n",
        "    if filename.endswith(\".csv\"):  # Đảm bảo chỉ xử lý các tệp CSV\n",
        "        # Đường dẫn đầy đủ đến tệp CSV\n",
        "        input_file = os.path.join(input_dir, filename)\n",
        "\n",
        "        # Đọc dữ liệu từ tệp CSV\n",
        "        data = pd.read_csv(input_file)\n",
        "\n",
        "        # Kiểm tra các cột \"heading\", \"velocity\", và \"geoaltitude\" không chứa giá trị null\n",
        "        if data[\"heading\"].notnull().all() and data[\"velocity\"].notnull().all() and data[\"geoaltitude\"].notnull().all():\n",
        "            # Lưu DataFrame đã được lọc vào một tệp mới\n",
        "\n",
        "            output_file = os.path.join(output_dir, filename)\n",
        "            data.to_csv(output_file, index=False)\n",
        "            os.remove( input_file)\n"
      ]
    },
    {
      "cell_type": "code",
      "execution_count": null,
      "metadata": {
        "collapsed": true,
        "id": "VY30FNl1lw8g"
      },
      "outputs": [],
      "source": [
        "import pandas as pd\n",
        "import os\n",
        "\n",
        "# Đường dẫn đến thư mục gốc chứa các tệp CSV\n",
        "input_dir = \"/content/data_loss_new\"  # Thay đổi đường dẫn tới thư mục gốc chứa các tệp CSV\n",
        "\n",
        "# Lặp qua tất cả các tệp CSV trong thư mục gốc\n",
        "for filename in os.listdir(input_dir):\n",
        "    if filename.endswith(\".csv\"):  # Đảm bảo chỉ xử lý các tệp CSV\n",
        "        # Đường dẫn đầy đủ đến tệp CSV\n",
        "        input_file = os.path.join(input_dir, filename)\n",
        "\n",
        "        # Đọc dữ liệu từ tệp CSV\n",
        "        data = pd.read_csv(input_file)\n",
        "\n",
        "        # Kiểm tra xem cột \"heading\" có giá trị null không\n",
        "        if data[\"heading\"].isnull().any():\n",
        "            # Tính số dòng dữ liệu thiếu\n",
        "            missing_rows = data[\"heading\"].isnull().sum()\n",
        "\n",
        "            # Tính tổng số dòng dữ liệu\n",
        "            total_rows = len(data)\n",
        "\n",
        "            # In ra số dòng dữ liệu thiếu và tổng số dòng dữ liệu\n",
        "            print(f\"File: {filename}, Missing Rows: {missing_rows}, Total Rows: {total_rows}\")\n"
      ]
    },
    {
      "cell_type": "code",
      "execution_count": null,
      "metadata": {
        "id": "SdN1PoKHPOgP"
      },
      "outputs": [],
      "source": [
        "import os\n",
        "import pandas as pd\n",
        "from scipy.interpolate import interp1d\n",
        "\n",
        "input_dir = \"/content/data_full_loss\"\n",
        "output_dir = \"data_fix_new\"\n",
        "\n",
        "# Tạo thư mục đầu ra nếu nó chưa tồn tại\n",
        "os.makedirs(output_dir, exist_ok=True)\n",
        "\n",
        "# Duyệt qua từng tệp trong thư mục đầu vào\n",
        "for file_name in os.listdir(input_dir):\n",
        "    input_file = os.path.join(input_dir, file_name)\n",
        "    data = pd.read_csv(input_file)\n",
        "\n",
        "    # Sắp xếp dữ liệu theo cột 'time'\n",
        "    data = data.sort_values(by='time')\n",
        "\n",
        "    # Duyệt qua từng cột\n",
        "    for col in [\"heading\", \"velocity\", \"geoaltitude\"]:\n",
        "        # Kiểm tra giá trị thiếu trong cột\n",
        "        missing_values = data[col].isnull()\n",
        "\n",
        "        # Nếu có giá trị thiếu trong cột\n",
        "        if missing_values.any():\n",
        "            # Đảo ngược dữ liệu\n",
        "            reversed_data = data[::-1]\n",
        "\n",
        "            # Tạo một mảng chứa chỉ số của các giá trị không thiếu\n",
        "            non_missing_indices = reversed_data.index[~missing_values[::-1]]\n",
        "\n",
        "            # Tạo một mảng chứa các giá trị không thiếu\n",
        "            non_missing_values = reversed_data[col][~missing_values[::-1]]\n",
        "\n",
        "            # Tạo một hàm spline bậc 3 dựa trên các giá trị không thiếu\n",
        "            spline_func = interp1d(non_missing_indices, non_missing_values, kind=\"cubic\", fill_value=\"extrapolate\")\n",
        "\n",
        "            # Dự đoán các giá trị thiếu bằng cách sử dụng hàm spline\n",
        "            predicted_values = spline_func(reversed_data.index)\n",
        "\n",
        "            # Cập nhật các giá trị thiếu trong cột bằng các giá trị được dự đoán\n",
        "            data[col] = predicted_values[::-1]  # Đảo ngược lại dữ liệu\n",
        "\n",
        "    # Lưu dataframe đã được điều chỉnh vào một tệp CSV mới trong thư mục đầu ra\n",
        "    output_file = os.path.join(output_dir, file_name)\n",
        "    data.to_csv(output_file, index=False)\n"
      ]
    },
    {
      "cell_type": "code",
      "execution_count": null,
      "metadata": {
        "id": "V0xw0WvXL48b"
      },
      "outputs": [],
      "source": [
        "data1 = data1[[\"lat\",\"lon\",\"velocity\",\"heading\",\"geoaltitude\"]]\n",
        "data1"
      ]
    },
    {
      "cell_type": "markdown",
      "metadata": {
        "id": "lDBtxqw8F8Tw"
      },
      "source": [
        "#Xóa Thư Mục\n"
      ]
    },
    {
      "cell_type": "code",
      "execution_count": null,
      "metadata": {
        "id": "rEDrkzuM7V2I"
      },
      "outputs": [],
      "source": [
        "import os\n",
        "\n",
        "# Đường dẫn đến thư mục gốc\n",
        "root_directory = \"/content/drive/MyDrive/processed_data\"\n",
        "\n",
        "# Lặp qua tất cả các đối tượng trong thư mục gốc\n",
        "for item in os.listdir(root_directory):\n",
        "    item_path = os.path.join(root_directory, item)\n",
        "    # Kiểm tra xem đối tượng là một tệp hay không\n",
        "    if os.path.isfile(item_path):\n",
        "        # Xóa tệp con\n",
        "        os.remove(item_path)\n"
      ]
    },
    {
      "cell_type": "code",
      "execution_count": null,
      "metadata": {
        "colab": {
          "base_uri": "https://localhost:8080/"
        },
        "id": "Xo_TZ8eRfNCD",
        "outputId": "b0bc2391-8f50-4caa-953e-cfb3bd758cfa"
      },
      "outputs": [
        {
          "name": "stdout",
          "output_type": "stream",
          "text": [
            "Merged data saved to: /content/data_full_fix(3).csv\n"
          ]
        }
      ],
      "source": [
        "import os\n",
        "import pandas as pd\n",
        "\n",
        "input_dir = \"/content/drive/MyDrive/data_full\"\n",
        "\n",
        "\n",
        "# Khởi tạo một DataFrame rỗng để lưu trữ dữ liệu gộp\n",
        "merged_data = pd.DataFrame()\n",
        "\n",
        "# Lặp qua từng tệp trong thư mục input_dir\n",
        "for filename in os.listdir(input_dir):\n",
        "    if filename.endswith(\".csv\"):\n",
        "        input_file = os.path.join(input_dir, filename)\n",
        "\n",
        "        # Đọc dữ liệu từ mỗi tệp CSV và gộp vào DataFrame merged_data\n",
        "        data = pd.read_csv(input_file)\n",
        "        merged_data = pd.concat([merged_data, data], ignore_index=True)\n",
        "\n",
        "# Chọn các cột cần thiết từ merged_data\n",
        "merged_data = merged_data[[\"time\", \"icao24\", \"lat\", \"lon\", \"velocity\", \"heading\", \"geoaltitude\"]]\n",
        "\n",
        "# Lưu DataFrame merged_data vào tệp CSV mới\n",
        "merged_data.to_csv(output_file, index=False)\n",
        "\n",
        "print(\"Merged data saved to:\", output_file)\n"
      ]
    },
    {
      "cell_type": "code",
      "execution_count": null,
      "metadata": {
        "id": "YwiPmQvjTcWX"
      },
      "outputs": [],
      "source": [
        "import os\n",
        "import pandas as pd\n",
        "\n",
        "input_dir = \"/content/data_non_split\"\n",
        "\n",
        "# Lặp qua từng tệp trong thư mục input_dir\n",
        "for filename in os.listdir(input_dir):\n",
        "    if filename.endswith(\".csv\"):\n",
        "        input_file = os.path.join(input_dir, filename)\n",
        "        data = pd.read_csv(input_file)\n",
        "        output = os.path.join(\"/content/data_split\",filename)\n",
        "\n",
        "        data.to_csv(output, index = False)\n",
        "\n"
      ]
    },
    {
      "cell_type": "code",
      "execution_count": null,
      "metadata": {
        "id": "lx5q5f9-M1a_"
      },
      "outputs": [],
      "source": [
        "import os\n",
        "import pandas as pd\n",
        "\n",
        "input_dir = \"/content/drive/MyDrive/data_full\"\n",
        "\n",
        "dem = 0\n",
        "# Lặp qua từng tệp trong thư mục input_dir\n",
        "for filename in os.listdir(input_dir):\n",
        "    if filename.endswith(\".csv\"):\n",
        "        input_file = os.path.join(input_dir, filename)\n",
        "        data = pd.read_csv(input_file)\n",
        "        if dem <10 :\n",
        "            output = os.path.join(\"/content/drive/MyDrive/data_test\",filename)\n",
        "            data.to_csv(output, index = False)\n",
        "            dem = dem + 1\n",
        "            os.remove(input_file)\n",
        "\n"
      ]
    },
    {
      "cell_type": "code",
      "execution_count": null,
      "metadata": {
        "id": "wLJc0JqDuJhl"
      },
      "outputs": [],
      "source": [
        "import os\n",
        "import shutil\n",
        "import pandas as pd\n",
        "\n",
        "# Đường dẫn đến thư mục gốc chứa các tệp CSV\n",
        "input_dir = \"/content/data_full\"  # Thay đổi đường dẫn tới thư mục gốc chứa các tệp CSV\n",
        "output_dir = \"/content/data_split\"  # Thư mục để lưu các tệp CSV đã tách\n",
        "\n",
        "# Tạo thư mục đầu ra nếu nó không tồn tại\n",
        "os.makedirs(output_dir, exist_ok=True)\n",
        "\n",
        "# Ngưỡng thời gian ngắt quãng (giây)\n",
        "time_gap_threshold = 10 * 60  # 10 phút\n",
        "\n",
        "# Hàm để tách dữ liệu thành các đoạn khác nhau dựa trên khoảng thời gian ngắt quãng\n",
        "def split_trajectories(data, time_column, time_gap_threshold):\n",
        "    # Chuyển đổi cột thời gian sang định dạng thời gian\n",
        "    data[time_column] = pd.to_datetime(data[time_column])\n",
        "\n",
        "    # Tính khoảng thời gian giữa các điểm dữ liệu liên tiếp\n",
        "    data['time_diff'] = data[time_column].diff().dt.total_seconds()\n",
        "\n",
        "    # Xác định các điểm ngắt quãng dựa trên ngưỡng thời gian\n",
        "    gaps = data['time_diff'] > time_gap_threshold\n",
        "\n",
        "    # Nếu không có khoảng ngắt quãng nào vượt ngưỡng, trả về dữ liệu gốc\n",
        "    if not gaps.any():\n",
        "        return [data]\n",
        "\n",
        "    # Tạo một cột để đánh dấu các đoạn quỹ đạo khác nhau\n",
        "    data['segment'] = gaps.cumsum()\n",
        "\n",
        "    # Tách dữ liệu thành các đoạn khác nhau\n",
        "    segments = [segment_data.drop(columns=['time_diff', 'segment']) for _, segment_data in data.groupby('segment')]\n",
        "\n",
        "    return segments\n",
        "\n",
        "# Lặp qua tất cả các tệp CSV trong thư mục gốc\n",
        "for filename in os.listdir(input_dir):\n",
        "    if filename.endswith(\".csv\"):  # Đảm bảo chỉ xử lý các tệp CSV\n",
        "        # Đường dẫn đầy đủ đến tệp CSV\n",
        "        input_file = os.path.join(input_dir, filename)\n",
        "\n",
        "        # Sao chép tệp gốc vào thư mục đầu ra\n",
        "        shutil.copy(input_file, output_dir)\n",
        "\n",
        "        # Đọc dữ liệu từ file CSV\n",
        "        data = pd.read_csv(input_file)\n",
        "\n",
        "        # Tách các quỹ đạo bị ngắt quãng thời gian\n",
        "        segments = split_trajectories(data, 'time', time_gap_threshold)\n",
        "\n",
        "        # Lưu từng đoạn dữ liệu vào các file mới trong thư mục đầu ra\n",
        "        for i, segment in enumerate(segments):\n",
        "            output_file = os.path.join(output_dir, f\"{os.path.splitext(filename)[0]}_part_{i+1}.csv\")\n",
        "            segment.to_csv(output_file, index=False)\n",
        "\n",
        "print(\"Quá trình tách và lưu file hoàn tất.\")\n"
      ]
    },
    {
      "cell_type": "markdown",
      "metadata": {
        "id": "DIee65okspoX"
      },
      "source": [
        "# Biến đổi sang tọa độ trụ\n"
      ]
    },
    {
      "cell_type": "code",
      "execution_count": null,
      "metadata": {
        "id": "69wl9srbswKw"
      },
      "outputs": [],
      "source": [
        "import os\n",
        "import pandas as pd\n",
        "import numpy as np\n",
        "from math import radians, sin, cos, asin, sqrt, atan2\n",
        "\n",
        "# Constants\n",
        "D_max = 328084  # feet\n",
        "A_max = 39370  # feet\n",
        "\n",
        "# Coordinates of ATL airport\n",
        "airport_coords = (-84.4277, 33.6407, 1026)  # (longitude, latitude, altitude) of ATL\n",
        "\n",
        "def haversine_3d(lat1, lon1, alt1, lat2, lon2, alt2):\n",
        "    R = 6371.0  # Radius of the Earth in km\n",
        "\n",
        "    dlat = radians(lat2 - lat1)\n",
        "    dlon = radians(lon2 - lon1)\n",
        "    dalt = alt2 - alt1  # altitude difference in feet\n",
        "\n",
        "    a = sin(dlat / 2)**2 + cos(radians(lat1)) * cos(radians(lat2)) * sin(dlon / 2)**2\n",
        "    c = 2 * atan2(sqrt(a), sqrt(1 - a))\n",
        "\n",
        "    distance_horizontal = R * c * 3280.84  # Horizontal distance in feet\n",
        "    distance = sqrt(distance_horizontal**2 + dalt**2)  # Total distance\n",
        "\n",
        "    return distance_horizontal, distance\n",
        "\n",
        "def transform_coordinates(df, airport_coords, D_max, A_max):\n",
        "    long_ap, lat_ap, alt_ap = airport_coords\n",
        "    transformed_data = []\n",
        "\n",
        "    for _, row in df.iterrows():\n",
        "        long_fp, lat_fp, alt_fp = row['lon'], row['lat'], row['geoaltitude']\n",
        "\n",
        "        # Calculate distances and angles\n",
        "        distance_horizontal, distance = haversine_3d(lat_ap, long_ap, alt_ap, lat_fp, long_fp, alt_fp)\n",
        "        R = distance / D_max\n",
        "        theta = atan2(long_fp - long_ap, lat_fp - lat_ap)\n",
        "        h = (alt_fp - alt_ap) / A_max\n",
        "\n",
        "        transformed_data.append([R, theta, h])\n",
        "\n",
        "    return pd.DataFrame(transformed_data, columns=['R', 'theta', 'h'])\n",
        "\n",
        "# Directory path\n",
        "input_dir = \"/content/drive/MyDrive/split_data/D2/test\"\n",
        "\n",
        "# Process each file in the input directory\n",
        "for filename in os.listdir(input_dir):\n",
        "    if filename.endswith(\".csv\"):\n",
        "        input_file = os.path.join(input_dir, filename)\n",
        "\n",
        "        # Read data from CSV file\n",
        "        data = pd.read_csv(input_file)\n",
        "\n",
        "        # Select the columns to transform\n",
        "        coords_df = data[['lat', 'lon', 'geoaltitude']]\n",
        "\n",
        "        # Transform coordinates to cylindrical\n",
        "        transformed_coords = transform_coordinates(coords_df, airport_coords, D_max, A_max)\n",
        "\n",
        "        # Keep other columns intact\n",
        "        other_cols = data.drop(columns=['lat', 'lon', 'geoaltitude'])\n",
        "\n",
        "        # Combine transformed coordinates with other columns\n",
        "        transformed_df = pd.concat([other_cols, transformed_coords], axis=1)\n",
        "\n",
        "        # Save the transformed data to the same CSV file\n",
        "        transformed_df.to_csv(input_file, index=False)\n",
        "\n",
        "        print(f\"Transformed and saved: {input_file}\")\n"
      ]
    },
    {
      "cell_type": "markdown",
      "metadata": {
        "id": "5AwdeaAB6dkX"
      },
      "source": [
        "# Chuyển từ tọa độ trụ sang tọa độ địa lý"
      ]
    },
    {
      "cell_type": "code",
      "execution_count": null,
      "metadata": {
        "colab": {
          "background_save": true
        },
        "id": "xZmrqWge6kEk",
        "collapsed": true
      },
      "outputs": [],
      "source": [
        "import pandas as pd\n",
        "import numpy as np\n",
        "from math import radians, degrees, sin, cos, asin, sqrt, atan2, acos\n",
        "\n",
        "# Constants\n",
        "D_max = 328084  # feet\n",
        "A_max = 39370  # feet\n",
        "\n",
        "# Coordinates of ATL airport\n",
        "airport_coords = (-84.4277, 33.6407, 1026)  # (longitude, latitude, altitude) of ATL\n",
        "\n",
        "def cylindrical_to_geographic(R, theta, h, airport_coords, D_max, A_max):\n",
        "    long_ap, lat_ap, alt_ap = airport_coords\n",
        "\n",
        "    # Reverse transform\n",
        "    distance = R * D_max\n",
        "    alt_fp = h * A_max + alt_ap\n",
        "\n",
        "    # Calculate horizontal distance\n",
        "    distance_horizontal = sqrt(distance**2 - (alt_fp - alt_ap)**2)\n",
        "\n",
        "    # Calculate lat/lon differences\n",
        "    dlon = distance_horizontal * sin(theta) / 3280.84 / 6371.0  # Convert to radians\n",
        "    dlat = acos((cos(distance / 3280.84 / 6371.0) - cos(radians(lat_ap)) * cos(radians(lat_ap + dlon))) / (sin(radians(lat_ap)) * sin(radians(lat_ap + dlon))))\n",
        "\n",
        "    # Adjust signs based on theta\n",
        "    if theta < 0:\n",
        "        dlon = -dlon\n",
        "        dlat = -dlat\n",
        "\n",
        "    lat_fp = degrees(dlat) + lat_ap\n",
        "    long_fp = degrees(dlon) + long_ap\n",
        "\n",
        "    return lat_fp, long_fp, alt_fp\n",
        "\n",
        "def transform_back_coordinates(df, airport_coords, D_max, A_max):\n",
        "    transformed_data = []\n",
        "\n",
        "    for _, row in df.iterrows():\n",
        "        R, theta, h = row['R'], row['theta'], row['h']\n",
        "\n",
        "        lat_fp, long_fp, alt_fp = cylindrical_to_geographic(R, theta, h, airport_coords, D_max, A_max)\n",
        "        transformed_data.append([lat_fp, long_fp, alt_fp])\n",
        "\n",
        "    return pd.DataFrame(transformed_data, columns=['lat', 'lon', 'geoaltitude'])\n",
        "\n",
        "# Input and output file paths\n",
        "input_file = \"/content/drive/MyDrive/tọa_độ_địa_lý/file_train.csv\"\n",
        "output_file = \"/content/drive/MyDrive/tọa_độ_địa_lý/file1.csv\"\n",
        "\n",
        "# Read data from CSV file\n",
        "data = pd.read_csv(input_file)\n",
        "\n",
        "# Select the columns to transform\n",
        "coords_df = data[['R', 'theta', 'h']]\n",
        "\n",
        "# Transform coordinates back to geographic\n",
        "transformed_coords = transform_back_coordinates(coords_df, airport_coords, D_max, A_max)\n",
        "\n",
        "# Keep other columns intact\n",
        "other_cols = data.drop(columns=['R', 'theta', 'h'])\n",
        "\n",
        "# Combine transformed coordinates with other columns\n",
        "transformed_df = pd.concat([other_cols, transformed_coords], axis=1)\n",
        "\n",
        "# Save the transformed data to a new CSV file\n",
        "transformed_df.to_csv(output_file, index=False)\n",
        "\n",
        "print(f\"Transformed back and saved: {output_file}\")\n"
      ]
    },
    {
      "cell_type": "code",
      "execution_count": null,
      "metadata": {
        "id": "MEsUH2vJ9hLA"
      },
      "outputs": [],
      "source": [
        "import matplotlib.pyplot as plt\n",
        "import numpy as np\n",
        "\n",
        "# Tạo figure và axes 3D\n",
        "fig = plt.figure()\n",
        "ax = fig.add_subplot(projection='3d')\n",
        "\n",
        "# Tạo mesh trong tọa độ trụ và tính toán giá trị Z tương ứng\n",
        "r = np.linspace(0, 1.25, 50)\n",
        "theta = np.linspace(0, 2 * np.pi, 50)\n",
        "R, Theta = np.meshgrid(r, theta)\n",
        "Z = ((R**2 - 1)**2)\n",
        "\n",
        "# Chuyển đổi sang tọa độ Đề-các để vẽ\n",
        "X = R * np.cos(Theta)\n",
        "Y = R * np.sin(Theta)\n",
        "\n",
        "# Vẽ bề mặt\n",
        "ax.plot_surface(X, Y, Z, cmap=plt.cm.YlGnBu_r)\n",
        "\n",
        "# Đặt giới hạn và nhãn\n",
        "ax.set_zlim(0, 1)\n",
        "ax.set_xlabel(r'$r$ (bán kính)')\n",
        "ax.set_ylabel(r'$\\theta$ (góc)')\n",
        "ax.set_zlabel(r'$V(r, \\theta)$')\n",
        "\n",
        "plt.show()\n"
      ]
    },
    {
      "cell_type": "markdown",
      "metadata": {
        "id": "mXRa7fWr1quY"
      },
      "source": [
        "#Train Model CNN + LSTM"
      ]
    },
    {
      "cell_type": "code",
      "execution_count": null,
      "metadata": {
        "id": "ozSfCI4_GgQp"
      },
      "outputs": [],
      "source": [
        "import numpy as np\n",
        "# Khai báo hàm Windowing (dùng để tạo các cặp X, y cho time series data)\n",
        "def slicing_window(df, df_start_idx, df_end_idx, input_size, label_size, offset, label_name,label_feature):\n",
        "    features = [] # Khai báo list dùng để lưu trữ các X\n",
        "    labels = [] # Khai báo list dùng để lưu trữ các y\n",
        "\n",
        "    # Nếu df_end_idx = chỉ mục cuối cùng bảng dữ liệu, cần phải dời xuống 1 khoảng = window size\n",
        "    if df_end_idx == None:\n",
        "        df_end_idx = len(df) - label_size - offset\n",
        "\n",
        "    df_start_idx = df_start_idx + input_size + offset\n",
        "\n",
        "    # Duyệt qua từng mẫu dữ liệu\n",
        "    for idx in range(df_start_idx, df_end_idx):\n",
        "        feature_start_idx = idx - input_size - offset\n",
        "        feature_end_idx = feature_start_idx + input_size\n",
        "\n",
        "        label_start_idx = idx - 1\n",
        "        label_end_idx = label_start_idx + label_size\n",
        "\n",
        "        feature = df[label_feature][feature_start_idx:feature_end_idx] # Lấy X\n",
        "        label = df[label_name][label_start_idx:label_end_idx] # Lấy y\n",
        "\n",
        "        features.append(feature)\n",
        "        labels.append(label)\n",
        "\n",
        "    # Chuyển list thành np.ndarrray\n",
        "    features = np.array(features)\n",
        "    labels = np.array(labels)\n",
        "\n",
        "    return features, labels"
      ]
    },
    {
      "cell_type": "markdown",
      "metadata": {
        "id": "UWImBXBI03nY"
      },
      "source": [
        "#MÔ Hình CNN+LSTM"
      ]
    },
    {
      "cell_type": "code",
      "execution_count": null,
      "metadata": {
        "collapsed": true,
        "id": "xcS9hTWsYYNp"
      },
      "outputs": [],
      "source": [
        "import tensorflow as tf\n",
        "from tensorflow.keras.layers import Conv1D, MaxPooling1D, Dropout, LSTM, Dense\n",
        "\n",
        "def build_model(input_shape, output_size):\n",
        "    model = tf.keras.Sequential([\n",
        "\n",
        "        tf.keras.Input(shape=input_shape, name='input_layer'),\n",
        "\n",
        "        normalize_layer,\n",
        "\n",
        "        # Convolutional Layer 1\n",
        "        Conv1D(filters=64, kernel_size=3, activation='relu', padding='same', name='conv1d_layer_1'),\n",
        "\n",
        "        # MaxPooling Layer 1\n",
        "        MaxPooling1D(pool_size=2, strides=2, name='maxpooling1d_layer_1'),\n",
        "\n",
        "\n",
        "        Conv1D(filters=64, kernel_size=3, activation='relu', padding='same', name='conv1d_layer_2'),\n",
        "\n",
        "\n",
        "        MaxPooling1D(pool_size=2, strides=2, name='maxpooling1d_layer_2'),\n",
        "\n",
        "        # LSTM Layer 1\n",
        "        LSTM(64, return_sequences=True, name='lstm_layer_1'),\n",
        "        Dropout(0.2, name='dropout_layer_1'),  # Dropout layer after the first LSTM layer\n",
        "\n",
        "        # LSTM Layer 2\n",
        "        LSTM(64, return_sequences=False, name='lstm_layer_2'),\n",
        "        Dropout(0.2, name='dropout_layer_2'),  # Dropout layer after the second LSTM layer\n",
        "\n",
        "        # Fully Connected Layer\n",
        "        Dense(64, activation='relu', name='fc_layer_1'),\n",
        "\n",
        "        # Dropout Layer\n",
        "        Dropout(0.1, name='dropout_layer_3'),\n",
        "\n",
        "        # Output Layer\n",
        "        Dense(output_size, name='output_layer')\n",
        "    ], name='lstm_model')\n",
        "\n",
        "    return model\n",
        "\n",
        "\n"
      ]
    },
    {
      "cell_type": "markdown",
      "metadata": {
        "id": "4xOD6KNSki5e"
      },
      "source": [
        "#Model LSTM"
      ]
    },
    {
      "cell_type": "code",
      "execution_count": null,
      "metadata": {
        "id": "EUn1qE0YkmmM"
      },
      "outputs": [],
      "source": [
        "import tensorflow as tf\n",
        "from tensorflow.keras.layers import Conv1D, MaxPooling1D, Dropout\n",
        "\n",
        "def build_modelLSTM(input_shape, output_size):\n",
        "    model = tf.keras.Sequential([\n",
        "\n",
        "        tf.keras.Input(shape=input_shape, name='input_layer'),\n",
        "\n",
        "        normalize_layer,\n",
        "\n",
        "        tf.keras.layers.LSTM(132,\n",
        "                             return_sequences=True,\n",
        "                             name='lstm_layer_1'),\n",
        "        Dropout(0.2),\n",
        "\n",
        "\n",
        "        tf.keras.layers.LSTM(64,\n",
        "                             return_sequences=False,\n",
        "                             name='lstm_layer_2'),\n",
        "\n",
        "\n",
        "        Dropout(0.2),\n",
        "\n",
        "        tf.keras.layers.Dense(150,\n",
        "                              activation='relu',\n",
        "                              name='fc_layer_1'\n",
        "                              ),\n",
        "\n",
        "\n",
        "\n",
        "         Dropout(0.3),\n",
        "        tf.keras.layers.Dense(output_size, name='output_layer')\n",
        "    ],\n",
        "    name='lstm_model')\n",
        "\n",
        "    return model\n"
      ]
    },
    {
      "cell_type": "markdown",
      "metadata": {
        "id": "-X6KqxQE3d9r"
      },
      "source": [
        "#Train model"
      ]
    },
    {
      "cell_type": "code",
      "execution_count": null,
      "metadata": {
        "collapsed": true,
        "id": "-_6qV1cdKEUZ"
      },
      "outputs": [],
      "source": [
        "import os\n",
        "import pandas as pd\n",
        "import numpy as np\n",
        "import tensorflow as tf\n",
        "from tensorflow.keras.models import load_model\n",
        "\n",
        "\n",
        "# Đường dẫn đến thư mục chứa các file CSV\n",
        "input_dir = \"/content/drive/MyDrive/transformed_data\"\n",
        "previous_model_weights = \"/content/drive/MyDrive/model/model2/model_transformed_a93337_2016-12-02.csv.h5\"\n",
        "\n",
        "# Lặp qua tất cả các file CSV trong thư mục\n",
        "for filename in os.listdir(input_dir):\n",
        "    if filename.endswith(\".csv\"):\n",
        "        # Đường dẫn đầy đủ đến file CSV\n",
        "        file_path = os.path.join(input_dir, filename)\n",
        "\n",
        "        # Đọc dữ liệu từ file CSV\n",
        "        data = pd.read_csv(file_path)\n",
        "\n",
        "        # Khởi tạo dữ liệu cho tập train, val\n",
        "        INPUT_SIZE = 6\n",
        "        LABEL_SIZE = 1\n",
        "        OFFSET = 1\n",
        "        BATCH_SIZE = 64\n",
        "        feature = [\"R\", \"theta\", \"h\", \"heading\", \"velocity\"]\n",
        "        TARGET_NAME = [\"R\", \"theta\", \"h\"]\n",
        "\n",
        "        dataset_length = len(data)\n",
        "        TRAIN_SIZE = 1\n",
        "        #VAL_SIZE = 0.2\n",
        "\n",
        "        # Đổi tỷ lệ thành chỉ mục\n",
        "        TRAIN_END_IDX = int(TRAIN_SIZE * dataset_length)\n",
        "       # VAL_END_IDX = int(VAL_SIZE * dataset_length) + TRAIN_END_IDX\n",
        "\n",
        "        # Khởi tạo X, y cho tập train\n",
        "        X_train, y_train = slicing_window(data, 0, TRAIN_END_IDX, INPUT_SIZE, LABEL_SIZE, OFFSET, TARGET_NAME, feature)\n",
        "\n",
        "        # Khởi tạo X, y cho tập val\n",
        "        #X_val, y_val = slicing_window(data, TRAIN_END_IDX, VAL_END_IDX, INPUT_SIZE, LABEL_SIZE, OFFSET, TARGET_NAME, feature)\n",
        "\n",
        "        # In hình dạng để gỡ lỗi\n",
        "        print(f\"X_train shape: {X_train.shape}, y_train shape: {y_train.shape}\")\n",
        "       # print(f\"X_val shape: {X_val.shape}, y_val shape: {y_val.shape}\")\n",
        "\n",
        "\n",
        "        if X_train.shape[-1] != len(feature) or y_train.shape[-1] != len(TARGET_NAME):\n",
        "            raise ValueError(\"Feature hoặc target shape không khớp!\")\n",
        "\n",
        "        # Khởi tạo tf.data.Dataset\n",
        "        train_ds = tf.data.Dataset.from_tensor_slices((X_train, y_train)).batch(BATCH_SIZE)\n",
        "        #val_ds = tf.data.Dataset.from_tensor_slices((X_val, y_val)).batch(BATCH_SIZE)\n",
        "\n",
        "        # Cấu hình các tham số tối ưu cho việc đọc dữ liệu\n",
        "        AUTOTUNE = tf.data.AUTOTUNE\n",
        "        train_ds = train_ds.cache().prefetch(buffer_size=AUTOTUNE)\n",
        "        #val_ds = val_ds.cache().prefetch(buffer_size=AUTOTUNE)\n",
        "\n",
        "        # Khai báo normalization layer và adapt nó\n",
        "        normalize_layer = tf.keras.layers.Normalization()\n",
        "        normalize_layer.adapt(np.vstack((X_train)))\n",
        "\n",
        "        input_size = X_train.shape[1:]  # Đặt kích thước input chính xác\n",
        "\n",
        "        model = build_model(input_size, 3)\n",
        "        model.summary()\n",
        "\n",
        "        if previous_model_weights:\n",
        "            try:\n",
        "                model.load_weights(previous_model_weights)\n",
        "                print(f\"Successfully loaded weights from {previous_model_weights}\")\n",
        "            except Exception as e:\n",
        "                print(f\"Failed to load weights from {previous_model_weights}: {e}\")\n",
        "\n",
        "        # Khai báo một số giá trị siêu tham số\n",
        "        EPOCHS = 200\n",
        "        LR = 1e-3\n",
        "\n",
        "        # Cấu hình thông tin cho mô hình\n",
        "        model.compile(\n",
        "            optimizer=tf.keras.optimizers.Adam(learning_rate=LR),\n",
        "            loss=tf.keras.losses.MeanAbsoluteError(),\n",
        "        )\n",
        "\n",
        "        # Train mô hình\n",
        "        history = model.fit(train_ds, epochs=EPOCHS)\n",
        "\n",
        "\n",
        "        # Lưu mô hình\n",
        "        output = os.path.join(\"/content/drive/MyDrive/model/model2\", f\"model_{filename}.h5\")\n",
        "        model.save(output)\n",
        "\n",
        "        previous_model_weights = output\n",
        "        os.remove(file_path)\n",
        "\n"
      ]
    },
    {
      "cell_type": "code",
      "execution_count": null,
      "metadata": {
        "colab": {
          "base_uri": "https://localhost:8080/"
        },
        "id": "q0zgzdO551hx",
        "outputId": "372a43c3-4c21-4e76-ece5-a4b28856d56e"
      },
      "outputs": [
        {
          "name": "stdout",
          "output_type": "stream",
          "text": [
            "Collecting scikit-optimize\n",
            "  Downloading scikit_optimize-0.10.2-py2.py3-none-any.whl (107 kB)\n",
            "\u001b[2K     \u001b[90m━━━━━━━━━━━━━━━━━━━━━━━━━━━━━━━━━━━━━━━━\u001b[0m \u001b[32m107.8/107.8 kB\u001b[0m \u001b[31m2.7 MB/s\u001b[0m eta \u001b[36m0:00:00\u001b[0m\n",
            "\u001b[?25hRequirement already satisfied: joblib>=0.11 in /usr/local/lib/python3.10/dist-packages (from scikit-optimize) (1.4.2)\n",
            "Collecting pyaml>=16.9 (from scikit-optimize)\n",
            "  Downloading pyaml-24.4.0-py3-none-any.whl (24 kB)\n",
            "Requirement already satisfied: numpy>=1.20.3 in /usr/local/lib/python3.10/dist-packages (from scikit-optimize) (1.25.2)\n",
            "Requirement already satisfied: scipy>=1.1.0 in /usr/local/lib/python3.10/dist-packages (from scikit-optimize) (1.11.4)\n",
            "Requirement already satisfied: scikit-learn>=1.0.0 in /usr/local/lib/python3.10/dist-packages (from scikit-optimize) (1.2.2)\n",
            "Requirement already satisfied: packaging>=21.3 in /usr/local/lib/python3.10/dist-packages (from scikit-optimize) (24.1)\n",
            "Requirement already satisfied: PyYAML in /usr/local/lib/python3.10/dist-packages (from pyaml>=16.9->scikit-optimize) (6.0.1)\n",
            "Requirement already satisfied: threadpoolctl>=2.0.0 in /usr/local/lib/python3.10/dist-packages (from scikit-learn>=1.0.0->scikit-optimize) (3.5.0)\n",
            "Installing collected packages: pyaml, scikit-optimize\n",
            "Successfully installed pyaml-24.4.0 scikit-optimize-0.10.2\n"
          ]
        }
      ],
      "source": [
        "pip install scikit-optimize"
      ]
    },
    {
      "cell_type": "markdown",
      "metadata": {
        "id": "3jDV7vFB3HWb"
      },
      "source": [
        "#Bayesian optimization"
      ]
    },
    {
      "cell_type": "code",
      "execution_count": null,
      "metadata": {
        "id": "vM1jnjt03mEc"
      },
      "outputs": [],
      "source": [
        "import tensorflow as tf\n",
        "import pandas as pd\n",
        "import numpy as np\n",
        "import os\n",
        "from tensorflow.keras.layers import Conv1D, MaxPooling1D, Dropout, LSTM, Dense\n",
        "from skopt import gp_minimize\n",
        "from skopt.space import Real, Integer\n",
        "from skopt.utils import use_named_args\n",
        "import pickle\n",
        "\n",
        "# Define the model building function\n",
        "def build_model(input_shape, output_size, filters, kernel_size, units_LSTM1, units_LSTM2, dropout1, dropout2, units_dense):\n",
        "    normalize_layer = tf.keras.layers.Normalization()\n",
        "    model = tf.keras.Sequential([\n",
        "        tf.keras.Input(shape=input_shape, name='input_layer'),\n",
        "        normalize_layer,\n",
        "        Conv1D(filters=filters, kernel_size=(kernel_size,), activation='relu', padding='same', name='conv1d_layer_1'),\n",
        "        MaxPooling1D(pool_size=2, strides=2, name='maxpooling1d_layer_1'),\n",
        "        Conv1D(filters=filters, kernel_size=(kernel_size,), activation='relu', padding='same', name='conv1d_layer_2'),\n",
        "        MaxPooling1D(pool_size=2, strides=2, name='maxpooling1d_layer_2'),\n",
        "        LSTM(units_LSTM1, return_sequences=True, name='lstm_layer_1'),\n",
        "        Dropout(dropout1, name='dropout_layer_1'),\n",
        "        LSTM(units_LSTM2, return_sequences=False, name='lstm_layer_2'),\n",
        "        Dropout(dropout2, name='dropout_layer_2'),\n",
        "        Dense(units_dense, activation='relu', name='fc_layer_1'),\n",
        "        Dense(output_size, name='output_layer')\n",
        "    ], name='lstm_model')\n",
        "    return model\n",
        "\n",
        "# Define the objective function\n",
        "@use_named_args(dimensions=[\n",
        "    Real(1e-4, 1e-2, \"log-uniform\", name='learning_rate'),\n",
        "    Integer(32, 128, name='filters'),\n",
        "    Integer(2, 5, name='kernel_size'),\n",
        "    Integer(32, 128, name='units_LSTM1'),\n",
        "    Integer(32, 128, name='units_LSTM2'),\n",
        "    Real(0.1, 0.5, name='dropout1'),\n",
        "    Real(0.1, 0.5, name='dropout2'),\n",
        "    Integer(32, 128, name='units_dense'),\n",
        "    Integer(50, 200, name='epochs'),\n",
        "    Integer(32, 256, name='batch_size')\n",
        "])\n",
        "def objective(learning_rate, filters, kernel_size, units_LSTM1, units_LSTM2, dropout1, dropout2, units_dense, epochs, batch_size):\n",
        "    global input_size, train_ds, AUTOTUNE, merged_data, TARGET_NAME, feature, INPUT_SIZE, LABEL_SIZE, OFFSET\n",
        "\n",
        "    # Recalculate X_train and y_train with the new time_step\n",
        "    X_train, y_train = [], []\n",
        "    for flight_id in merged_data['icao24'].unique():\n",
        "        flight_data = merged_data[merged_data['icao24'] == flight_id]\n",
        "        X, y = slicing_window(flight_data, 0, len(flight_data), INPUT_SIZE, LABEL_SIZE, OFFSET, TARGET_NAME, feature)\n",
        "        X_train.append(X)\n",
        "        y_train.append(y)\n",
        "    X_train = np.concatenate(X_train, axis=0)\n",
        "    y_train = np.concatenate(y_train, axis=0)\n",
        "\n",
        "    input_size = X_train.shape[1:]\n",
        "\n",
        "    # Define model\n",
        "    model = build_model(input_size, len(TARGET_NAME), filters, kernel_size, units_LSTM1, units_LSTM2, dropout1, dropout2, units_dense)\n",
        "    model.compile(\n",
        "        optimizer=tf.keras.optimizers.Adam(learning_rate=learning_rate),\n",
        "        loss=tf.keras.losses.MeanAbsoluteError(),\n",
        "    )\n",
        "\n",
        "    # Create tf.data.Dataset with batch size\n",
        "    train_ds = tf.data.Dataset.from_tensor_slices((X_train, y_train))\n",
        "    train_ds_batched = train_ds.batch(batch_size).cache().prefetch(buffer_size=AUTOTUNE)\n",
        "\n",
        "    # Train the model\n",
        "    history = model.fit(train_ds_batched, epochs=epochs, verbose=0)\n",
        "    train_loss = min(history.history['loss'])\n",
        "    return train_loss\n",
        "\n",
        "# Define the search space\n",
        "space = [\n",
        "    Real(1e-4, 1e-2, \"log-uniform\", name='learning_rate'),\n",
        "    Integer(32, 128, name='filters'),\n",
        "    Integer(2, 5, name='kernel_size'),\n",
        "    Integer(32, 128, name='units_LSTM1'),\n",
        "    Integer(32, 128, name='units_LSTM2'),\n",
        "    Real(0.1, 0.5, name='dropout1'),\n",
        "    Real(0.1, 0.5, name='dropout2'),\n",
        "    Integer(32, 128, name='units_dense'),\n",
        "    Integer(50, 200, name='epochs'),\n",
        "    Integer(32, 256, name='batch_size')\n",
        "]\n",
        "\n",
        "# Directory path for CSV files\n",
        "input_dir = \"/content/drive/MyDrive/filtered_data_0_1000\"\n",
        "hyperparameters_file = \"/content/drive/MyDrive/model/model1/best_hyperparameters.pkl\"\n",
        "previous_model_weights = None\n",
        "previous_best_params = None\n",
        "\n",
        "# Phân chia dữ liệu huấn luyện\n",
        "def slicing_window(data, start_idx, end_idx, input_size, label_size, offset, target_name, feature):\n",
        "    X = []\n",
        "    y = []\n",
        "    for i in range(start_idx, end_idx - input_size - label_size + 1, offset):\n",
        "        X.append(data[feature].values[i:i + input_size])\n",
        "        y.append(data[target_name].values[i + input_size:i + input_size + label_size])\n",
        "    return np.array(X), np.array(y)\n",
        "\n",
        "# Sát nhập các file csv\n",
        "merged_data = pd.DataFrame()\n",
        "for filename in os.listdir(input_dir):\n",
        "    if filename.endswith(\".csv\"):\n",
        "        file_path = os.path.join(input_dir, filename)\n",
        "        df = pd.read_csv(file_path)\n",
        "        merged_data = pd.concat([merged_data, df], ignore_index=True)\n",
        "\n",
        "INPUT_SIZE = 6\n",
        "LABEL_SIZE = 1\n",
        "OFFSET = 1\n",
        "feature = [\"lat\", \"lon\", \"geoaltitude\", \"heading\", \"velocity\"]\n",
        "TARGET_NAME = [\"lat\", \"lon\", \"geoaltitude\"]\n",
        "\n",
        "AUTOTUNE = tf.data.AUTOTUNE\n",
        "\n",
        "# Tối ưu hóa siêu tham số\n",
        "if previous_best_params is None:\n",
        "    res = gp_minimize(objective, space, n_calls=20, random_state=0)\n",
        "    best_params = res.x\n",
        "else:\n",
        "    best_params = previous_best_params\n",
        "\n",
        "print(f\"Best parameters found: {best_params}\")\n",
        "\n",
        "learning_rate, filters, kernel_size, units_LSTM1, units_LSTM2, dropout1, dropout2, units_dense, best_epochs, best_batch_size = best_params\n",
        "\n",
        "\n",
        "X_train, y_train = [], []\n",
        "for flight_id in merged_data['icao24'].unique():\n",
        "    flight_data = merged_data[merged_data['icao24'] == flight_id]\n",
        "    X, y = slicing_window(flight_data, 0, len(flight_data), INPUT_SIZE, LABEL_SIZE, OFFSET, TARGET_NAME, feature)\n",
        "    X_train.append(X)\n",
        "    y_train.append(y)\n",
        "X_train = np.concatenate(X_train, axis=0)\n",
        "y_train = np.concatenate(y_train, axis=0)\n",
        "\n",
        "input_size = X_train.shape[1:]\n",
        "\n",
        "model = build_model(input_size, len(TARGET_NAME), filters, kernel_size, units_LSTM1, units_LSTM2, dropout1, dropout2, units_dense)\n",
        "model.compile(\n",
        "    optimizer=tf.keras.optimizers.Adam(learning_rate=learning_rate),\n",
        "    loss=tf.keras.losses.MeanAbsoluteError(),\n",
        ")\n",
        "\n",
        "# Load previous model weights if any\n",
        "if previous_model_weights:\n",
        "    model.load_weights(previous_model_weights)\n",
        "\n",
        "train_ds = tf.data.Dataset.from_tensor_slices((X_train, y_train))\n",
        "train_ds_batched = train_ds.batch(best_batch_size).cache().prefetch(buffer_size=AUTOTUNE)\n",
        "history = model.fit(train_ds_batched, epochs=best_epochs)\n",
        "\n",
        "output = \"/content/drive/MyDrive/model/model3/final_model.h5\"\n",
        "model.save(output)\n",
        "print(f\"Saved model weights to {output}\")\n",
        "\n",
        "# Save the best hyperparameters for future use\n",
        "with open(hyperparameters_file, \"wb\") as f:\n",
        "    pickle.dump(best_params, f)\n",
        "\n",
        "print(\"Training completed.\")\n"
      ]
    },
    {
      "cell_type": "markdown",
      "metadata": {
        "id": "9B3H60JdaCT7"
      },
      "source": [
        "# Đánh giá các chỉ số"
      ]
    },
    {
      "cell_type": "code",
      "execution_count": null,
      "metadata": {
        "id": "uG71eZ6qbz9X"
      },
      "outputs": [],
      "source": [
        "import pandas as pd\n",
        "import numpy as np\n",
        "from tensorflow.keras.models import load_model\n",
        "\n",
        "# Load the trained model\n",
        "model = load_model(\"/content/drive/MyDrive/model/model2/model_transformed_ad3529_2017-03-22.csv.h5\")\n",
        "\n",
        "# Predict on test set\n",
        "y_pred = model.predict(X_test)\n",
        "print(y_pred)\n",
        "\n",
        "# Ensure y_pred is a numpy array\n",
        "y_pred = np.array(y_pred)\n",
        "\n",
        "# Check if y_pred has the correct shape (n_samples, 3)\n",
        "if y_pred.shape[1] != 3:\n",
        "    raise ValueError(\"y_pred should have 3 columns representing R, theta, h\")\n",
        "\n",
        "# Create a DataFrame with columns R, theta, h\n",
        "pred_df = pd.DataFrame(y_pred, columns=['R', 'theta', 'h'])\n",
        "\n",
        "# Specify the output file path\n",
        "output_file = \"/content/drive/MyDrive/tọa_độ_địa_lý/file_train.csv\"\n",
        "\n",
        "# Save the DataFrame to a CSV file\n",
        "pred_df.to_csv(output_file, index=False)\n",
        "\n",
        "print(f\"Predictions saved to {output_file}\")\n"
      ]
    },
    {
      "cell_type": "code",
      "execution_count": null,
      "metadata": {
        "collapsed": true,
        "id": "vhswo_Eejk_N"
      },
      "outputs": [],
      "source": [
        "import tensorflow as tf\n",
        "import pandas as pd\n",
        "import numpy as np\n",
        "\n",
        "# Đường dẫn tới file CSV\n",
        "csv_file_path = \"/content/drive/MyDrive/split_data/D2/test/2c0e29_2017-03-27.csv\"\n",
        "\n",
        "# Đọc dữ liệu từ CSV vào DataFrame\n",
        "data = pd.read_csv(csv_file_path)\n",
        "\n",
        "# Các thông số cần thiết cho mô hình\n",
        "INPUT_SIZE = 6\n",
        "LABEL_SIZE = 1  # Số lượng target variables: lat, lon, geoaltitude\n",
        "OFFSET = 1\n",
        "BATCH_SIZE = 64\n",
        "FEATURES = [\"R\", \"theta\", \"h\", \"heading\", \"velocity\"]\n",
        "TARGETS = [\"R\", \"theta\", \"h\"]\n",
        "\n",
        "def slicing_window(df, input_size, label_size, offset, label_name, feature_names):\n",
        "    features = []  # Khai báo list dùng để lưu trữ các X\n",
        "    labels = []  # Khai báo list dùng để lưu trữ các y\n",
        "\n",
        "    # Duyệt qua từng mẫu dữ liệu\n",
        "    for idx in range(input_size + offset, len(df) - label_size):\n",
        "        feature_start_idx = idx - input_size - offset\n",
        "        feature_end_idx = feature_start_idx + input_size\n",
        "\n",
        "        label_start_idx = idx - 1\n",
        "        label_end_idx = label_start_idx + label_size\n",
        "\n",
        "        feature = df[feature_names].iloc[feature_start_idx:feature_end_idx].values  # Lấy X\n",
        "        label = df[label_name].iloc[label_start_idx:label_end_idx].values  # Lấy y\n",
        "\n",
        "        features.append(feature)\n",
        "        labels.append(label)\n",
        "\n",
        "    # Chuyển list thành np.ndarray\n",
        "    features = np.array(features)\n",
        "    labels = np.array(labels)\n",
        "\n",
        "    return features, labels\n",
        "\n",
        "# Chuẩn bị toàn bộ dữ liệu cho tập kiểm tra\n",
        "X_test, y_test = slicing_window(data, INPUT_SIZE, LABEL_SIZE, OFFSET, TARGETS, FEATURES)\n",
        "\n",
        "y_test = np.squeeze(y_test, axis=1)\n",
        "print(y_test)\n"
      ]
    },
    {
      "cell_type": "code",
      "execution_count": null,
      "metadata": {
        "id": "PTSxNMeISaq5"
      },
      "outputs": [],
      "source": [
        " model = load_model(\"/content/drive/MyDrive/model/model2/model_transformed_ad3529_2017-03-22.csv.h5\")\n",
        "\n",
        " y_pred = model.predict(X_test)\n",
        " print(y_pred)"
      ]
    },
    {
      "cell_type": "code",
      "execution_count": null,
      "metadata": {
        "id": "KGvJWCSyi8AX"
      },
      "outputs": [],
      "source": [
        "import os\n",
        "from tensorflow.keras.models import load_model\n",
        "from sklearn.metrics import mean_absolute_error, mean_squared_error\n",
        "import numpy as np\n",
        "\n",
        "# Đường dẫn tới thư mục chứa các mô hình\n",
        "model_dir = \"/content/drive/MyDrive/model/model1\"\n",
        "\n",
        "# Danh sách các tệp mô hình trong thư mục\n",
        "model_files = [f for f in os.listdir(model_dir) if f.endswith('.h5')]\n",
        "\n",
        "# Kiểm tra nếu thư mục chứa các tệp mô hình\n",
        "if not model_files:\n",
        "    print(\"Không có mô hình nào trong thư mục.\")\n",
        "else:\n",
        "    for model_file in model_files:\n",
        "        model_path = os.path.join(model_dir, model_file)\n",
        "\n",
        "        # Tải mô hình\n",
        "        model = load_model(model_path)\n",
        "\n",
        "        # Dự đoán trên tập test\n",
        "        y_pred = model.predict(X_test)\n",
        "\n",
        "        # Tính toán MAE và RMSE cho từng thành phần\n",
        "        mae_lat = mean_absolute_error(y_test[:, 0], y_pred[:, 0])\n",
        "        mae_lon = mean_absolute_error(y_test[:, 1], y_pred[:, 1])\n",
        "        mae_geoaltitude = mean_absolute_error(y_test[:, 2], y_pred[:, 2])\n",
        "\n",
        "        rmse_lat = np.sqrt(mean_squared_error(y_test[:, 0], y_pred[:, 0]))\n",
        "        rmse_lon = np.sqrt(mean_squared_error(y_test[:, 1], y_pred[:, 1]))\n",
        "        rmse_geoaltitude = np.sqrt(mean_squared_error(y_test[:, 2], y_pred[:, 2]))\n",
        "\n",
        "        # Tính toán overall MSE Loss cho mô hình\n",
        "        mse_loss = mean_squared_error(y_test, y_pred)\n",
        "\n",
        "        # In kết quả cho từng mô hình\n",
        "        print(f\"Model: {model_file}\")\n",
        "        print(f\"MAE Lat: {mae_lat:.4f}, RMSE Lat: {rmse_lat:.4f}\")\n",
        "        print(f\"MAE Lon: {mae_lon:.4f}, RMSE Lon: {rmse_lon:.4f}\")\n",
        "        print(f\"MAE Geoaltitude: {mae_geoaltitude:.4f}, RMSE Geoaltitude: {rmse_geoaltitude:.4f}\")\n",
        "\n"
      ]
    },
    {
      "cell_type": "code",
      "execution_count": null,
      "metadata": {
        "colab": {
          "background_save": true
        },
        "id": "NUMIrkh8ROTK"
      },
      "outputs": [],
      "source": [
        "import tensorflow as tf\n",
        "import pandas as pd\n",
        "import numpy as np\n",
        "\n",
        "# Đường dẫn tới file CSV\n",
        "csv_file_path = \"/content/drive/MyDrive/filtered_data_0_1000/a1d01f_2017-01-20_1000_2000.csv\"\n",
        "\n",
        "# Đọc dữ liệu từ CSV vào DataFrame\n",
        "data = pd.read_csv(csv_file_path)\n",
        "\n",
        "# Các thông số cần thiết cho mô hình\n",
        "INPUT_SIZE = 6\n",
        "LABEL_SIZE = 1  # Số lượng target variables: lat, lon, geoaltitude\n",
        "OFFSET = 1\n",
        "BATCH_SIZE = 64\n",
        "FEATURES = [\"lat\", \"lon\", \"geoaltitude\", \"heading\", \"velocity\"]\n",
        "TARGETS = [\"lat\", \"lon\", \"geoaltitude\"]\n",
        "\n",
        "def slicing_window(df, input_size, label_size, offset, label_name, feature_names):\n",
        "    features = []  # Khai báo list dùng để lưu trữ các X\n",
        "    labels = []  # Khai báo list dùng để lưu trữ các y\n",
        "\n",
        "    # Duyệt qua từng mẫu dữ liệu\n",
        "    for idx in range(input_size + offset, len(df) - label_size):\n",
        "        feature_start_idx = idx - input_size - offset\n",
        "        feature_end_idx = feature_start_idx + input_size\n",
        "\n",
        "        label_start_idx = idx - 1\n",
        "        label_end_idx = label_start_idx + label_size\n",
        "\n",
        "        feature = df[feature_names].iloc[feature_start_idx:feature_end_idx].values  # Lấy X\n",
        "        label = df[label_name].iloc[label_start_idx:label_end_idx].values  # Lấy y\n",
        "\n",
        "        features.append(feature)\n",
        "        labels.append(label)\n",
        "\n",
        "    # Chuyển list thành np.ndarray\n",
        "    features = np.array(features)\n",
        "    labels = np.array(labels)\n",
        "\n",
        "    return features, labels\n",
        "\n",
        "# Chuẩn bị toàn bộ dữ liệu cho tập kiểm tra\n",
        "X_test, y_test = slicing_window(data, INPUT_SIZE, LABEL_SIZE, OFFSET, TARGETS, FEATURES)\n",
        "\n",
        "y_test = np.squeeze(y_test, axis=1)\n",
        "print(y_test)\n"
      ]
    },
    {
      "cell_type": "code",
      "execution_count": null,
      "metadata": {
        "collapsed": true,
        "id": "Ze5vDRIGm6xp"
      },
      "outputs": [],
      "source": [
        "# Load the trained model\n",
        "from tensorflow.keras.models import load_model\n",
        "from sklearn.metrics import mean_absolute_error, mean_squared_error\n",
        "\n",
        "model = load_model(\"/content/drive/MyDrive/model/model1/model_a7b13b_2017-01-25.csv.h5\")\n",
        "\n",
        "# Predict on test set\n",
        "y_pred = model.predict(X_test)\n",
        "\n",
        "print(y_pred)"
      ]
    },
    {
      "cell_type": "code",
      "execution_count": null,
      "metadata": {
        "id": "GpS-5OLVvret"
      },
      "outputs": [],
      "source": [
        "import numpy as np\n",
        "from sklearn.metrics import mean_absolute_error, mean_squared_error\n",
        "\n",
        "# Assuming y_test and y_pred are numpy arrays of shape (n_samples, 3)\n",
        "mae_lat = mean_absolute_error(y_test[:, 0], y_pred[:, 0])\n",
        "mae_lon = mean_absolute_error(y_test[:, 1], y_pred[:, 1])\n",
        "mae_geoaltitude = mean_absolute_error(y_test[:, 2], y_pred[:, 2])\n",
        "\n",
        "rmse_lat = np.sqrt(mean_squared_error(y_test[:, 0], y_pred[:, 0]))\n",
        "rmse_lon = np.sqrt(mean_squared_error(y_test[:, 1], y_pred[:, 1]))\n",
        "rmse_geoaltitude = np.sqrt(mean_squared_error(y_test[:, 2], y_pred[:, 2]))\n",
        "\n",
        "print(f\"MAE Lat: {mae_lat:.4f}, RMSE Lat: {rmse_lat:.4f}\")\n",
        "print(f\"MAE Lon: {mae_lon:.4f}, RMSE Lon: {rmse_lon:.4f}\")\n",
        "print(f\"MAE Geoaltitude: {mae_geoaltitude:.4f}, RMSE Geoaltitude: {rmse_geoaltitude:.4f}\")\n"
      ]
    },
    {
      "cell_type": "code",
      "execution_count": null,
      "metadata": {
        "collapsed": true,
        "id": "RNQXaePsvpTn"
      },
      "outputs": [],
      "source": [
        "from tensorflow.keras.models import load_model\n",
        "\n",
        "# Tải mô hình từ đường dẫn\n",
        "final_model = load_model(\"/content/drive/MyDrive/model/model1\")\n",
        "\n",
        "\n",
        "# Dự đoán trên dữ liệu test đã được chuẩn hóa\n",
        "predictions = final_model.predict(X_test)\n",
        "\n",
        "# In ra dự đoán cho mẫu đầu tiên\n",
        "#print(predictions[0])\n",
        "\n",
        "# Hoặc nếu bạn muốn in ra dự đoán cho tất cả các mẫu, sử dụng:\n",
        "print(predictions)\n",
        "print(y_test)"
      ]
    },
    {
      "cell_type": "code",
      "execution_count": null,
      "metadata": {
        "id": "GgugYPVG3YvB"
      },
      "outputs": [],
      "source": [
        "import matplotlib.pyplot as plt\n",
        "import pandas as pd\n",
        "\n",
        "def plot_prediction2(model, X, y, start, end):\n",
        "    predictions = model.predict(X)\n",
        "\n",
        "    R = predictions[:,0]\n",
        "    theta = predictions[:,1]\n",
        "    h = predictions[:,2]\n",
        "\n",
        "\n",
        "    df = pd.DataFrame(data={\"R\":R, \"theta\": theta,\n",
        "                             \"h\": h})\n",
        "\n",
        "    return df\n",
        "\n",
        "\n",
        "data = plot_prediction2(final_model, X_test, y_test, start=0, end=155)\n",
        "data\n",
        "\n"
      ]
    },
    {
      "cell_type": "code",
      "execution_count": null,
      "metadata": {
        "id": "2pnrq87a5JZU"
      },
      "outputs": [],
      "source": [
        "import matplotlib.pyplot as plt\n",
        "import pandas as pd\n",
        "\n",
        "# Thay 'data.csv' bằng tên file hoặc đường dẫn đến file của bạn\n",
        "data = plot_prediction2(final_model,X_test, y_test, start=0, end=155)\n",
        "\n",
        "# Trích xuất dữ liệu từ cột 'longtitude_actuals' và 'latitude_actuals'\n",
        "kinh_do_actuals = data['longtitude_actuals']\n",
        "vi_do_actuals = data['latitude_actuals']\n",
        "kinh_do_predicted = data['longtitude_prediction']  # Sử dụng cột 'longtitude_prediction' cho quỹ đạo dự đoán\n",
        "vi_do_predicted = data['latitude_prediction']\n",
        "\n",
        "# Vẽ quỹ đạo máy bay\n",
        "plt.plot(kinh_do_actuals, vi_do_actuals, marker='o', linestyle='--', color='blue', label='Thực tế')\n",
        "plt.plot(kinh_do_predicted, vi_do_predicted, marker='x', linestyle='--', color='red', label='Dự đoán')\n",
        "plt.xlabel('Kinh độ')\n",
        "plt.ylabel('Vĩ độ')\n",
        "plt.title('Quỹ đạo máy bay')\n",
        "plt.legend()\n",
        "plt.grid(False)\n",
        "plt.show()\n"
      ]
    },
    {
      "cell_type": "code",
      "execution_count": null,
      "metadata": {
        "id": "jf3CgvsuOy0a"
      },
      "outputs": [],
      "source": [
        "import os\n",
        "import pandas as pd\n",
        "import matplotlib.pyplot as plt\n",
        "\n",
        "# Đường dẫn đến file CSV cụ thể\n",
        "file_path = \"/content/drive/MyDrive/merged_data/a262a9_2017-02-23.csv\"\n",
        "output_dir = \"/content/drive/MyDrive/plots\"\n",
        "\n",
        "# Đảm bảo thư mục đầu ra tồn tại\n",
        "os.makedirs(output_dir, exist_ok=True)\n",
        "\n",
        "# Hàm để vẽ quỹ đạo và lưu đồ thị\n",
        "def plot_trajectory(data, output_path, flight_name):\n",
        "    # Loại bỏ các điểm trùng lặp dựa trên các cột lon và lat\n",
        "    data = data.drop_duplicates(subset=['lon', 'lat'])\n",
        "\n",
        "    fig, ax = plt.subplots()\n",
        "\n",
        "    # Chuyển đổi tọa độ từ dataframe\n",
        "    lon = data['lon'].values\n",
        "    lat = data['lat'].values\n",
        "\n",
        "    # Vẽ các điểm riêng biệt không có đường nối\n",
        "    ax.scatter(lon, lat, label=f'Trajectory of {flight_name}', marker='o', color='b')\n",
        "    ax.set_xlabel('Longitude')\n",
        "    ax.set_ylabel('Latitude')\n",
        "    ax.legend()\n",
        "\n",
        "    # Lưu đồ thị\n",
        "    plt.savefig(output_path)\n",
        "    plt.show()\n",
        "\n",
        "# Đọc dữ liệu từ file CSV\n",
        "data = pd.read_csv(file_path)\n",
        "\n",
        "# Kiểm tra nếu các cột 'lon' và 'lat' có tồn tại trong dữ liệu\n",
        "if 'lon' in data.columns and 'lat' in data.columns:\n",
        "    # Lấy tên chuyến bay từ tên file\n",
        "    flight_name = os.path.basename(file_path).split('.')[0]\n",
        "\n",
        "    # Vẽ quỹ đạo và lưu đồ thị\n",
        "    output_path = os.path.join(output_dir, f'trajectory_{flight_name}.png')\n",
        "    plot_trajectory(data, output_path, flight_name)\n",
        "\n",
        "    # In tên chuyến bay sau khi vẽ\n",
        "    print(f\"Đã vẽ xong chuyến: {flight_name}\")\n",
        "else:\n",
        "    print(f\"File {os.path.basename(file_path)} does not contain 'lon' or 'lat' columns.\")\n"
      ]
    },
    {
      "cell_type": "code",
      "execution_count": null,
      "metadata": {
        "id": "G2bAV_UWPbmm"
      },
      "outputs": [],
      "source": [
        "import os\n",
        "import pandas as pd\n",
        "import numpy as np\n",
        "import matplotlib.pyplot as plt\n",
        "from geopy.distance import geodesic\n",
        "\n",
        "# Đường dẫn đến file CSV cụ thể\n",
        "file_path = \"/content/drive/MyDrive/merged_data/a262a9_2017-02-23.csv\"\n",
        "output_dir = \"/content/drive/MyDrive/plots\"\n",
        "\n",
        "# Đảm bảo thư mục đầu ra tồn tại\n",
        "os.makedirs(output_dir, exist_ok=True)\n",
        "\n",
        "# Hàm để tính khoảng cách giữa hai tọa độ địa lý\n",
        "def calculate_distance(coord1, coord2):\n",
        "    return geodesic(coord1, coord2).meters\n",
        "\n",
        "# Hàm để nội suy điểm mới nếu khoảng cách lớn hơn 300m\n",
        "def interpolate_points(lon1, lat1, lon2, lat2):\n",
        "    coords1 = (lat1, lon1)\n",
        "    coords2 = (lat2, lon2)\n",
        "    dist = calculate_distance(coords1, coords2)\n",
        "\n",
        "    if dist > 300:\n",
        "        num_interp_points = int(dist // 300)  # Số lượng điểm nội suy\n",
        "        lons = np.linspace(lon1, lon2, num=num_interp_points + 2)[1:-1]\n",
        "        lats = np.linspace(lat1, lat2, num=num_interp_points + 2)[1:-1]\n",
        "        return list(zip(lons, lats))\n",
        "    else:\n",
        "        return []\n",
        "\n",
        "# Hàm để vẽ quỹ đạo và lưu đồ thị\n",
        "def plot_trajectory(data, output_path, flight_name):\n",
        "    # Loại bỏ các điểm trùng lặp dựa trên các cột lon và lat\n",
        "    data = data.drop_duplicates(subset=['lon', 'lat'])\n",
        "\n",
        "    interp_lons = []\n",
        "    interp_lats = []\n",
        "    new_lons = []\n",
        "    new_lats = []\n",
        "\n",
        "    # Lặp qua các điểm để kiểm tra khoảng cách và thực hiện nội suy\n",
        "    for i in range(len(data) - 1):\n",
        "        lon1, lat1 = data.iloc[i][['lon', 'lat']]\n",
        "        lon2, lat2 = data.iloc[i + 1][['lon', 'lat']]\n",
        "\n",
        "        # Thêm điểm gốc vào danh sách\n",
        "        interp_lons.append(lon1)\n",
        "        interp_lats.append(lat1)\n",
        "\n",
        "        # Nếu khoảng cách lớn hơn 300m, thực hiện nội suy\n",
        "        new_points = interpolate_points(lon1, lat1, lon2, lat2)\n",
        "        for lon, lat in new_points:\n",
        "            new_lons.append(lon)\n",
        "            new_lats.append(lat)\n",
        "\n",
        "    # Thêm điểm cuối cùng\n",
        "    interp_lons.append(data['lon'].iloc[-1])\n",
        "    interp_lats.append(data['lat'].iloc[-1])\n",
        "\n",
        "    # Vẽ biểu đồ geoaltitude theo thời gian\n",
        "    fig, ax = plt.subplots()\n",
        "    ax.scatter(interp_lons, interp_lats, marker='o', color='b', label='Original Points')\n",
        "    ax.scatter(new_lons, new_lats, marker='o', color='r', edgecolors='red', linewidth=1.5, label='Interpolated Points')\n",
        "    ax.set_xlabel('Longitude')\n",
        "    ax.set_ylabel('Latitude')\n",
        "    ax.legend()\n",
        "    ax.set_title(f'Flight Trajectory: {flight_name}')\n",
        "\n",
        "    # Lưu đồ thị\n",
        "    plt.savefig(output_path)\n",
        "    plt.show()\n",
        "\n",
        "# Đọc dữ liệu từ file CSV\n",
        "data = pd.read_csv(file_path)\n",
        "\n",
        "# Kiểm tra nếu các cột 'lon' và 'lat' có tồn tại trong dữ liệu\n",
        "if 'lon' in data.columns and 'lat' in data.columns:\n",
        "    # Lấy tên chuyến bay từ tên file\n",
        "    flight_name = os.path.basename(file_path).split('.')[0]\n",
        "\n",
        "    # Vẽ quỹ đạo và lưu đồ thị\n",
        "    output_path = os.path.join(output_dir, f'trajectory_{flight_name}.png')\n",
        "    plot_trajectory(data, output_path, flight_name)\n",
        "\n",
        "    # In tên chuyến bay sau khi vẽ\n",
        "    print(f\"Đã vẽ xong chuyến: {flight_name}\")\n",
        "else:\n",
        "    print(f\"File {os.path.basename(file_path)} does not contain 'lon' or 'lat' columns.\")\n"
      ]
    },
    {
      "cell_type": "code",
      "execution_count": null,
      "metadata": {
        "id": "Y6c0wTxBpnUQ"
      },
      "outputs": [],
      "source": [
        "import pandas as pd\n",
        "import os\n",
        "import matplotlib.pyplot as plt\n",
        "\n",
        "input_dir = \"/content/drive/MyDrive/filtered_data_0_1000\"\n",
        "for filename in os.listdir(input_dir):\n",
        "    if filename == \"ab9085_2017-03-15_1000_2000.csv\":\n",
        "        os.remove(os.path.join(input_dir, filename))"
      ]
    },
    {
      "cell_type": "code",
      "execution_count": null,
      "metadata": {
        "id": "HIX3_bmF_52B"
      },
      "outputs": [],
      "source": [
        "import os\n",
        "import pandas as pd\n",
        "\n",
        "# Đường dẫn đến thư mục chứa các file CSV\n",
        "input_dir = \"/content/drive/MyDrive/filtered_data_0_1000\"\n",
        "\n",
        "# Danh sách các cột cần lấy từ file CSV\n",
        "columns_to_keep = ['time', 'lat', 'lon', 'velocity', 'heading', 'geoaltitude']\n",
        "\n",
        "# Duyệt qua từng file trong thư mục\n",
        "for filename in os.listdir(input_dir):\n",
        "    if filename.endswith(\".csv\"):\n",
        "        # Đường dẫn đầy đủ đến file CSV\n",
        "        file_path = os.path.join(input_dir, filename)\n",
        "\n",
        "        # Đọc dữ liệu từ file CSV, chỉ lấy các cột cần thiết\n",
        "        data = pd.read_csv(file_path, usecols=columns_to_keep)\n",
        "\n",
        "        # Lưu dữ liệu đã lọc vào file CSV mới (ghi đè lên file cũ)\n",
        "        data.to_csv(file_path, index=False)\n",
        "\n",
        "        # Xóa file cũ\n",
        "        os.remove(file_path)\n",
        "\n",
        "        # Đường dẫn đến file CSV mới (với cùng tên)\n",
        "        new_file_path = os.path.join(input_dir, filename)\n",
        "\n",
        "        # Lưu dữ liệu đã lọc vào file CSV mới\n",
        "        data.to_csv(new_file_path, index=False)\n"
      ]
    },
    {
      "cell_type": "code",
      "execution_count": null,
      "metadata": {
        "id": "I7oQska2wxlJ"
      },
      "outputs": [],
      "source": [
        "import os\n",
        "import pandas as pd\n",
        "\n",
        "# Đường dẫn đến thư mục chứa các file CSV đã lọc\n",
        "filtered_data_dir = \"/content/drive/MyDrive/filtered_data_0_1000\"\n",
        "\n",
        "# Đảm bảo thư mục lưu dữ liệu đã lọc tồn tại\n",
        "os.makedirs(filtered_data_dir, exist_ok=True)\n",
        "\n",
        "# Hàm để lọc và lưu các chuyến bay có độ cao từ 3000 đến 4000m\n",
        "def filter_and_save(data, flight_name):\n",
        "    # Lọc các điểm có độ cao từ 1000 đến 2000m\n",
        "    filtered_data = data[(data['geoaltitude'] >= 0) & (data['geoaltitude'] <= 1000)]\n",
        "\n",
        "    # Nếu không có dữ liệu sau khi lọc, bỏ qua\n",
        "    if filtered_data.empty:\n",
        "        print(f\"Không có điểm dữ liệu nào từ 0 đến 1000m cho chuyến: {flight_name}\")\n",
        "    else:\n",
        "        # Lưu vào file CSV mới\n",
        "        filtered_file_path = os.path.join(filtered_data_dir, f'{flight_name}_1000_2000.csv')\n",
        "        filtered_data.to_csv(filtered_file_path, index=False)\n",
        "        print(f\"Đã lưu các điểm dữ liệu từ 1000 đến 2000m cho chuyến: {flight_name}\")\n",
        "\n",
        "# Đường dẫn đến thư mục chứa các file CSV gốc\n",
        "input_dir = \"/content/drive/MyDrive/merged_data\"\n",
        "\n",
        "# Lặp qua tất cả các file CSV trong thư mục\n",
        "for filename in os.listdir(input_dir):\n",
        "    if filename.endswith(\".csv\"):\n",
        "        # Đường dẫn đầy đủ đến file CSV\n",
        "        file_path = os.path.join(input_dir, filename)\n",
        "\n",
        "        # Đọc dữ liệu từ file CSV\n",
        "        data = pd.read_csv(file_path)\n",
        "\n",
        "        # Lấy tên chuyến bay từ tên file\n",
        "        flight_name = filename.split('.')[0]\n",
        "\n",
        "        # Lọc và lưu các chuyến bay có độ cao từ 1000 đến 2000m\n",
        "        filter_and_save(data, flight_name)\n"
      ]
    },
    {
      "cell_type": "markdown",
      "metadata": {
        "id": "oDoWZk6BvldB"
      },
      "source": [
        "# KIẾN THIẾT LẠI QUỸ ĐẠO"
      ]
    },
    {
      "cell_type": "code",
      "execution_count": null,
      "metadata": {
        "collapsed": true,
        "id": "SHKjnCdYiu1h"
      },
      "outputs": [],
      "source": [
        "import pandas as pd\n",
        "data1 = pd.read_csv(\"/content/drive/MyDrive/data_non_split/aba941_2017-03-13.csv\")\n",
        "data1\n",
        "#data = pd.read_csv(\"/content/drive/MyDrive/transformed_data/transformed_a0fb74_2017-02-23.csv\")\n",
        "#data\n",
        "import numpy as np\n",
        "# Khai báo hàm Windowing (dùng để tạo các cặp X, y cho time series data)\n",
        "def slicing_window(df, df_start_idx, df_end_idx, input_size, label_size, offset, label_name,label_feature):\n",
        "    features = [] # Khai báo list dùng để lưu trữ các X\n",
        "    labels = [] # Khai báo list dùng để lưu trữ các y\n",
        "\n",
        "    # Nếu df_end_idx = chỉ mục cuối cùng bảng dữ liệu, cần phải dời xuống 1 khoảng = window size\n",
        "    if df_end_idx == None:\n",
        "        df_end_idx = len(df) - label_size - offset\n",
        "\n",
        "    df_start_idx = df_start_idx + input_size + offset\n",
        "\n",
        "    # Duyệt qua từng mẫu dữ liệu\n",
        "    for idx in range(df_start_idx, df_end_idx):\n",
        "        feature_start_idx = idx - input_size - offset\n",
        "        feature_end_idx = feature_start_idx + input_size\n",
        "\n",
        "        label_start_idx = idx - 1\n",
        "        label_end_idx = label_start_idx + label_size\n",
        "\n",
        "        feature = df[label_feature][feature_start_idx:feature_end_idx] # Lấy X\n",
        "        label = df[label_name][label_start_idx:label_end_idx] # Lấy y\n",
        "\n",
        "        features.append(feature)\n",
        "        labels.append(label)\n",
        "\n",
        "    # Chuyển list thành np.ndarrray\n",
        "    features = np.array(features)\n",
        "    labels = np.array(labels)\n",
        "\n",
        "    return features, labels\n",
        "\n"
      ]
    },
    {
      "cell_type": "code",
      "execution_count": null,
      "metadata": {
        "id": "Kv-o7Nw7BdLU"
      },
      "outputs": [],
      "source": [
        "INPUT_SIZE = 20\n",
        "LABEL_SIZE = 1\n",
        "OFFSET = 1\n",
        "BATCH_SIZE = 64\n",
        "feature = [\"lat\",\"lon\",\"geoaltitude\",\"heading\",\"velocity\"]\n",
        "TARGET_NAME = [\"lat\",\"lon\",\"geoaltitude\"]\n",
        "\n",
        "X_train, y_train = slicing_window(data1, 0, len(data1), INPUT_SIZE, LABEL_SIZE, OFFSET, TARGET_NAME, feature)\n",
        "y_train_reshaped = y_train.reshape(-1, 3)\n",
        "\n",
        "# Create a DataFrame from y_train_reshaped\n",
        "df_y_train = pd.DataFrame(y_train_reshaped, columns=['lat', 'lon', 'geoaltitude'])\n",
        "\n",
        "# Save DataFrame to CSV file\n",
        "df_y_train.to_csv(\"/content/y_train.csv\", index=False)\n"
      ]
    },
    {
      "cell_type": "code",
      "execution_count": null,
      "metadata": {
        "id": "-fnwciCPHhMy"
      },
      "outputs": [],
      "source": [
        "import pandas as pd\n",
        "import matplotlib.pyplot as plt\n",
        "from mpl_toolkits.mplot3d import Axes3D\n",
        "\n",
        "# Đường dẫn đến file CSV\n",
        "file_path = \"/content/y_train.csv\"\n",
        "\n",
        "# Đọc dữ liệu từ file CSV vào DataFrame\n",
        "df = pd.read_csv(file_path)\n",
        "\n",
        "# Loại bỏ các hàng có cùng giá trị lat và lon\n",
        "df = df.drop_duplicates(subset=['lat', 'lon'])\n",
        "\n",
        "# Extract dữ liệu từ các cột lat, lon, geoaltitude\n",
        "lat = df['lat']\n",
        "lon = df['lon']\n",
        "geoaltitude = df['geoaltitude']\n",
        "\n",
        "# Tạo quỹ đạo gốc\n",
        "lat_original = lat\n",
        "lon_original = lon\n",
        "geoaltitude_original = geoaltitude\n",
        "\n",
        "# Tạo quỹ đạo mới với các điểm đầu gần trùng và các điểm sau lệch nhiều hơn\n",
        "lat_new = lat + 0.001  # Các điểm đầu gần trùng\n",
        "lon_new = lon  # Các điểm đầu gần trùng\n",
        "geoaltitude_new = geoaltitude + (geoaltitude - geoaltitude.mean()) * 0.5  # Lệch nhiều hơn\n",
        "\n",
        "# Tạo biểu đồ 3D\n",
        "fig = plt.figure(figsize=(10, 8))\n",
        "ax = fig.add_subplot(111, projection='3d')\n",
        "\n",
        "# Vẽ đường thẳng nối các điểm cho quỹ đạo gốc\n",
        "ax.plot(lon_original, lat_original, geoaltitude_original, color='b', alpha=0.5, label='Original Trajectory')\n",
        "\n",
        "# Vẽ đường thẳng nối các điểm cho quỹ đạo mới\n",
        "ax.plot(lon_new, lat_new, geoaltitude_new, color='r', alpha=0.5, label='New Trajectory')\n",
        "\n",
        "# Đặt nhãn và tiêu đề\n",
        "ax.set_xlabel('Longitude')\n",
        "ax.set_ylabel('Latitude')\n",
        "ax.set_zlabel('Geoaltitude')\n",
        "ax.set_title('Original and New Trajectories in 3D Space')\n",
        "\n",
        "# Thiết lập giới hạn cho các trục để phóng to quỹ đạo\n",
        "ax.set_xlim(min(min(lon_original), min(lon_new)), max(max(lon_original), max(lon_new)))\n",
        "ax.set_ylim(min(min(lat_original), min(lat_new)), max(max(lat_original), max(lat_new)))\n",
        "ax.set_zlim(min(min(geoaltitude_original), min(geoaltitude_new)), max(max(geoaltitude_original), max(geoaltitude_new)))\n",
        "\n",
        "# Thêm chú giải để phân biệt hai quỹ đạo\n",
        "ax.legend()\n",
        "\n",
        "# Hiển thị biểu đồ\n",
        "plt.show()\n"
      ]
    },
    {
      "cell_type": "code",
      "execution_count": null,
      "metadata": {
        "id": "VE0uDDkKSirb"
      },
      "outputs": [],
      "source": [
        "import os\n",
        "import pandas as pd\n",
        "import numpy as np\n",
        "import matplotlib.pyplot as plt\n",
        "\n",
        "# Danh sách các đường dẫn đến các file CSV\n",
        "file_paths = [\n",
        "    \"/content/drive/MyDrive/transformed_data/transformed_aa6dd8_2017-02-27.csv\",\n",
        "    \"/content/drive/MyDrive/transformed_data/transformed_split32.csv\",\n",
        "    \"/content/drive/MyDrive/transformed_data/transformed_a5c474_2017-03-28.csv\",\n",
        "    \"/content/drive/MyDrive/transformed_data/transformed_split26.csv\",\n",
        "    \"/content/drive/MyDrive/transformed_data/transformed_a102e2_2017-01-19.csv\"\n",
        "]\n",
        "\n",
        "# Hàm để vẽ quỹ đạo trên cùng một đồ thị\n",
        "def plot_trajectories(file_paths, output_path):\n",
        "    fig = plt.figure(figsize=(12, 8))  # Điều chỉnh kích thước hình vẽ\n",
        "    ax = fig.add_subplot(111, projection='3d')\n",
        "\n",
        "    for file_path in file_paths:\n",
        "        # Lấy tên file từ đường dẫn\n",
        "        filename = os.path.basename(file_path)\n",
        "\n",
        "        # Đọc dữ liệu từ file CSV\n",
        "        data = pd.read_csv(file_path)\n",
        "\n",
        "        # Chuyển đổi tọa độ từ dataframe\n",
        "        R = data['R'].values\n",
        "        theta = data['theta'].values\n",
        "        h = data['h'].values\n",
        "\n",
        "        # Vẽ quỹ đạo trong tọa độ trụ\n",
        "        ax.plot(R, theta, h, label=filename, linestyle='-', linewidth=1)\n",
        "\n",
        "    ax.set_xlabel('Bán kính (R)')\n",
        "    ax.set_ylabel('Góc (θ)')\n",
        "    ax.set_zlabel('Độ cao (h)')\n",
        "    ax.legend()\n",
        "\n",
        "    # Lưu đồ thị\n",
        "    plt.savefig(output_path)\n",
        "    plt.show()\n",
        "\n",
        "# Đường dẫn để lưu đồ thị kết quả\n",
        "output_path = \"/content/drive/MyDrive/plots/combined_trajectory_plot.png\"\n",
        "\n",
        "# Vẽ tất cả quỹ đạo trên cùng một đồ thị và lưu đồ thị\n",
        "plot_trajectories(file_paths, output_path)\n"
      ]
    },
    {
      "cell_type": "code",
      "execution_count": null,
      "metadata": {
        "id": "o2rrJ8FYV9xQ"
      },
      "outputs": [],
      "source": [
        "import os\n",
        "import pandas as pd\n",
        "import numpy as np\n",
        "import matplotlib.pyplot as plt\n",
        "from mpl_toolkits.mplot3d import Axes3D\n",
        "\n",
        "# Danh sách các đường dẫn đến các file CSV\n",
        "file_paths = [\n",
        "    \"/content/drive/MyDrive/data_full_new/aa6dd8_2017-02-27.csv\",\n",
        "    \"/content/drive/MyDrive/data_full_new/split32.csv\",\n",
        "   \"/content/drive/MyDrive/data_full_new/a5c474_2017-03-28.csv\",\n",
        "   \"/content/drive/MyDrive/data_full_new/split26.csv\",\n",
        "    \"/content/drive/MyDrive/data_full_new/a102e2_2017-01-19.csv\"\n",
        "]\n",
        "\n",
        "# Hàm để vẽ quỹ đạo trên cùng một đồ thị\n",
        "def plot_trajectories(file_paths, output_path):\n",
        "    fig = plt.figure(figsize=(12, 8))  # Tạo hình vẽ với kích thước lớn hơn\n",
        "    ax = fig.add_subplot(111, projection='3d')\n",
        "\n",
        "    for file_path in file_paths:\n",
        "        # Lấy tên file từ đường dẫn\n",
        "        filename = os.path.basename(file_path)\n",
        "\n",
        "        # Đọc dữ liệu từ file CSV\n",
        "        data = pd.read_csv(file_path)\n",
        "\n",
        "        # Chuyển đổi tọa độ từ dataframe\n",
        "        lon = data['lon'].values\n",
        "        lat = data['lat'].values\n",
        "        alt = data['geoaltitude'].values\n",
        "\n",
        "        # Vẽ quỹ đạo với đường thẳng nối qua các điểm\n",
        "        ax.plot(lon, lat, alt, label=filename.split('.')[0], linestyle='-', linewidth=1)\n",
        "\n",
        "    ax.set_xlabel('Longitude', fontsize=14)\n",
        "    ax.set_ylabel('Latitude', fontsize=14)\n",
        "    ax.set_zlabel('Altitude (m)', fontsize=14)\n",
        "    ax.legend()\n",
        "\n",
        "    # Lưu đồ thị\n",
        "    plt.savefig(output_path, dpi=300)  # Tăng độ phân giải\n",
        "    plt.show()\n",
        "\n",
        "# Đường dẫn để lưu đồ thị kết quả\n",
        "output_path = \"/content/drive/MyDrive/plots/combined_trajectory_plot.png\"\n",
        "\n",
        "# Vẽ tất cả quỹ đạo trên cùng một đồ thị và lưu đồ thị\n",
        "plot_trajectories(file_paths, output_path)\n"
      ]
    },
    {
      "cell_type": "markdown",
      "metadata": {
        "id": "pJENkYuob8fy"
      },
      "source": [
        "#Vẽ quỹ đạo 3D\n"
      ]
    },
    {
      "cell_type": "code",
      "execution_count": null,
      "metadata": {
        "id": "-oqT7UgxDPdL"
      },
      "outputs": [],
      "source": [
        "import pandas as pd\n",
        "import matplotlib.pyplot as plt\n",
        "\n",
        "# Đọc dữ liệu từ tập tin CSV\n",
        "data = pd.read_csv(\"/content/geographic_data.csv\")\n",
        "\n",
        "# Tạo figure và axis 2D\n",
        "plt.figure(figsize=(10, 6))\n",
        "\n",
        "# Vẽ quỹ đạo trong hệ tọa độ địa lý với latitude và longitude\n",
        "plt.plot(data['lon'], data['lat'], color='blue', linestyle='-')\n",
        "#plt.plot(data1['lon'], data1['lat'], color='red', linestyle='-')\n",
        "\n",
        "# Thiết lập nhãn trục\n",
        "plt.xlabel('Longitude')\n",
        "plt.ylabel('Latitude')\n",
        "plt.title('Flight Trajectory in Geographic Coordinates')\n",
        "\n",
        "# Hiển thị lưới\n",
        "plt.grid(True)\n",
        "\n",
        "# Hiển thị biểu đồ\n",
        "plt.show()\n"
      ]
    },
    {
      "cell_type": "code",
      "execution_count": null,
      "metadata": {
        "id": "oF6UB4pmtcfJ"
      },
      "outputs": [],
      "source": [
        "INPUT_SIZE = 6\n",
        "LABEL_SIZE = 1\n",
        "OFFSET = 1\n",
        "BATCH_SIZE = 64\n",
        "feature = [\"R\",\"theta\",\"h\",\"heading\",\"velocity\"]\n",
        "TARGET_NAME  = [\"R\",\"theta\",\"h\"]"
      ]
    },
    {
      "cell_type": "code",
      "execution_count": null,
      "metadata": {
        "id": "LUq7j4eWAgy1"
      },
      "outputs": [],
      "source": [
        "import tensorflow as tf\n",
        "\n",
        "# Khởi tạo tf.data.Dataset\n",
        "train_ds = tf.data.Dataset.from_tensor_slices((X_train, y_train)).batch(BATCH_SIZE)\n",
        "val_ds = tf.data.Dataset.from_tensor_slices((X_val, y_val)).batch(BATCH_SIZE)\n",
        "test_ds = tf.data.Dataset.from_tensor_slices((X_test, y_test)).batch(BATCH_SIZE)"
      ]
    },
    {
      "cell_type": "code",
      "execution_count": null,
      "metadata": {
        "id": "TivbVYjk8HZv"
      },
      "outputs": [],
      "source": [
        "# Cấu hình các tham số tối ưu cho việc đọc dữ liệu\n",
        "AUTOTUNE = tf.data.AUTOTUNE\n",
        "\n",
        "train_ds = train_ds.cache().prefetch(buffer_size=AUTOTUNE)\n",
        "val_ds = val_ds.cache().prefetch(buffer_size=AUTOTUNE)"
      ]
    },
    {
      "cell_type": "code",
      "execution_count": null,
      "metadata": {
        "id": "wULo8RizB5vU"
      },
      "outputs": [],
      "source": [
        "# Khai báo normalization layer\n",
        "import tensorflow as tf\n",
        "\n",
        "normalize_layer = tf.keras.layers.Normalization()\n",
        "normalize_layer.adapt(X_test)"
      ]
    },
    {
      "cell_type": "code",
      "execution_count": null,
      "metadata": {
        "collapsed": true,
        "id": "WJfzIrDwo9te"
      },
      "outputs": [],
      "source": [
        "print(normalize_layer(X_test))\n"
      ]
    },
    {
      "cell_type": "code",
      "execution_count": null,
      "metadata": {
        "collapsed": true,
        "id": "8RsUfgbMn4zq"
      },
      "outputs": [],
      "source": [
        "pip install scikit-optimize\n"
      ]
    },
    {
      "cell_type": "code",
      "execution_count": null,
      "metadata": {
        "id": "QbBMlZ_QeOLJ"
      },
      "outputs": [],
      "source": [
        "# Khai báo một số giá trị siêu tham số\n",
        "EPOCHS = 500\n",
        "LR =0.001"
      ]
    },
    {
      "cell_type": "code",
      "execution_count": null,
      "metadata": {
        "id": "90w9PTY4gJZN"
      },
      "outputs": [],
      "source": [
        "# Cấu hình một số thông tin cho mô hình\n",
        "model.compile(\n",
        "    optimizer=tf.keras.optimizers.Adam(learning_rate=LR), # Sử dụng optimizer Adam\n",
        "    loss=tf.keras.losses.MeanAbsoluteError(), # Sử dụng hàm loss Mean Squared Error\n",
        ")"
      ]
    },
    {
      "cell_type": "code",
      "execution_count": null,
      "metadata": {
        "id": "GB7fwYnwgPHK"
      },
      "outputs": [],
      "source": [
        "history = model.fit(train_ds,\n",
        "                    validation_data=val_ds,\n",
        "                    epochs=EPOCHS)"
      ]
    },
    {
      "cell_type": "code",
      "execution_count": null,
      "metadata": {
        "id": "sfghkkaVnIN2"
      },
      "outputs": [],
      "source": [
        "print(X_train)"
      ]
    },
    {
      "cell_type": "code",
      "execution_count": null,
      "metadata": {
        "id": "hy4erP9GuRaA"
      },
      "outputs": [],
      "source": [
        "print(normalize_layer(X_train))"
      ]
    },
    {
      "cell_type": "code",
      "execution_count": null,
      "metadata": {
        "collapsed": true,
        "id": "VLClxAQN2UM-"
      },
      "outputs": [],
      "source": [
        "from tensorflow.keras.models import load_model\n",
        "\n",
        "# Tải mô hình từ đường dẫn\n",
        "final_model = load_model(previous_model_weights)\n",
        "\n",
        "# Chuẩn hóa dữ liệu test\n",
        "X_test_normalized = normalize_layer(X_train)\n",
        "\n",
        "# Dự đoán trên dữ liệu test đã được chuẩn hóa\n",
        "predictions = final_model.predict(X_test_normalized)\n",
        "\n",
        "#print(X_test_normalized)\n",
        "\n",
        "# In ra dự đoán cho mẫu đầu tiên\n",
        "#print(predictions[0])\n",
        "\n",
        "# Hoặc nếu bạn muốn in ra dự đoán cho tất cả các mẫu, sử dụng:\n",
        "print(predictions)\n"
      ]
    },
    {
      "cell_type": "code",
      "execution_count": null,
      "metadata": {
        "collapsed": true,
        "id": "CGcWKmR3guzE"
      },
      "outputs": [],
      "source": [
        "print(X_train.shape)"
      ]
    },
    {
      "cell_type": "code",
      "execution_count": null,
      "metadata": {
        "collapsed": true,
        "id": "egjh0fvies0F"
      },
      "outputs": [],
      "source": [
        "print(y_train)"
      ]
    },
    {
      "cell_type": "code",
      "execution_count": null,
      "metadata": {
        "id": "jzbVGPgpGbVl"
      },
      "outputs": [],
      "source": [
        "# Lấy giá trị loss cuối cùng trên tập kiểm tra hoặc validation\n",
        "loss = final_model.evaluate(X_test, y_test)\n",
        "print(\"MAE:\", loss)\n",
        "\n",
        "import numpy as np\n",
        "\n",
        "def RMSE (y_pred, y_test):\n",
        "   squared_errors = (y_test - y_pred) ** 2\n",
        "   mean_squared_error = np.mean(squared_errors)\n",
        "   root_mean_squared_error = np.sqrt(mean_squared_error)\n",
        "   return root_mean_squared_error\n",
        "\n",
        "print(\"RMSE:\",RMSE(final_model.predict(X_test),y_test))\n",
        "\n"
      ]
    },
    {
      "cell_type": "code",
      "execution_count": null,
      "metadata": {
        "collapsed": true,
        "id": "SzCzf0mRmXIA"
      },
      "outputs": [],
      "source": [
        "print(y_train[:,0][:,])"
      ]
    },
    {
      "cell_type": "code",
      "execution_count": null,
      "metadata": {
        "id": "222nF_qb65E_"
      },
      "outputs": [],
      "source": [
        "import matplotlib.pyplot as plt\n",
        "\n",
        "\n",
        "train_loss = history.history['loss']# Đọc thông tin loss trên tập train\n",
        "val_loss = history.history['val_loss'] # Đọc thông tin loss trên tập val\n",
        "\n",
        "plt.figure(figsize=(8, 4)) # Cài đặt kích thước khung ảnh\n",
        "\n",
        "plt.subplot(1, 2, 1) # Khởi tạo khung ảnh cho training loss\n",
        "plt.xlabel('Epochs') # Hiển thị tên trục hoành là 'Epochs'\n",
        "plt.ylabel('Loss') # Hiển thị tên trục tung là 'Loss'\n",
        "plt.title('Training loss') # Hiển thị title của khung ảnh hiện tại là 'Training Loss'\n",
        "plt.plot(train_loss, color='green') # Vẽ đường giá trị loss trên tập train qua từng epoch (đường vẽ màu đỏ)\n",
        "\n",
        "plt.subplot(1, 2, 2) # Khởi tạo khung ảnh cho val loss\n",
        "plt.xlabel('Epochs') # Hiển thị tên trục hoành là 'Epochs'\n",
        "plt.ylabel('Loss') # Hiển thị tên trục tung là 'Loss'\n",
        "plt.title('Validation loss') # Hiển thị title của khung ảnh hiện tại là 'Validation loss'\n",
        "plt.plot(val_loss, color='orange') # Vẽ đường giá trị loss trên tập val qua từng epoch (đường vẽ màu đỏ)\n",
        "\n",
        "plt.show() # Hiển thị 2 khung ảnh nhỏ"
      ]
    },
    {
      "cell_type": "code",
      "execution_count": null,
      "metadata": {
        "collapsed": true,
        "id": "BL7hYmdExf1n"
      },
      "outputs": [],
      "source": [
        "import matplotlib.pyplot as plt\n",
        "import pandas as pd\n",
        "\n",
        "def plot_prediction2(model, X, y, start, end):\n",
        "    predictions = model.predict(X)\n",
        "    if predictions.shape[1] == 1:  # Kiểm tra xem mô hình trả về một hoặc hai cột dự đoán\n",
        "        lat, lon = predictions[:, 0], predictions[:, 0]  # Giả sử cả vĩ độ và kinh độ đều nằm trong cột đầu tiên\n",
        "    else:\n",
        "        lat, lon = predictions[:, 0], predictions[:, 1]  # Nếu mô hình trả về hai cột, giả sử cột thứ hai là kinh độ\n",
        "\n",
        "    lat_actuals, lon_actuals = y[:, 0][:,0], y[:, 0][:,1]  # Trích xuất vĩ độ và kinh độ từ mảng y\n",
        "\n",
        "    df = pd.DataFrame(data={\"latitude_prediction\": lat, \"latitude_actuals\": lat_actuals,\n",
        "                            \"longtitude_prediction\": lon, \"longtitude_actuals\": lon_actuals})\n",
        "\n",
        "    return df\n",
        "data = plot_prediction2(final_model, X_test, y_test, start=0, end=155)\n",
        "\n",
        "data_prediction = data[[\"latitude_prediction\",\"longtitude_prediction\"]]\n",
        "data_actuals = data[[\"latitude_actuals\",\"longtitude_actuals\"]]\n",
        "data_prediction.to_csv(\"data_prediction.csv\")\n",
        "data_actuals.to_csv(\"data_actuals.csv\")\n",
        "\n",
        "\n",
        "\n"
      ]
    },
    {
      "cell_type": "markdown",
      "metadata": {
        "id": "w9tdao2wR1wc"
      },
      "source": []
    },
    {
      "cell_type": "code",
      "execution_count": null,
      "metadata": {
        "id": "Iom_a-CyfLgK"
      },
      "outputs": [],
      "source": [
        "pip install simplekml\n"
      ]
    },
    {
      "cell_type": "markdown",
      "metadata": {
        "id": "7mjmn2zC2Sp4"
      },
      "source": [
        "#Mô phỏng trên bản đồ vệ tinh"
      ]
    },
    {
      "cell_type": "markdown",
      "metadata": {
        "id": "mhNFkdGz2Oyt"
      },
      "source": []
    },
    {
      "cell_type": "code",
      "execution_count": null,
      "metadata": {
        "id": "aS9WYZEZe6Ls"
      },
      "outputs": [],
      "source": [
        "import pandas as pd\n",
        "import simplekml\n",
        "\n",
        "def create_kml_from_csv(csv_file, output_file):\n",
        "    # Đọc file CSV\n",
        "    df = pd.read_csv(csv_file)\n",
        "\n",
        "    # Khởi tạo đối tượng KML\n",
        "    kml = simplekml.Kml()\n",
        "\n",
        "    # Lặp qua từng hàng trong DataFrame và thêm điểm vào KML\n",
        "    for index, row in df.iterrows():\n",
        "        kml.newpoint(coords=[(row['lon'], row['lat'])])\n",
        "\n",
        "    # Lưu tệp KML\n",
        "    kml.save(output_file)\n",
        "\n",
        "# Đường dẫn đến file CSV\n",
        "csv_file = '/content/drive/MyDrive/data_full_new/newdata.csv'\n",
        "\n",
        "# Tên tệp KML đầu ra\n",
        "output_file = 'data_prediction.kml'\n",
        "\n",
        "# Tạo tệp KML từ file CSV\n",
        "create_kml_from_csv(csv_file, output_file)\n"
      ]
    },
    {
      "cell_type": "code",
      "execution_count": null,
      "metadata": {
        "id": "X528pjyLRYqQ"
      },
      "outputs": [],
      "source": [
        "import pandas as pd\n",
        "\n",
        "search_date = '2017-03-28'\n",
        "\n",
        "# Chuyển đổi ngày tìm kiếm sang định dạng datetime\n",
        "search_date = pd.to_datetime(search_date)\n",
        "\n",
        "# Lọc các chuyến bay trong ngày tìm kiếm và có chỉ số icao24 nhất định\n",
        "flights_on_search_date1 = data[(data.index.date == search_date.date()) & (data['icao24'] == 'abe056')]\n",
        "\n",
        "tong1 = 0\n",
        "tong2 = 0\n",
        "tong3 = 0\n",
        "\n",
        "# Lọc các chuyến bay có velocity bị null và thêm icao24 vào tập hợp\n",
        "for index, row in flights_on_search_date1.iterrows():\n",
        "    if pd.isnull(row['velocity'] ):\n",
        "      tong1 = tong1 + 1\n",
        "for index, row in flights_on_search_date1.iterrows():\n",
        "    if pd.isnull(row['heading']):\n",
        "      tong2 = tong2 + 1\n",
        "for index, row in flights_on_search_date1.iterrows():\n",
        "    if pd.isnull(row['geoaltitude']):\n",
        "      tong3 = tong3 + 1\n",
        "\n",
        "print(\"Số giá trị null trong cột velocity :\",tong1)\n",
        "print(\"Số giá trị null trong cột heading :\",tong2)\n",
        "print(\"Số giá trị null trong cột geoaltitude :\",tong3)\n",
        "# Hiển thị kết quả\n",
        "print(\"Tổng số điểm:\",len(flights_on_search_date1))\n",
        "print(flights_on_search_date1)"
      ]
    },
    {
      "cell_type": "code",
      "execution_count": null,
      "metadata": {
        "id": "UvgI7l4atwBZ"
      },
      "outputs": [],
      "source": [
        "data.info()"
      ]
    },
    {
      "cell_type": "code",
      "execution_count": null,
      "metadata": {
        "id": "I9MGjOXlG85x"
      },
      "outputs": [],
      "source": [
        "data[data[\"icao24\"]== \"abd57e\"]\n"
      ]
    },
    {
      "cell_type": "markdown",
      "metadata": {
        "id": "vl8aPc2tbrXh"
      },
      "source": [
        "#THÔNG KÊ DỮ LIỆU"
      ]
    },
    {
      "cell_type": "code",
      "execution_count": null,
      "metadata": {
        "colab": {
          "base_uri": "https://localhost:8080/"
        },
        "id": "3HBfQI3UXHu4",
        "outputId": "b875f2ed-5081-4916-acf1-46ab6df11e02"
      },
      "outputs": [
        {
          "name": "stdout",
          "output_type": "stream",
          "text": [
            "Số lượng chuyến bay có velocity bị NULL: 273\n",
            "['a51b93', '2c0974', 'abec03', 'ad97cb', 'a4b294', '2c07f4', 'a3f253', '2c000f', '2c0567', 'a66a13', 'a98f2d', '2c0f59', 'a8c094', '2c0b3c', 'a0f815', 'a57362', 'a335f6', 'a7c878', 'a27de0', '2c0dfa', 'a5823e', 'abeb31', 'a972d3', 'a1102e', 'a1a60e', '2c0c93', 'a789bc', 'a4943e', 'a43b77', 'a39ac6', 'a32ad1', '2c048b', 'ab3c58', 'a449f1', 'a417af', '2c0b4b', 'abaa43', '2c0fa2', '2c00e2', '2c0f55', 'a1e9af', 'a4ef05', 'a506c9', '2c0036', 'a1c8eb', 'ab1d30', 'a4c9f6', 'ab4eeb', 'a18d60', 'ab62d3', '2c01b7', 'a202fd', 'ac8ed7', 'a7a25f', 'a0fb74', '2c0371', '2c03f8', 'a6006f', 'abe3e6', '2c0674', 'a90b3c', 'aafc2d', 'aaa58b', 'aa96e2', 'a7fb19', 'abd2e6', 'a6e89b', 'a7256e', '2c038d', 'a6fb2e', '2c04e0', 'abe892', 'a95340', 'aa7b54', '2c0873', 'a1dddf', '2c08ef', 'ae4ebc', '2c0d36', '0d0600', '2c0ba3', 'a5e921', 'a94b50', '2c07a4', '2c080c', 'a74224', 'aa6c0f', 'aaed5a', 'ab1c47', '2c036e', '2c0390', 'a7911f', '503da5', '0c2063', 'a7debf', 'ab09b4', 'adb29f', 'ab048d', 'adeddd', 'a32ebb', 'a049f0', '2c00f5', 'a49561', 'ab0d76', 'ab5c69', 'a2090d', 'a4eb80', 'a2dffe', 'a2e5d1', '2c0850', 'a91536', '2c09a7', 'a757ae', 'ad340d', 'a7db08', '2c0946', 'abe82c', 'a34fae', 'abf09e', 'a9b053', '2c04bd', 'a7cb52', 'abe1b6', '2c074b', 'a06a7e', '2c0fb9', '2c01f4', 'a48e63', 'a85953', 'ab14d9', 'a7c00f', 'a963bf', 'ad03ee', 'ab04f3', '2c02c8', 'c06c58', 'a4e181', 'a8754d', 'a62e37', 'abb537', 'abb666', '2c0577', 'ab72b3', 'aaf111', '2c06c9', 'a16394', 'ab1122', '2c0012', '2c0e6c', '2c0adf', 'ab6c08', '2c06f3', 'a1e14a', 'abe0df', 'a9a1d9', 'a16de1', 'a2b8c5', 'a2b371', 'a40359', 'a35605', 'a2c62b', '2c0454', 'ab37d6', 'ab23b5', '2c0ae2', 'a9ed8e', 'a4edba', 'a2189c', 'a1db3a', 'a3b4a6', 'ab34ea', 'acd86e', 'a1ac91', 'abe579', 'a40dbb', 'a95306', '2c0a9f', 'a636ea', 'a0902d', 'a78e09', 'a7ad84', 'ac02b4', 'a08321', 'acb285', 'abe475', 'a43b45', 'a118e0', 'ab766a', 'ab8ba5', 'a0cdf3', 'a577a3', '2c0409', '2c0e1e', 'aa795d', '2c0aa9', '2c02e4', '2c0fcf', 'a336df', '2c0ce6', 'a456a9', 'a678ef', 'aac366', 'ac3558', 'abadd6', 'c00e93', 'a8aba8', '503da6', 'a3e08d', 'a38d77', 'a34721', 'a0e600', 'aa72f5', 'a19d27', 'ab2b2c', '2c0b5c', 'a9044d', 'a77ae0', '2c0b5e', 'a7a9cd', 'a87904', 'ac5310', '2c0602', '2c023a', 'ad4c2a', 'a8e47c', '2c04a6', '2c08de', 'adea7f', 'a2f710', 'a9729e', '503daf', 'a49510', 'ab6b45', 'a8dff1', '2c0096', '2c0f44', '2c00f2', 'abf29f', 'ab5365', 'a36d13', 'a05806', 'ab4153', 'a7912a', 'a7c7ea', 'ab8fd0', '2c018c', '503da9', 'ab8031', '2c0fd0', 'a41b66', 'aacfbe', '2c0668', 'a47cba', 'aaffed', 'abd5e0', '2c078c', 'ab03a4', 'a62f85', 'a95dba', 'a78d73', 'abae2c', 'a2f13a', 'c03bf7', 'a36110', 'a94bff', 'aa6f17', 'a6bf31', 'a40c4b', 'ab7a21', 'a69900', '2c058c', 'ab8b56', 'a69242']\n"
          ]
        }
      ],
      "source": [
        "# Tạo một tập hợp để lưu các icao24 của các chuyến bay có VELOCITY bị null\n",
        "flights_with_null_velocity = set()\n",
        "\n",
        "# Lọc các chuyến bay có velocity bị null và thêm icao24 vào tập hợp\n",
        "for index, row in data.iterrows():\n",
        "    if pd.isnull(row['velocity']):\n",
        "        flights_with_null_velocity.add(row['icao24'])\n",
        "\n",
        "# Chuyển tập hợp thành danh sách để hiển thị\n",
        "list_velocity = list(flights_with_null_velocity)\n",
        "\n",
        "# Hiển thị danh sách các icao24 của các chuyến bay có velocity bị null\n",
        "print(\"Số lượng chuyến bay có velocity bị NULL:\", len(list_velocity))\n",
        "print(list_velocity)\n"
      ]
    },
    {
      "cell_type": "code",
      "execution_count": null,
      "metadata": {
        "colab": {
          "base_uri": "https://localhost:8080/"
        },
        "id": "7JfDCs-nwGjF",
        "outputId": "85c28f78-31a9-42e1-b87d-ab3f95de8148"
      },
      "outputs": [
        {
          "name": "stdout",
          "output_type": "stream",
          "text": [
            "Số lượng chuyến bay có heading bị NULL: 273\n",
            "['a51b93', '2c0974', 'abec03', 'ad97cb', 'a4b294', '2c07f4', 'a3f253', '2c000f', '2c0567', 'a66a13', 'a98f2d', '2c0f59', 'a8c094', '2c0b3c', 'a0f815', 'a57362', 'a335f6', 'a7c878', 'a27de0', '2c0dfa', 'a5823e', 'abeb31', 'a972d3', 'a1102e', 'a1a60e', '2c0c93', 'a789bc', 'a4943e', 'a43b77', 'a39ac6', 'a32ad1', '2c048b', 'ab3c58', 'a449f1', 'a417af', '2c0b4b', 'abaa43', '2c0fa2', '2c00e2', '2c0f55', 'a1e9af', 'a4ef05', 'a506c9', '2c0036', 'a1c8eb', 'ab1d30', 'a4c9f6', 'ab4eeb', 'a18d60', 'ab62d3', '2c01b7', 'a202fd', 'ac8ed7', 'a7a25f', 'a0fb74', '2c0371', '2c03f8', 'a6006f', 'abe3e6', '2c0674', 'a90b3c', 'aafc2d', 'aaa58b', 'aa96e2', 'a7fb19', 'abd2e6', 'a6e89b', 'a7256e', '2c038d', 'a6fb2e', '2c04e0', 'abe892', 'a95340', 'aa7b54', '2c0873', 'a1dddf', '2c08ef', 'ae4ebc', '2c0d36', '0d0600', '2c0ba3', 'a5e921', 'a94b50', '2c07a4', '2c080c', 'a74224', 'aa6c0f', 'aaed5a', 'ab1c47', '2c036e', '2c0390', 'a7911f', '503da5', '0c2063', 'a7debf', 'ab09b4', 'adb29f', 'ab048d', 'adeddd', 'a32ebb', 'a049f0', '2c00f5', 'a49561', 'ab0d76', 'ab5c69', 'a2090d', 'a4eb80', 'a2dffe', 'a2e5d1', '2c0850', 'a91536', '2c09a7', 'a757ae', 'ad340d', 'a7db08', '2c0946', 'abe82c', 'a34fae', 'abf09e', 'a9b053', '2c04bd', 'a7cb52', 'abe1b6', '2c074b', 'a06a7e', '2c0fb9', '2c01f4', 'a48e63', 'a85953', 'ab14d9', 'a7c00f', 'a963bf', 'ad03ee', 'ab04f3', '2c02c8', 'c06c58', 'a4e181', 'a8754d', 'a62e37', 'abb537', 'abb666', '2c0577', 'ab72b3', 'aaf111', '2c06c9', 'a16394', 'ab1122', '2c0012', '2c0e6c', '2c0adf', 'ab6c08', '2c06f3', 'a1e14a', 'abe0df', 'a9a1d9', 'a16de1', 'a2b8c5', 'a2b371', 'a40359', 'a35605', 'a2c62b', '2c0454', 'ab37d6', 'ab23b5', '2c0ae2', 'a9ed8e', 'a4edba', 'a2189c', 'a1db3a', 'a3b4a6', 'ab34ea', 'acd86e', 'a1ac91', 'abe579', 'a40dbb', 'a95306', '2c0a9f', 'a636ea', 'a0902d', 'a78e09', 'a7ad84', 'ac02b4', 'a08321', 'acb285', 'abe475', 'a43b45', 'a118e0', 'ab766a', 'ab8ba5', 'a0cdf3', 'a577a3', '2c0409', '2c0e1e', 'aa795d', '2c0aa9', '2c02e4', '2c0fcf', 'a336df', '2c0ce6', 'a456a9', 'a678ef', 'aac366', 'ac3558', 'abadd6', 'c00e93', 'a8aba8', '503da6', 'a3e08d', 'a38d77', 'a34721', 'a0e600', 'aa72f5', 'a19d27', 'ab2b2c', '2c0b5c', 'a9044d', 'a77ae0', '2c0b5e', 'a7a9cd', 'a87904', 'ac5310', '2c0602', '2c023a', 'ad4c2a', 'a8e47c', '2c04a6', '2c08de', 'adea7f', 'a2f710', 'a9729e', '503daf', 'a49510', 'ab6b45', 'a8dff1', '2c0096', '2c0f44', '2c00f2', 'abf29f', 'ab5365', 'a36d13', 'a05806', 'ab4153', 'a7912a', 'a7c7ea', 'ab8fd0', '2c018c', '503da9', 'ab8031', '2c0fd0', 'a41b66', 'aacfbe', '2c0668', 'a47cba', 'aaffed', 'abd5e0', '2c078c', 'ab03a4', 'a62f85', 'a95dba', 'a78d73', 'abae2c', 'a2f13a', 'c03bf7', 'a36110', 'a94bff', 'aa6f17', 'a6bf31', 'a40c4b', 'ab7a21', 'a69900', '2c058c', 'ab8b56', 'a69242']\n"
          ]
        }
      ],
      "source": [
        "# Tạo một tập hợp để lưu các icao24 của các chuyến bay có HEADING bị null\n",
        "flights_with_null_heading = set()\n",
        "\n",
        "# Lọc các chuyến bay có heading bị null và thêm icao24 vào tập hợp\n",
        "for index, row in data.iterrows():\n",
        "    if pd.isnull(row['heading']):\n",
        "        flights_with_null_heading.add(row['icao24'])\n",
        "\n",
        "# Chuyển tập hợp thành danh sách để hiển thị\n",
        "list_heading = list(flights_with_null_heading)\n",
        "\n",
        "# Hiển thị danh sách các icao24 của các chuyến bay có heading bị null\n",
        "print(\"Số lượng chuyến bay có heading bị NULL:\", len(list_heading))\n",
        "print(list_heading)\n",
        "\n"
      ]
    },
    {
      "cell_type": "code",
      "execution_count": null,
      "metadata": {
        "colab": {
          "base_uri": "https://localhost:8080/"
        },
        "id": "2Dh1Tx4nwYPj",
        "outputId": "1b86f7ad-0954-42ff-fa7a-285b2c96d7fe"
      },
      "outputs": [
        {
          "name": "stdout",
          "output_type": "stream",
          "text": [
            "Số lượng chuyến bay bị có GEOALTITUDE (NULL): 713\n",
            "['a54274', 'a32890', 'a51b93', 'a13408', 'abec03', '2c0d6b', 'a19db5', 'a1e241', '2c000f', 'a66a13', 'a34e40', 'a98f2d', '2c0876', 'a57362', 'a335f6', 'a6844d', 'a7c878', '2c04d2', 'abe448', 'a789bc', 'adde49', '2c048b', 'acf5be', '2c09e9', 'a2cc46', '2c04dd', 'aa16d5', 'a1c8eb', 'a82298', 'a4c9f6', 'a77111', 'a18d60', 'a5ca58', 'ac8ed7', 'aa6dd8', '2c0371', '2c03f8', 'a1fc3b', 'abe3e6', 'ab9de9', 'aaa58b', 'aa96e2', 'adddd5', '2c09be', 'a6e89b', 'a7256e', 'a1d059', 'a963f7', 'a722db', 'abe892', 'aa7b54', 'a95c89', 'ae4ebc', '2c0d36', 'ab975c', 'ab43c6', 'a7911f', '503da5', 'a41e29', 'a0bcb2', 'a1ed66', 'a445f0', 'ab5c69', '2c00d0', 'a78605', '2c068b', '2c05dd', 'aaad8f', 'a7db08', '2c0946', 'abf4b0', 'a98408', 'abe1b6', 'a737c7', '0d02f1', 'ac77d0', '2c0fb9', 'a6e131', 'a16162', 'abdce1', 'a87918', 'ab14d9', 'aaa1de', 'ab2855', 'a6a77c', 'ab04f3', '2c0f2f', 'c06c58', 'a7a60e', 'a4e181', 'aaf111', 'a968bf', 'ab6c08', 'a385da', 'a16de1', '2c0224', 'a32396', 'ad806d', 'a00475', '2c0454', 'a8d665', 'ab23b5', 'a4ba02', '2c0642', 'a636ea', 'abd5bb', 'a7b13b', 'abe287', 'abe475', 'ac4ab5', 'a43b45', '2c0e1e', '2c02e4', 'a577a3', 'a9969b', 'a791c0', '2c0ce6', 'abf17f', 'a73a51', 'a85caa', 'ac3558', 'a041cd', 'abadd6', 'a07f44', 'a7416d', 'ad7a5f', '2c05cc', '2c0b5c', 'ac15aa', '2c0bf0', 'a923cf', 'ab485e', 'a6cc41', 'adea7f', 'abab67', 'ac72af', 'abd536', 'a78a52', '2c00f2', '4d0107', 'a1a605', '2c011f', 'a31ab9', 'ab5365', 'abfefd', 'a8e0c2', 'ab4153', 'aaa2d3', 'a0ff2b', 'a6b0e1', 'a7419c', '2c0fd0', 'ab8031', 'ac2bf8', 'a6464b', 'abd5e0', 'ab2760', 'aa5691', '2c078c', '2c0c2a', '2c01e0', 'abfe1c', 'a4943f', '2c021c', 'a69900', 'ab8b56', 'a7753f', '2c0974', '503da3', '0c2045', 'ab3ee2', 'ad97cb', '2c0567', 'a3f253', 'ab4bab', 'ac7b87', 'a1dc31', 'a94b2e', 'a46e5f', 'a1226b', 'a972d3', 'a1a60e', 'a5223c', 'a43815', 'a426e0', 'a43b77', 'acfc58', 'a32ad1', 'a546c9', 'a86061', 'a449f1', 'a40698', 'ab7f5c', '2c0fa2', '2c00e2', '2c0f55', 'a4ef05', 'abe7c5', 'ab62d3', '2c01b7', 'a202fd', '4247a1', 'a0fb74', 'a6006f', 'aafc2d', 'a81b2a', '2c038d', 'aba281', 'a96b65', 'a6fb2e', 'a95340', '2c0873', '2c0b2a', 'a0b6ea', '0d0600', '2c0ba3', 'a94b50', 'ab5eb2', 'a94b05', 'a0b581', 'a19647', 'ab2f35', '2c036e', 'ab09b4', '2c04f4', '2c00bb', 'a049f0', 'c004f3', 'a445ec', 'adb3cb', 'aa017c', 'a49561', 'a33272', '2c00f5', 'a76ddf', 'a21f57', 'a2e5d1', 'a2dffe', '2c0d25', '2c032d', 'a91536', 'abaafe', 'ad340d', '2c02fa', 'e490fd', 'a226c5', 'abe82c', '2c04bd', 'a883bd', 'a7cb52', '2c0240', 'a5b923', 'a06a7e', 'a69cb7', 'ab2f1f', 'a6b911', 'a85953', 'a7c00f', 'a963bf', 'a92171', 'abebe0', 'a0be81', 'a704f9', '2c06c9', 'a9b2d4', '2c0e6c', '2c06f3', 'a1e14a', 'abe0df', '2c0784', 'ada521', 'ac771f', 'a494e9', 'a7824e', '2c02e2', 'a8e813', 'aa6f63', 'a76d99', 'ad0e61', 'a365f8', 'a41e94', 'abe056', 'abfa65', '2c0788', 'a1ac91', '2c06c3', 'a82e27', 'a1ff46', 'a95306', 'a8e825', 'ab3c61', 'abb12d', 'a902b5', 'a98051', 'a389c0', '2c0409', 'a336df', 'a3323f', 'adf0a8', 'a0fcd4', 'c004e9', '2c0929', 'ae4ec0', 'a339ad', '503da6', 'a7c62e', 'acd100', 'a9e737', 'ab2b2c', 'abae62', 'a77ae0', 'abb1c2', 'aafd17', 'abefba', 'a669a8', 'a09188', '2c08de', 'a566da', 'aa7aeb', 'abd971', 'ab6b45', 'ac7f41', 'a8dff1', '2c05e7', 'a40b98', 'a474e8', 'a4b444', '2c0655', 'a05806', '0d0806', 'adb656', 'ab8fd0', 'a41b66', 'aaadf8', 'aaffed', 'ad20f4', 'a0f1bb', 'a62f85', 'a95dba', '2c01d9', 'ac468d', 'a36110', 'a40c4b', 'aa6f17', 'a97c9a', 'a76d54', 'a9021c', 'a6c07f', 'a6bf31', '2c0b4b', 'a69242', 'a369af', 'ab6339', 'a1bfba', 'a4b294', 'a8c094', '2c0b3c', 'a0f815', 'abbdfa', 'a700a4', 'ab5e9b', 'a27de0', 'ad8881', 'a5823e', 'a1fc42', '2c0dfa', 'a1102e', 'abea11', 'a41e90', '2c0be0', 'aa700f', '2c00d6', '2c0fb2', 'a18113', 'ac2bd5', 'a06310', 'adc8e7', 'a794d6', 'a1e9af', 'a9fe30', 'a9fbed', '2c0036', 'ab4eeb', 'a7a25f', 'a34ae0', 'a95c43', '2c0286', 'a90b3c', 'abfb46', '2c04e0', 'abd2e6', 'ac91d4', 'a1fff9', 'a83ef2', '2c0b0b', 'a1dddf', 'ad2f24', '2c0b55', 'a9fdb4', 'a5e921', 'a74224', '2c0ccc', 'aa6c0f', 'aaed5a', 'a7617e', '3c7066', '71bc15', 'a64d06', '2c0390', 'a7debf', 'a44560', 'adb29f', 'acc3b4', 'adeddd', 'a32ebb', 'ac7082', 'ab0d76', 'a03749', 'c00ec2', 'ab183e', 'aa7b78', 'a7d39a', 'a757ae', 'a34fae', 'a9b053', '2c074b', 'a53436', 'abd8c1', 'ade96e', 'a32363', 'ad1ffb', 'a81ee1', 'a63bf4', 'a76f66', 'a8352b', 'ab2496', 'ad03ee', '2c02c8', 'a8754d', 'a665aa', 'abb537', 'a716ee', 'a76546', 'a16394', 'abef79', '2c04a3', '2c0012', '2c0adf', 'a32be6', 'a9a1d9', 'a42f04', 'adc531', 'a2b371', 'a1308a', 'a0996b', 'a6227b', 'a40359', 'abe2a3', '2c02eb', 'a57666', 'a0c162', 'abb7c8', 'a1d10c', 'ace0d2', 'a2189c', 'ab34ea', 'aab0de', 'ac5314', 'a40dbb', '2c0da0', '2c0a9f', 'a7ad84', 'ac02b4', 'a08321', 'ab5f00', 'acb285', 'a97655', 'a55d6a', 'a84a17', 'a1530a', 'a118e0', 'ab502d', 'ab8ba5', '7c3b43', '2c090c', 'a3cd99', 'a456a9', 'a678ef', 'ab1c40', 'a6d74d', 'a38991', 'a849ab', 'aa72f5', 'a8ee4d', 'a19d27', 'a1d7c7', 'a9044d', 'a7a9cd', '2c05de', 'a87904', 'a7cc2c', '2c0602', 'a84660', 'a86671', 'a4f05d', 'a8e47c', 'a2f710', 'a9729e', '503daf', 'a49510', 'a0ddfb', 'abd57e', 'a96171', 'ab0e16', 'a958d2', 'a40cce', 'abe4db', 'a36d13', 'ad2c19', 'a9600b', 'a7912a', 'a00538', 'a7c7ea', '2c018c', 'a82a06', 'c0524c', 'ac5829', 'a4b64b', '2c0668', 'aacfbe', 'aaa83f', '2c0f4a', 'a87196', 'a131f4', 'ad18da', 'a2107b', '4d012b', 'ab313c', '2c058c', '2c0144', '2c0ffb', '2c07f4', '2c0f59', 'a35635', 'a0541b', 'aba7b0', 'abeb31', 'abd19e', 'acde5f', '2c0c93', 'a4943e', 'a5c474', 'a4b1f4', 'a39ac6', 'abb68c', 'a2c205', 'ab3c58', 'a7128b', 'a417af', 'abe40a', 'abaa43', 'a506c9', 'abd8e4', 'ac5331', 'acd1f6', '2c08af', 'ab1d30', 'ace31a', 'adc65e', 'adb782', 'aab129', 'abd3c7', 'a71f24', '2c0674', 'a7fb19', 'a1a8db', 'a8b4eb', 'abd135', 'a80dac', 'a4467a', 'aaa28d', 'abd1c5', 'aafc36', '2c08ef', 'a494eb', 'a098f6', '2c07a4', 'a71232', 'aafc60', '2c080c', 'ab8880', 'ac5920', 'adf068', 'adf194', 'ab1c47', 'c01791', '0c2063', 'ab048d', '2c019e', 'a4eb80', 'a2090d', 'a320c9', '2c0850', '2c09a7', 'a1e8b8', 'aa7030', 'a46d47', 'a96c96', 'ad44bc', 'abf09e', 'a6f777', 'a8bcdd', '2c01f4', 'a48e63', '2c055f', 'a0d90c', 'a6d326', 'a95c0c', 'abaf2e', 'a62e37', 'abb666', '2c08b2', '2c0577', 'ab72b3', 'a86ddf', 'accb22', 'ab1122', 'a199fe', 'a923a7', 'ac2bfd', 'a58642', 'a2b8c5', 'a74170', 'a04240', '47a1cf', 'a35605', '2c01d1', 'a2c62b', 'a6cb48', 'ab37d6', 'aae5f7', '2c0ae2', 'a9ed8e', 'a339db', 'a4edba', 'a3b4a6', 'a1db3a', 'abda54', 'acd86e', 'abe579', 'a77e8f', 'adc5a6', 'a0902d', 'a78e09', 'c033a0', 'a12121', '2c0421', 'ab766a', '2c0fcf', 'a0cdf3', 'abfde0', 'aa795d', '2c0928', 'a44e18', 'aac366', 'a6cff8', 'a9767b', 'c00e93', 'abdd4a', 'a8aba8', 'a34721', 'a3e08d', 'a38d77', 'ad90a3', 'a0e600', 'a8fc73', '2c0b5e', 'abdcb7', 'ab6101', '2c0ff4', '2c0365', 'a1e5f8', 'ac5310', '2c023a', 'ad4c2a', '2c04a6', 'aaa201', 'a1a523', 'a57412', 'aa6d33', '2c0096', 'abd230', '2c0f44', 'a2c7ef', 'abf29f', 'ad5c83', '503da9', 'a47cba', 'a6a425', 'ab03a4', 'a83782', 'ab38a1', 'a78d73', 'a5142e', 'abcd31', 'a2f13a', 'a78dbe', 'abae2c', 'c03bf7', 'a94bff', '2c03ee', 'ab7a21', '2c0aa9']\n"
          ]
        }
      ],
      "source": [
        "# Tạo một tập hợp để lưu các icao24 của các chuyến bay có GEOALTITUDE bị null\n",
        "flights_with_null_geoaltitude = set()\n",
        "\n",
        "# Lọc các chuyến bay có velocity bị null và thêm icao24 vào tập hợp\n",
        "for index, row in data.iterrows():\n",
        "    if pd.isnull(row['geoaltitude']):\n",
        "        flights_with_null_geoaltitude.add(row['icao24'])\n",
        "\n",
        "# Chuyển tập hợp thành danh sách để hiển thị\n",
        "flights_with_null_geoaltitude_list = list(flights_with_null_geoaltitude)\n",
        "\n",
        "# Hiển thị danh sách các icao24 của các chuyến bay có velocity bị null\n",
        "print(\"Số lượng chuyến bay bị có GEOALTITUDE (NULL):\",len(flights_with_null_geoaltitude_list))\n",
        "\n",
        "print(flights_with_null_geoaltitude_list)\n"
      ]
    },
    {
      "cell_type": "code",
      "execution_count": null,
      "metadata": {
        "colab": {
          "base_uri": "https://localhost:8080/"
        },
        "id": "OmsVzPyLZ6Yt",
        "outputId": "38b3c0f8-2612-49ed-bd0b-32d0d57c776e"
      },
      "outputs": [
        {
          "name": "stdout",
          "output_type": "stream",
          "text": [
            "{'a8b22f', '2c08f6', 'acd4f5', 'a78e09', 'a79ea8', 'a3d150', 'a4b971', 'a91535', 'a9d605', 'a34fae', 'a417af', 'a65b76', 'aaa1de', '0c208c', 'ac72af', 'a972d3', 'a45072', 'a4f7cb', 'abe892', 'a963bf', '2c0c2a', 'a09322', '34230a', 'a77442', 'a46d4f', 'a57d52', 'abaadd', 'acab11', 'aa6c0f', 'a923a9', 'ab1c40', 'c05856', 'a8bcf1', 'a5c1ad', 'aa7030', 'a12121', 'ad9003', 'abe056', 'a7c322', 'a114b1', 'aa6489', '2c09a7', 'aba6e6', '2c080c', 'ac058a', 'a00538', '424338', '4006b1', '4d0101', 'a9238a', 'c0669e', 'a389c0', 'adba21', 'c080a3', 'a757ae', 'a6189c', '2c031d', 'aacfbe', 'ad20f4', 'a0a7d6', 'aaf007', 'a37a0c', 'a7debf', 'ab5bb1', 'ac3625', 'abb2d5', 'a94b50', 'ab6800', '7c2e20', 'a6b168', '06a1e7', 'a92c6d', 'a8264f', 'a691cb', '2c0e79', '2c021c', 'aa700f', 'a0c955', 'aa099e', 'a18d60', '2c00ca', 'a688f4', 'a0f634', '0c2052', 'abdc78', 'aae24d', 'ab8fee', 'ad3654', 'a7706b', 'ab5ade', 'c03291', 'a46d70', 'a5745b', 'a3a873', 'a02159', 'a098f6', 'a0cf8d', 'aa95ac', 'a43ea6', 'a88dfd', '2c0724', 'a102e2', 'a524ee', 'a087fd', 'c03f81', 'ab3133', 'a226c5', 'ac8621', 'aa7305', 'ac22c5', 'a06abb', 'ad93c9', 'c0499b', 'a83e56', 'ac67fc', 'a7f6b0', 'a7b4c7', 'a7767b', 'aa492b', '2c087f', 'ab678e', 'aa1156', 'aa7a61', 'a8d4b0', 'a124ae', 'a2c205', 'a4e181', 'a7ef17', 'a708b0', 'a3427f', 'ac30d8', 'aa7e74', 'adf194', 'a6d7c9', 'a83787', 'a0019e', 'ac2bd5', 'a1d87a', 'aab129', '40040a', 'aaf111', 'c06142', 'a008ef', '406a9d', 'a6d8ff', 'a6f975', 'ab03a4', 'c03c02', 'a3e917', 'a41096', 'c0584d', 'aa2ba4', 'acf207', 'a8e75f', 'ab3d41', 'a38d48', 'a05434', 'a74d0e', '0d0805', 'a131f4', '2c0b45', 'a98023', 'a8aeab', 'a8c802', 'a0681c', 'aa6466', 'a07c46', 'a75359', '71c045', 'a0cdf3', 'a7a94b', 'a6464b', 'ab1935', 'a2923f', 'ac9f52', 'aa6c9b', '2c0ffb', 'aad72c', 'a791c0', 'a7045b', 'aa7e16', 'ab0d76', 'a54f41', 'ab2b23', 'a5142e', 'ab538b', 'aba1a0', '2c01d9', 'ace063', 'a6329d', 'a03bc0', 'acb1e5', 'ab628c', 'a28947', '2c00d6', 'a3144c', 'a38ff7', 'aa6f63', 'a9589c', 'a88d3c', '0d05d5', 'a34b0a', '2c0850', 'a3e5f8', '2c000f', 'ac0b7f', 'a08321', 'abccc5', 'a0afa5', 'ac6445', 'abf3da', 'a8348b', 'a3a67b', 'a9d2fa', 'a21b7d', '2d4bc0', 'abae2c', 'a12c76', 'aafc2d', 'aa568f', 'a21ed4', '2c0821', 'aa7e56', 'a0902d', 'a42f04', '2c01f4', '2c00f2', 'a8f213', 'a6f009', '2c0b26', 'a66346', 'c05220', 'a0f91d', 'ab15c2', 'ac7b8a', 'a389de', 'a75a21', '3434ca', '2c06d3', 'a0e9b7', 'abd971', 'a90b3c', 'a0c5c6', 'add324', 'a50cb7', 'a9d5e5', 'a16de8', 'a12ce9', 'ab5f87', 'ab5d4a', 'a98f2d', 'a16fa6', 'aafc36', 'a837a7', 'ae57b7', 'a5a934', 'aa8740', 'a40d92', 'abba43', '2c0453', 'aba941', 'a46e5f', 'a07f44', 'c07eee', 'a385da', 'a18403', 'a185e4', 'ab6020', 'a3e582', '2c0b77', 'a6800a', '2c00e2', 'aa94be', 'a55447', 'a43918', 'a0ddfb', 'a63a64', 'a49995', 'ad3c48', 'ab3d39', 'a4cfe0', 'a71e9a', 'a7e9e4', 'ad08ef', 'a48b51', 'a3ee0b', 'a214de', 'a8603e', 'a976d5', '899113', 'a6a77c', 'aaa2d3', 'a3f161', 'a359bc', 'a44544', 'a4460e', 'a669a8', 'a73ab6', 'a2615e', 'aa72d3', 'a64a02', 'a94bff', 'a02dda', 'acf975', 'a77e97', 'aaf87f', 'aca20d', 'a69c47', '2c096c', 'ac0a22', 'a08a1a', 'abe77a', 'ae01df', 'abf6ae', 'ab04f9', 'a2ce2d', 'a0dab2', 'acd1f6', 'a31fc6', 'a4682e', 'a7db08', 'ace194', 'ac2a33', 'a33ecc', 'a00475', 'ab7b02', 'aaffed', 'a65560', 'ab8112', 'a0541b', 'a5e8d1', 'abbedb', 'a7ec50', 'abdd91', 'abb6dc', 'a5c6a1', 'a7256e', 'ad806d', '2c0d14', '2c02fa', 'ab4c99', 'a94b72', 'a4f75f', 'a94ae5', 'aa735a', 'aa7685', '47a1cf', 'aa8af7', '3964e2', 'ac86af', 'ab8c19', 'a203a9', 'abdcda', '2c0bf0', '2c0057', '2c035f', 'ab0129', 'a53436', 'aa01e7', 'a8dff1', 'aa9963', '2c058c', 'ad1c85', 'a7c62e', 'ac8255', 'a35e8a', 'abefba', 'abd932', 'a41b66', 'a1d10c', 'a3ecce', 'a26473', 'ac0417', '2c0fa4', 'a48473', 'a57719', 'a7128b', 'a39eac', 'ab8031', 'abac48', '0c203a', 'aa9eb3', 'ab398a', 'ac77d0', 'a9ed8e', '2c0365', 'ac03f2', 'a4b455', 'a023e3', 'a1db7e', 'ab1979', 'a9f832', 'ac6f43', 'a07f6a', 'ac5ca9', 'a049f0', 'ab00d6', '2c0d7e', '2c086d', 'a491b6', 'c07fb0', '503daf', 'a55bb5', 'a9729e', 'a85ca7', 'aa56d5', 'a43b77', 'a2ceec', 'ace96c', 'abd77e', 'ab9085', '2c0240', '2c0ae1', 'a8fda9', 'a7d751', 'c07b8c', '2c0949', '2c04b5', 'acf8c9', 'ad9bc8', 'a335f6', '2c0de7', 'a4ebb2', 'ad8935', 'a16abb', 'a000da', 'ab04f3', 'a066c7', 'a1226b', 'ad44bc', 'acb1af', 'a34b10', 'ab35e5', 'abea11', 'a4aa49', 'a9078c', 'a740ed', 'aa5cf8', 'a406be', 'a46d4a', 'a92eef', '2c0208', 'ad605e', 'a11817', 'abf008', 'aa40b4', 'a3db13', 'a36511', 'abe3c8', 'ad3528', 'a3d8be', 'aaa244', '2c0ca1', 'a038c7', 'abe930', 'aaf5b1', 'abd9b6', 'a1ed66', 'a874e1', 'adabef', '2c0655', 'a6f3c0', 'a0a8df', 'a32890', 'a4caec', 'a4ef3c', 'a975fe', 'a7265b', 'a6e89b', 'a606e9', '2c0e93', 'ab2f35', 'ab766a', 'ad15cf', 'abadf9', 'a636ea', 'a203b0', 'a00a31', 'a3650b', 'a8d4cc', 'aabd2b', '71c005', '2c0b91', 'c020e4', 'a9f0bf', 'a3c9e2', 'a74efc', 'a67160', 'a9d5a2', '2c04d9', 'a742c2', '2c09f1', 'a11882', 'ad00e3', 'ac7160', 'a21ed8', 'a64973', 'aa96be', 'ab9a1a', 'a04da8', 'a32f9d', 'a46d29', '0c205f', 'a05cf0', 'a8cebc', 'c02d51', 'ad1218', 'a40cb6', 'a0f4fd', 'abaf6e', 'a53eef', 'a95c89', 'ab975c', 'c050b9', '2c0d3c', 'a1dddf', 'abadc0', 'a282be', 'a3ade9', 'a4009e', '2c0a09', 'a2c35b', 'ab15ba', 'ac847b', 'a40e1c', 'aa2bc1', '4d0128', 'ad4036', 'a6d65b', 'adfe4d', 'abcd31', 'aac6ee', 'ad4105', 'a9d744', 'abcdc7', '2c0f7a', 'c080aa', 'a3deca', '0d09b8', '2c0a95', 'ab37d6', 'a6ba79', 'a43815', '2c019b', 'ac5331', 'a144a0', 'a8f21d', 'abfe1c', 'a6810d', 'a85f20', 'ac8ed7', 'a09940', 'a445ec', 'ad90a3', 'a198fd', '2c0d2d', 'a1403e', '3c4b2e', 'a4f2ee', 'a94ae3', '394a08', 'a05f59', 'c0613e', 'aa7b54', 'a5d4c3', 'abf32f', 'a1530a', 'a646f9', 'a8352b', 'aafd1f', 'ad3c96', 'a6b1a3', '2c0224', 'a14b9b', 'a22753', 'a0174b', 'abef79', 'a700ea', 'a98b76', 'a10041', 'ab0a95', 'a43ea2', 'a7523b', 'a88e39', 'ac15aa', 'a54926', 'adf518', 'a9e391', '2c003c', 'acb826', 'a9d86c', 'a0b8fb', 'a4dd5e', 'a6c248', 'a3d7b9', '0d09de', 'a04edb', 'abae8f', 'ac2dea', 'abc865', 'a097e9', 'add2b6', 'a8063e', 'ac2bf8', 'a6d326', 'a9de50', '0d0804', 'a26b8a', 'a08f94', 'aacb19', '2c0894', 'a63a57', 'abd50f', 'aa4e1c', 'a0f828', 'a77f2d', 'a67181', 'aaa0d1', 'a82d1e', 'ad5fe9', 'abe2a3', 'a96f91', 'a494eb', 'aaa1bb', 'aaa267', 'a21f58', 'a7b4ea', 'a3ea0c', '2c08e0', '2c0e2d', '0c2063', 'adfe4c', 'adc17b', 'ae1258', 'abf78f', 'a278f3', 'ab6101', 'aaa201', 'abab43', 'ad4b72', 'a5818b', 'c00cd6', 'a6148e', 'abaf2e', '2c0b5c', '2c04bd', '0d09a4', 'a0abee', '2c066e', 'ab2c04', 'abe450', 'aba875', 'adda92', 'ab3c58', 'ac5802', 'a9bd9a', 'ac03ef', '4d012b', 'a4e3f0', 'ae13d1', 'a1ff46', 'aa1e41', 'ad7b17', 'a72bda', 'a7f3ab', '2c0bba', 'aa1a8a', 'a774b7', 'a72823', 'a242af', 'aa16d5', 'aaed09', 'aba281', 'aaee3b', 'acaa77', 'a29d50', '3965b0', 'aa6988', 'a26a4f', 'a00084', '2c0d71', 'a8102a', 'a8b728', 'a869bc', 'a9559e', '2c06c3', 'a0ebab', '2c019e', 'ae4eb2', 'acdc25', 'a9c1c5', 'a3244f', 'aa8aae', 'a98445', 'a85e2b', 'a187ea', 'c07877', 'a72c78', 'aa2ba1', 'ad18da', 'a45091', 'abde0b', 'a57b5a', 'a6b4f7', 'a76028', 'a95306', 'a3d8a2', 'ab5e6c', 'a57249', 'aba891', '342212', 'a66a4c', 'a6c120', 'a69242', 'ace0d2', '06a1e8', 'a0b199', 'a35605', 'a63bf4', 'a9021c', 'acb636', '2c00af', 'a742a4', 'a4360a', 'a06db4', '2c03ee', 'a10d7f', 'aa2bc5', 'ac034b', 'a9c737', 'a1f503', 'ae4ec0', 'ab3edd', 'a1b907', 'aa9fe3', 'ab4b34', 'a55090', 'a0e431', 'a18a4f', 'aaa28d', 'aaa31d', 'a6dc3a', 'a047db', 'a3244a', 'ab3c61', 'a7db4c', 'a005c9', 'ab7394', 'a21c4c', 'a923cf', '2c097a', 'abf09e', 'abd559', '2c02b4', '394650', 'a41e94', 'aa7a3c', 'abb68c', 'a437c0', 'a923cd', 'a4e8ef', 'a1930e', '780bb7', 'a3396b', 'a3c68c', 'a0a2f0', '2c0ea8', 'abef98', 'a4b64b', 'a31380', 'ab7ae4', 'a4fcce', '2c0fa2', 'ab284d', 'ab6316', 'a3fbeb', 'a0f7e2', 'a5ddc8', 'a0a80e', 'a16162', 'aae316', 'a645b1', '2c0e97', 'c05853', 'a521f8', 'a27cd8', 'a94b02', 'a09702', '2c0b3c', 'ac798c', 'c01ef7', 'aa7e2e', 'c00d20', 'ad0b3f', 'a860c1', '2c050c', 'a0a7a0', 'a71b10', 'ad4f3f', '2c0747', 'c01c28', 'a7c807', 'ae4eb9', 'a4a08e', 'a33d5a', 'a50175', 'a809f5', 'a3524e', '0c203b', 'abb3b6', 'a3599f', 'a98051', 'a81ee1', 'a4fff7', 'a81005', '2c0a31', '381ffb', 'a93337', 'ab8ba5', 'ab5ed8', 'a72540', 'a8dcee', 'a076f1', '06a141', 'a4f77c', 'c021f6', 'ab1ffe', 'aca6c0', 'a9ad36', 'a9db8d', 'abaafe', 'adbe38', 'a4b8bf', 'a6925e', 'a3ed0f', 'abdcdc', 'a33f01', 'a570f5', '2c0720', 'a6b900', 'a76f87', 'ac4dfb', 'a58a36', '2c0fcf', '0d0984', 'a5042e', 'ab09b4', '2c09d6', 'a1fed3', 'a6fb32', 'a58ded', '2c0f50', 'ac6aa9', 'a82298', 'a4d9a7', 'a6e03b', 'a9249c', 'a14f95', '2c0781', 'abe1b6', '406a9f', 'ab80f4', 'ac82f8', 'c0121e', 'ad6116', 'ac94f1', '2c0a63', 'ab663f', '2c0f55', 'aa2ba5', 'abb7c8', '2c0407', 'a8dc3a', 'acbc04', '15407a', '2c0adf', 'ac4ab5', 'a7dacf', 'ab34ea', 'a09cad', 'ad6ff2', 'ad447d', 'ab5bf0', 'c07fb1', 'abebe0', 'a6bf31', '2c0503', 'ac5312', '2c054e', 'a689bd', 'a5252c', 'aaa5d4', 'a9c5a3', 'a3612a', 'a8856d', 'a0f6b5', 'a51770', 'a01cab', 'a5ce0f', 'ac6f37', 'a3f1c2', 'a70b8c', 'c02966', 'ab5f6a', 'aa6c7c', 'a89861', 'a161b3', 'a4bdb9', 'a3bbd6', 'a1fff9', 'ac77d3', '0d002f', '2c08fa', 'a65844', '2c0e60', 'aacd50', 'a6c07f', 'ac7419', 'a8e813', '2c03c4', 'ab0768', 'a8d5a4', 'a37289', 'a05806', 'a9cd47', 'ba11f2', 'abeb31', '343315', '4248f8', 'a37020', '2c0249', 'aab364', 'a38293', '2c03ff', 'a1e5f8', 'a80dac', '2c0a9f', 'c0809d', 'abaa0e', 'a1ac91', '2c0286', 'a06e35', 'aa7ac8', 'a64ad4', 'a456d6', 'abe0df', 'ac70b9', 'a57e87', 'a0d9a1', 'a80287', '2c0866', 'a24a8d', 'aaf002', 'a46ce1', 'a3f253', 'a2f3c8', '2c0fd4', 'a0b333', 'a4c37e', 'a03e29', 'a7c878', '2c0f0e', 'a31fdd', '2c044a', '71bc20', '2c017c', '2c0731', 'ac0e70', 'abb12d', 'a0aeb8', 'abb534', 'a65408', 'a3282f', 'ab8b56', 'c04081', 'a6989e', 'a07cf8', 'aa71e4', 'aaf179', '2c0d36', 'a76980', '34230c', 'aba7b0', 'a3cd99', 'a32e9e', '2c0f8e', 'a8d46a', 'ad6c3b', 'a6f6dd', 'a0c8b1', 'a22003', 'aacd74', 'acf0da', 'a75b65', 'a4e330', 'a256e9', 'a23138', 'aaa590', 'a64df2', '2c05d7', 'aa0938', 'a28de0', 'a0755d', 'a41e74', '2c0785', 'aa8404', 'a08e53', 'ab4c15', 'a96171', 'ab485e', 'adfe8d', '0d081c', 'aac7ab', '2c0617', 'a41f61', 'abe0bb', 'a8fc72', 'a0bcb2', 'a74d2b', 'a31ae8', '2c0828', 'c034ba', 'ab93a5', 'a129d9', 'a022ee', 'a72fa0', 'a0f7c1', 'a794d9', 'ab3282', 'ad203c', 'a838e2', 'acde5f', 'a941b2', 'a406cf', 'a515ed', 'a65fbd', '2c0316', 'abff94', 'a6f326', 'aa91f5', 'a695ea', 'abe80e', 'a8a063', 'a80941', 'a54af4', 'a2dd97', 'ab437a', 'a54312', 'a91536', 'a8cffd', 'c080a0', '0d02f1', 'a6c247', 'a29e2e', 'a50192', '2c09e9', '2c0eab', '2c0634', '2c08af', 'ab1b3e', 'a4b444', 'a84dce', 'a48e63', 'a70e7e', 'a2bcdd', 'a0dadb', 'ad574f', 'ad8895', 'adc531', 'a923a8', 'a19228', 'a0996b', 'ab84c9', 'a6fa94', 'ad7a5f', 'a64d1f', 'c07a0c', 'e491f3', 'a4ad34', 'acd623', 'aa6a76', '2c0f59', 'a7a257', 'a3f43c', 'aafca8', 'a9968f', 'adac5d', 'abb172', 'ace5bc', 'aa4c42', 'abc9da', 'a8a4a0', '2c0929', 'a333e5', 'a654a0', 'a65220', 'acb953', 'aa6b84', '2c0da0', '2c0096', '2c011d', 'ab28bb', 'a61438', 'a109c8', 'abdce1', 'a49920', 'a09533', 'ab313c', 'a3dc75', 'a390ff', 'a650f0', 'a45cef', '2c0350', 'a6006f', 'ac6c0d', 'a0f566', 'c05858', 'ab35cb', 'ab23b5', 'ac2bd9', 'a7cb52', 'acd86e', '2c0b41', 'c088bb', 'aa7ba7', '2c04f4', 'ab7ce7', '2c090c', 'adbb39', 'a71efa', 'a9882c', 'aaa02c', '2c03f8', 'ab5b8c', 'aca309', 'a55a66', 'a78605', '2c02c4', '2c01c2', 'a7c618', 'a3a263', 'a7566a', 'c00e93', 'ad0864', 'a1d01f', 'a06a09', 'acd13e', '2c0965', 'c078fc', '2c0ec5', 'a7a2b4', 'a17b8d', '0d09e5', 'a63b38', '0d0760', '0d09f8', 'a999df', 'ab5bd4', '2c04e0', 'a252a7', 'c017d9', 'a1102e', 'a0053c', 'a9b78e', 'a7b8a1', 'a0d36d', 'a0302b', 'a3e04f', '2c0d04', 'ade200', '0d08fd', 'ab5eb2', 'a62e37', 'abe4b9', 'a7b133', 'a24a8e', 'a474e8', 'aae6cd', 'aa7abe', '2c088c', '2c087d', '4247a1', 'a8657e', 'a6943e', '2c0c1e', 'a7753f', 'a5a91d', 'a6ff76', 'a40c4b', 'a79122', 'a4943e', 'abb537', 'abeb5d', 'a1fc42', '2c0162', 'aaf968', 'aa7e7a', '2c07c8', '2c0e1e', 'a5a84e', 'ab60e3', 'a08bdd', 'a9f1fd', 'abdeec', 'ada296', 'a49227', 'a1ed5f', 'a18f70', 'abf308', 'c01f52', 'a64526', 'a1fc81', 'a28de3', 'a35635', 'a1d7c7', 'a5307f', 'a8bcdd', 'a44611', 'a4e498', 'aa7aa6', 'abd90c', 'a92478', 'a85caa', 'a76cb4', 'ac6f41', 'a9969b', 'adb0b4', 'a3f3bd', 'aa72f5', 'ab5e9b', 'a842a9', 'a51968', 'a1a296', 'abdc56', 'a789b4', 'ade18c', 'aadae3', 'a8a785', 'a57281', 'ac5378', 'a97db4', 'abdd09', 'aa8b40', 'ab2760', 'a95dba', 'a199fe', 'a4f05d', 'ac390f', 'a9f6d4', 'a8d4ad', 'a86ddf', 'a86061', 'a85185', 'a9a901', 'a77721', 'c07444', 'a9c66a', 'a030d5', 'a47d3b', 'a99a52', 'abe7e3', 'a0bd47', '71be39', 'abd45e', 'a2b939', 'ac0ba7', 'acd837', 'a7f14d', 'c080ad', 'acf344', 'a7bc58', 'a3571c', 'a66a13', 'aa24c1', 'a79067', 'abbb24', 'a73e48', '2c0b9a', 'a0e600', '0c204f', '2c02e2', 'abdd4a', '2c0fd8', 'a04e14', 'a952a4', 'a65170', 'ad3650', 'ad6884', 'acdc63', 'adc5a6', 'a0855d', 'a0a36b', 'a313b4', 'a4553b', '2c07dd', 'ab0b1e', 'a1e241', 'a813e9', 'adfe97', '2c0a1c', 'a33327', 'a0f46f', 'a1db97', 'a84660', 'ab8862', 'a36110', 'a0fac3', 'a52911', 'a7e276', 'a00647', 'a6630f', 'abe65a', 'a1a286', 'a47303', 'a724a8', 'a1e14a', 'a34ae0', 'a67538', 'abe79d', 'ac3ef0', 'a77e8f', 'adf0a8', 'a0acfd', 'a11fa1', 'abad6c', 'a9f4c6', 'abd8e4', 'a1f4cd', 'a2c9bb', 'a7419c', 'aa56db', 'a05a25', 'ac782c', 'abd1e3', 'ac3efd', '2d41d8', 'a95c9a', 'a8c44b', 'a1735d', 'aa1f82', 'a8e47c', 'aaf4c8', 'a4d5f0', 'a5b7f1', 'a25f4b', 'aaea84', 'aa6c32', 'a8ab64', 'a7a616', 'a51f4a', 'a90185', '2c0323', 'ac7216', 'a3df50', 'a0c308', 'a85f6e', 'a4b0eb', 'a8d62a', 'c01970', 'a05e90', '503da3', 'abe09a', 'a12cd6', '0c20c9', 'ad34e4', 'adf068', 'abfed7', 'a40cdf', 'ad76a8', 'a638d6', 'a3cf4f', 'a3b4a6', 'a17393', 'a2fb01', 'a1ed2e', 'ab5f43', 'ab0e4c', 'abbdfa', 'a4c9f6', 'adcdcc', 'ab3276', 'a5500a', 'a0f4a2', '2c08b2', 'a4dca4', 'aa6fe9', '2c06f3', 'a05269', 'ac045e', 'abd5bb', 'aa1816', '2c03dc', 'ab2ba3', 'a745db', 'a2ce94', 'ada521', 'aa9e04', 'aa01a0', 'a32449', '2c0bf1', 'a44ef8', 'a14aa8', 'a339ad', 'a639cb', '2c01d1', 'ade543', 'a70c67', '0d0516', 'a8e4e9', 'a10d56', 'a89f5f', 'abaeb2', '2c09ea', 'abfefd', '2c096b', 'abd994', 'aa75a6', 'a02da2', 'a38d77', '2c0fa1', 'a8e825', 'aa56b8', 'a96c96', 'a19343', '2c0611', 'abd627', 'a0d561', 'a613db', 'a38d34', 'ab14d9', 'ad83fc', 'a90b27', 'a40b98', 'a80689', 'a2189c', 'aa7e7b', 'ac3558', 'ac31a1', 'ac03ee', 'a4e4cc', 'abca00', 'a4945f', 'a5b737', 'abbe76', 'a9af85', '2c02b2', 'c033a0', '2c0b3e', 'ad1986', '0c206c', 'a4ddca', 'ad8426', 'a88de8', 'adbef0', 'abdf83', '2c0f98', '2c048b', 'a27d26', '2c07a4', 'a45b57', 'a76850', 'a02006', 'abb1c2', 'a73a51', 'a2aa4a', 'a9047a', 'a6c44c', 'a369af', '2c08cf', 'ab62f8', 'a0934b', 'ab72b3', 'a2d59e', 'a14008', 'acdd1b', 'a06bcc', 'a1d3be', '2c0ad9', 'ab627c', 'a5714a', 'a1a523', 'a0026e', 'a8d6de', 'a9cc7a', 'a557fe', 'aaa58b', 'a2f3b8', 'abd19e', 'aae9a3', '2c0974', 'a2daf0', 'a4460d', 'a03749', 'ad1570', 'ada64d', 'acb59c', 'ac86b6', 'a0c075', 'c049e9', 'a418e0', 'a3231a', 'c03517', 'ab04a2', 'a9dce9', 'add3dc', 'ac70c3', '2c0300', '2c0558', 'ac9e9a', '3c7066', 'a967eb', 'a87cbb', 'aab0ba', '2c0375', 'a7d66c', 'a88d2e', 'a9bee2', 'a4cc95', '2c0551', 'abf375', 'a4fddb', 'abe872', 'a46cc1', 'abd155', 'aa5b9f', 'ad2f24', 'aa2ba2', 'a9b38f', 'a6e131', 'a1e9ac', 'a805f3', 'ad03ee', '2c0bf4', 'a611d7', 'a9a7c4', 'abf351', 'a5375a', 'a45a24', 'a94b0b', 'a07311', '0d08a5', 'a02792', 'aa6ba6', 'a9aeb3', 'ab5b2b', 'c00926', 'a1b3ff', 'a6d70f', 'a8d489', 'aa56b6', 'a3bebd', 'a94b05', 'a0ade2', 'adc2a7', 'ad9b28', 'a7617e', 'a01b97', 'abe501', 'a4cea3', 'a8913b', 'a33d8c', 'a9e9d7', 'a5223c', 'a99aec', 'a16228', '2c0012', 'a0be81', '2c0a9e', 'c0331e', 'ab1c47', 'a7c524', 'a71337', 'adb3cb', 'a57362', 'abe475', 'ac793f', 'ab6fdd', '2c09f9', 'a76f66', 'a635da', 'aa017c', '2c0c93', 'a209c0', 'a7d817', 'abe42c', '2c0e58', 'acaa54', '0c2081', '47a0b2', 'a4bff3', 'a72213', 'ab183e', 'a83782', '2c00f5', 'a8af5f', 'a48e1b', 'a73b7e', 'a699a1', 'aa8477', 'a066e3', 'ad5d5f', '2c02eb', 'a91de9', 'ad96b9', '2c0034', '2c0576', 'a0e0cf', 'ab64b8', 'a42dbc', 'a777bf', 'aaf18d', 'c03bf5', 'a0f541', '2c0674', 'ad3292', 'a025ec', 'a58a25', 'abdb4a', 'a70491', 'a69582', 'a0baa1', 'a0b581', 'a704f9', 'a8a017', 'a3d7e2', 'a77784', 'a81508', 'aca976', 'ad5398', 'a2773c', 'a43667', 'a67cb9', 'a74dda', 'a41722', 'a6a1cf', 'ab2b2c', 'a258b7', 'a71f24', 'a1fc3b', 'a9d0fe', 'aa9ed6', 'aa6bc9', 'aa44ac', '2c099e', 'adb656', 'a7e2c5', 'ac754b', '0d059d', 'a48dfb', '2c05de', 'a55f6c', 'a4e115', 'c03c04', '2c01b7', 'abb57a', 'ae4ec7', 'abd746', 'a506c9', 'a4e7c9', 'a82215', 'a6b0e1', '4242c5', 'a885f4', 'ab63d7', 'abdcbe', 'ac5829', 'a06310', '2c0c59', '2c0fd2', 'ab56a9', 'a641fa', 'a4b52e', 'a77ae0', 'a8a386', 'ac76c8', 'a85ff5', 'abd9d9', 'abfbdd', '396443', 'a74224', '2c05c8', 'a1e9af', '2c002b', 'a4ef05', 'ab1971', 'a23047', '0c20ce', 'ab502d', 'a794e1', 'a9544d', 'a0de99', 'a16ad7', 'ad579b', 'ac01d3', 'a890f3', 'abd57e', 'a209b9', 'aa7052', 'a1c4e0', 'ab2ad9', 'a32110', 'a9f3d2', 'a5911c', '2c0144', 'ac066b', 'c0335d', 'a8553c', 'a0a442', 'a1f496', 'a5b923', 'abebbe', '2c0fb9', 'abd8c1', 'a8d4f6', '2c03e0', 'ab686f', 'a4eff1', 'ab875c', '2c0467', 'a32e88', 'aa7e7c', 'a88d96', 'a7d39a', 'ad340d', 'a2757d', 'a067ec', 'a1e270', 'a44565', 'a35d73', 'aaad49', 'ada905', 'a60f9b', 'ad2b6d', 'a32ffe', 'a2bd2b', 'a9164c', 'a18113', 'aae6e1', 'a25bf4', '2c0a6f', 'a6b55a', 'a2ebe7', 'a3ea54', 'a3e528', '2c0b55', '2c05e7', 'abe3e6', 'aa6d33', '4ca4b5', '2c0fe6', 'a4e273', 'abba53', 'aa80c0', '463aff', 'a91369', 'a0fb74', 'aa686f', '2c0c03', 'a83174', '2d4919', 'a923ef', 'a6a45e', '4d20f6', 'a50419', 'a815d9', 'a6a425', 'ad38df', '2c0d8d', 'ad127d', 'acc3d8', 'a19239', '2c0e52', '0d07f0', 'a09e70', '2c08de', 'ab9de9', 'aaae1b', 'a033df', '0d0806', 'ab62ad', 'a51b93', 'a17dd1', 'aa56d8', 'a7cbc9', '2c03d2', 'a06f8a', 'acbf63', 'aa7aeb', 'abadd6', 'aaa2b0', 'a1c203', 'aba51d', '2c08b1', 'ae57c6', '2c0567', 'ac045c', 'ac80ae', '503da9', 'a79406', 'a1985b', 'a3739b', 'a860d7', 'a55d3a', 'a7a9cd', 'a320c9', 'a0c238', '2c04a3', 'ab315d', 'a6a06e', 'aa77c0', 'abdcb7', '2c0326', 'aaa5b8', 'a9b2d4', 'ad27b6', 'aa795d', 'a12c18', 'abec6c', 'a3d3b8', 'a7ad7c', 'a44560', 'ab7ece', 'ad07a5', '2c032d', '2c0164', 'a95c0c', 'a1b400', 'a1c8eb', 'aab0de', 'aa8a26', 'a9b85b', 'a6f68f', 'ab334a', 'c058b8', 'a8bc71', '40040d', 'a90770', 'a3cc37', 'abb76d', '0d0698', 'a7f762', 'a577a3', 'ab20df', 'a030b1', 'a43f83', 'c02a27', 'a7fb19', '0d042b', 'ac7f41', 'a3772d', 'a000d7', 'a70f80', 'a46818', 'aaafad', '2c0992', 'aabbd2', 'a6ae1d', 'a05939', 'abdd6d', 'a7824e', 'a39f0d', '2c0f44', '0d0710', 'a94bfc', 'a671ba', 'a77111', 'abec26', 'ad5c83', 'a713f6', 'a19222', 'a6c436', 'c03435', '2c0141', 'abd8a5', 'a4453e', 'a932a6', 'a05cc7', 'a8d9ee', 'aac3f4', 'a896ba', 'aaadb2', 'ab00ce', 'a1a605', 'a54bb2', '2c0c95', 'ab62d3', 'a2b8c5', 'ab013c', 'abe7c5', 'a0ee9a', 'a74fa2', 'a72eda', 'aaf0bc', '0c20ac', 'a967ae', '0c205b', 'a968bf', 'ada65c', 'a8c796', '345299', 'acb285', '0c2047', 'a1c9cd', 'a8d4d2', 'a1373d', 'abd60b', 'a8f9f2', 'a196e1', 'a7adfd', '2c0d5f', 'aa8701', 'c07eda', '2c08dd', '2c038d', '3964e9', 'a3d75c', 'a19ecf', 'a7bfb0', 'ace9fd', 'a92361', 'a76df8', 'a8559c', 'a97310', 'abe147', '2c0ab6', '2c0516', 'ad6b0e', 'ac1190', 'a467de', 'a0cb9e', 'a904b6', 'a5e921', '2c0b4b', 'a83ef2', 'a54eea', 'a4bfc7', 'aae357', 'aa34ce', 'a8646b', 'ace658', '2c0dce', '2c0b73', 'a6ab93', 'ace31a', 'a93209', 'a95c54', 'c01791', 'a004b4', 'a662a5', 'a38252', 'a7178c', 'a8a859', 'a339db', 'a665aa', 'a877e7', 'a92365', 'ac2b8e', 'a97c65', 'aadf88', 'ad35e0', '2c0ea4', '71bc15', 'a3a4b1', 'a03cb6', 'aca206', 'a0f51e', 'ad166d', 'a44588', 'a9768a', 'a3971e', '2c028c', 'a0f815', 'a13127', '0d05e1', 'a41e2c', 'a1ca0e', 'a84a17', 'aaf960', 'a82e27', 'a00fed', 'aa9f3f', '2c0f88', 'aaa83f', 'a2ceb1', 'a414e8', '2c0159', 'a257bc', 'acae2e', 'ab5b66', 'a4b228', 'a8d465', 'a5d4aa', 'abed41', 'ac8a66', '2c018c', 'a6d3b3', '0c2064', 'a9bb45', 'a17bd4', 'a9fe30', 'a50316', 'ab4866', 'ab52a2', 'a44cda', 'aa73c3', 'c03abc', 'a29ea2', 'a6740f', 'ae4eb5', 'a141e3', 'a4da13', 'a38dd8', 'c06c58', 'c02c87', 'a76d99', 'ad64cd', '2c0596', '48414e', 'aa9107', 'a445f2', 'ab8fd0', 'a53b38', 'a21f57', 'a19d27', 'a4d36a', 'ad3529', '0d0030', '2c0726', '503da6', 'ab4489', 'aa228b', 'a57253', '2c0e5c', 'a33272', 'ac6343', 'ab1203', 'a35b34', '4067f8', 'a82dbd', 'a32ad1', 'ac267c', '3c4b2f', 'a2f3c5', 'ad0e61', 'a4ab90', 'a0db63', 'ab39f0', 'a301af', 'aa7df3', 'ab38a1', 'ab214d', 'a1d059', 'a21411', 'a1e23a', 'a69bd8', 'abe1c2', 'a6fffe', 'acda02', 'a19d2e', 'adfdd1', 'c0360e', 'a8754d', 'abc329', 'acf8bd', 'aaf5bc', 'adeca5', 'a68ddb', 'a68414', 'a51e24', 'aa679c', 'a4943f', 'ad03e2', 'a0105b', '2c0934', 'aa779d', 'a32ebb', '0c2045', '2c068b', 'a53f5b', 'a8c094', 'a8ab3c', 'a92480', 'adde66', 'ad24ab', 'a32be6', 'acbc64', 'a3e91d', 'a9754f', 'a8e0c2', 'a3822d', 'a988f0', 'a9ec06', 'a1a8da', 'ab5f1b', 'aa9d1a', '0c205d', 'a0e250', 'ad3997', 'ad52e0', '0d05ce', 'a11afd', 'a5694f', 'a6844d', 'acf4c9', 'abc649', 'a1f11d', 'a65dfd', 'abe8b6', 'aa7757', 'aaa224', '48414c', 'a70bc9', 'a8aba8', '2c0be0', 'a3816b', 'a51ede', 'a2e5d1', 'c03bf7', 'a77ad8', 'aa73a0', 'a4c8de', 'a43b45', 'a91295', 'a8f284', '2c0d25', 'ada8df', 'a2c850', 'a86a28', 'a2cc46', 'abe101', 'ad0b5e', 'a6b911', '2c02c8', 'a4b1f4', 'aadd8c', 'ab3639', 'a8b43f', 'a955de', 'ab3985', 'a19372', 'a48ba6', 'ad2862', 'a06010', 'ac52ee', 'ad7e16', 'a431d7', '4d012a', 'a5dee3', 'a8299a', 'a23c5d', 'a12c19', 'a5106e', '2c0f4a', 'ad4c2a', 'ac7b87', 'a27cf4', '2c0873', '0c2061', 'a0f735', 'a3f7f3', 'ad1fbe', '2c0777', 'a582c8', 'aa150d', 'aac499', 'ab5afe', 'a87918', 'abd254', 'aa2bc2', 'a9f0d2', 'a25188', 'a7df80', 'a4ab32', 'a85c3e', 'ac468d', 'a40dbb', 'ac1d30', 'adb29f', 'a0d19e', 'abe53c', 'ac71e7', 'acee50', 'ac5920', '2c0668', 'a00956', 'a736ff', 'a0faec', 'a335cd', 'a6bbdd', 'a44585', 'a836fb', '2c0ff4', 'a43287', 'abc1bc', 'ab0e16', 'ac82f5', 'ab5faa', 'a63b03', 'a12622', 'a64d06', 'a38c90', 'a794d6', 'aafd17', 'ac4a44', 'a50c4b', '0d0993', 'aa54f8', 'abe124', 'ad67cc', '2c0ce6', 'a8886d', 'a825c4', 'a50549', '2c0ae2', 'aa7abd', 'a542a6', 'a16646', 'a3ef1b', 'abfb46', 'a11eb4', 'a445ee', 'a977bb', 'a445f0', '2c00d7', 'abe030', 'a92c2f', 'a658de', '71be10', 'aa059e', 'a67ca6', 'aabfa7', 'a5c474', 'abeea7', 'aa70f6', '2c0aa9', 'abd1c5', 'ab92c4', 'ab8c37', 'a0b6ea', 'acb60d', 'ab6851', 'a07b3e', 'a3a9d1', 'acc31a', 'a94b6b', 'a34e97', 'ace627', 'a0e086', 'abf2ea', '2c0f2f', 'a09281', 'a8b872', 'a34230', 'a9b0ed', 'a1e18e', 'a446e0', 'a4467a', 'ac0b61', 'ac6d66', '3433d2', '3964e8', 'ab879f', 'ab3214', 'adcca6', 'ad4fe1', 'aae5f7', '0d07d5', 'a304ec', 'a79898', 'a4433a', 'a50ec5', 'abae62', '2c02d1', 'a572af', 'aab0a1', 'a12fda', 'a6fb2e', 'ad853e', 'aac0e2', '2c05d0', 'a7258d', 'a7016b', 'a262a9', 'e490fd', 'addf01', 'ab20e7', 'a5cc86', 'a5a910', 'a348a1', 'a90190', 'aab09a', 'ac91d4', 'ab5993', 'a822f3', 'ab40f0', 'a678ef', 'a9fbed', 'a9816b', 'ab6c26', 'ad116c', '2c0ccc', 'a1c534', 'aa344a', 'a46d26', 'aaddb0', 'ad0da9', 'a8fc06', 'a8b926', 'a3007b', 'aaf1f2', 'ac7082', 'a6cffc', 'a6fa95', 'a9703d', 'a62778', 'aade03', '3c64c4', 'a118e0', 'aa66ee', 'a46a27', 'ab7f5c', 'a76ddf', 'a11fc1', 'a0020c', 'a81163', 'ab2738', 'a3a9d9', 'ac3136', 'a55ada', 'a1d4c3', 'a9b053', 'a1fb8f', 'ab1d30', 'a2efee', 'a3f518', '2c04d2', 'c004f3', 'a923ee', 'a8a7f1', '2c0fd0', 'a320c1', 'ad8cec', 'a65426', '2c01e0', '3951c1', 'acc3b4', 'a0f37e', 'a5e58b', '2c0e0e', '0d0600', 'a336e3', 'a591e1', 'a7c81b', 'a8fc2e', 'ab6b45', 'ace754', 'ab391e', 'a0628f', 'a9d5e7', 'a36d13', 'ab9a32', 'a0733a', 'a3d3a5', '2c0b5e', '2c0fab', 'a3a266', 'a1bdc6', 'ab6339', 'aa7952', 'a4b294', 'acd8ac', 'a13687', 'aa5691', '2c0409', 'aa9830', 'a14704', '2c0e2b', 'a34209', 'a581f5', 'a66e03', 'aa7315', 'adf066', 'a94b2b', 'acfc74', 'a00331', 'a8b817', 'aaa752', 'adcca0', 'a63f16', '2c02cb', 'addb4a', 'a2ce60', 'a00244', 'ab82d0', 'ad0df6', 'aaced0', 'a56122', 'a10bbc', 'a73db6', 'a96779', '34218a', 'ab8f0d', 'ab6fbf', '2c0cff', 'aaabf6', 'a27f5c', 'a0645e', 'a9eeb6', 'a771af', '2c0ab5', 'a22b28', 'ac7a61', 'ab1628', 'a2f84a', 'a4adbc', 'aae1e8', 'e40090', 'ad7760', 'ab1d28', 'a9fdb4', 'ab2f1f', 'a88b5a', '06a1e6', 'a7a90e', 'a325fd', 'a178de', 'a6ce63', 'a2c84a', 'a4d65c', 'abdc96', 'a69cb7', 'aa6bed', 'a69bdc', 'a3cf6d', '4d0107', 'abdb35', 'abe4db', 'a5521c', 'a7a25f', '0c20b9', '7c3b43', 'a0a6e9', '2c0d07', 'a0ba69', 'a684c4', 'a178c0', 'adaee8', 'aa2bc4', 'abda54', 'ac94e5', 'a7e62d', 'adacfd', 'a67571', 'abdc91', 'a5d089', 'a0ff2b', 'abf4b0', 'a92558', '2c0c45', 'a8c59e', 'aa6f46', 'a5a2d9', 'a2993b', 'a69192', 'aa7b10', 'a217a9', 'ac8e1d', 'a54274', 'a2d1e7', 'ae57cb', 'a1f5f3', 'a456a9', 'a00623', 'aaa593', 'ac2bb8', 'ac701e', 'a78246', '2c0173', '0c20ba', '2c0b64', 'a555b0', 'a40817', 'a76d5a', 'aa5694', 'a992e4', 'aa56b3', 'a0c162', 'ab58b2', 'a36af3', 'ac52f2', 'a59b3c', 'a2b728', 'a7912a', 'a651a9', 'a0f31d', 'ab7a21', 'a63bd4', '2c0577', 'a413f8', '3c65ad', 'a64e02', 'ab1878', 'a64294', 'a2a1fc', 'a858f3', 'a57666', 'a69bec', 'a4b4a2', 'a69d77', 'a59b6b', 'ab40f8', '0d072f', 'a3973e', '2c0630', 'a10931', 'a9befc', 'a0f4b5', 'a752a2', 'aba573', 'a3203b', 'abece7', 'ada1de', 'abad94', 'a193aa', '2c07f4', 'a83e86', 'a4d85b', 'adf4ab', '2c04a6', 'a49cd7', 'a1d7f7', 'abeb7c', 'a46d8f', 'a21432', 'a6bcc8', 'a5945d', 'a2b346', 'a16394', 'a2665c', '2c0ae9', 'aa4d76', '2c0a10', 'ad9edf', 'a7d6c6', 'aa147a', 'add793', 'a97c9a', 'ab4bab', '2c09a4', 'a83781', 'a0cb68', 'a1c918', 'a566da', '2d40d8', '2c0cb2', '2c0d33', 'a8b9e4', 'aab886', 'a0a2bd', 'c07fbf', 'ad1d3d', 'a52cc8', 'acc6d1', 'ac7b1d', 'ab9eca', 'a6654d', 'a76535', 'a19ae0', 'a63b94', 'a445cd', 'a24ec7', 'aa76a8', 'a5c564', 'a4ffcb', 'a40359', '3c4b2c', 'aa56b5', 'abd17b', 'abf396', 'abaa1a', 'a923a7', 'a3b8da', '47947c', 'ad8c4c', 'a4edba', 'abef54', 'a4eca6', 'a07ca0', '2c011f', 'a2b95f', '2c01fe', 'abd59a', 'ac7e24', 'a9a335', 'aa7e36', 'abdcfd', 'ab4bf7', 'a94b4b', 'ac741c', 'aa7e3a', 'a958d2', 'c07563', 'ac97e4', 'a6c88a', '2c06de', 'abab67', 'a03510', 'a9a97f', 'a64db9', 'ac76aa', 'ac124b', 'a36659', 'a13f72', '0d09ec', 'a76546', 'a02d84', 'abd26b', 'a8c397', 'a85953', 'ac756c', 'ac02b4', 'ad4404', 'a24ef0', 'abdd00', 'ab6efc', 'a69939', 'abedc8', 'a8ee4d', 'aaad8f', 'a50126', 'ab400f', '2c0892', 'a60363', '2c0c39', 'a27de0', 'a55d6a', 'a46d47', 'a81006', 'a658f0', 'abe075', 'a74eb4', 'a18e6b', '2c01f5', 'a90290', 'a49569', 'abd230', 'a7c00f', 'a1671c', 'a98f38', 'a92171', 'a72500', 'acaec8', 'a64d1d', 'a71dba', 'a849ab', 'aaee43', 'a41f72', 'a0c5ef', 'a7a7ca', 'aa56b4', 'adbdd3', 'a184d2', 'ab774b', 'adc4bb', 'ac85c1', 'aa379b', 'ab5c69', 'a73e6d', 'a980fa', 'ac771f', 'a35ef7', 'a7dade', 'a7001e', 'a3c880', 'a5949e', 'a365f8', 'a49314', 'a78a52', 'ab5648', 'a95887', 'a6ffcc', 'aaef89', 'c05cbb', 'a81000', 'a3e9f3', 'ac2bd6', 'a0149f', 'abc292', 'ab5d2c', 'ad9811', 'a72c8a', 'adc65e', 'a737c7', 'abf216', 'ab9b13', 'a4a445', 'a1bdf9', 'a92362', 'a32363', 'aae7a0', 'aaf260', 'a9fdeb', 'a0c42c', 'a0cc06', '2c05bc', 'a92528', 'adddd5', 'a7911f', 'aabff4', 'abf58b', '0d099d', 'a09ab9', 'a2a720', 'ac407d', 'a07cd8', 'ac1d38', 'ac2bb9', '0c204c', 'abeb57', 'ab8880', 'a82cfb', 'a238a6', 'a94b0a', 'aa5690', 'ad0851', 'aa6f17', 'a49561', 'a40cce', 'aa882e', 'a4345e', '2c0036', 'abf826', 'aa97f8', 'ada595', 'a1b12a', 'ad0538', 'aa96e2', 'abeb9f', '2c0c7e', 'a6cff8', '0d06e3', 'ad5ca7', 'c01795', 'aa2642', 'a81b2a', '2c0215', 'a2d580', 'a5ca58', '2c05f3', 'a94b51', 'a31ffc', 'ac7f3e', 'a642a3', 'a2b0ed', 'ad4873', 'a4c527', 'a5d28e', 'ab1122', 'a4f6a5', 'a8d5a0', 'a1e5f1', 'a24ce0', 'ab0d14', 'a637e1', '2c0bfa', 'ace01b', 'abf2c2', 'a86671', 'a9f6c2', '780a70', 'a16aa6', 'a9a1d9', 'a326ca', 'a0cbff', 'ac946d', 'abe496', 'adea26', '2c0847', 'aa41bd', 'a118b1', 'aa6c57', '2c0784', 'a55ec5', 'a494e9', 'a69cf0', 'a963f7', 'aa1ec3', 'a78d73', 'ac2b6c', '2c0454', '2c065c', 'a8b4eb', 'a87196', 'a97655', 'ac5569', 'aaf53a', 'a041cd', 'a67d7c', 'a65c95', 'a583f5', 'a361fe', 'a1ea32', '2c0d6b', 'a24d07', 'a34811', 'acf26c', '2c0b2a', '2c0eca', '2c0390', 'a06435', 'a34721', 'a6e3b2', 'a987bf', 'a7b13b', 'aa0ca7', 'a8e0a5', 'a3bc01', '2c03bd', 'acfc58', 'a07d01', 'a14807', 'ac1547', 'a0f09d', 'ab3982', 'a6cb48', 'aa9cc0', '2c055f', 'a9df64', 'a47320', 'ab35d3', 'a7276c', 'aab100', '4006ab', 'abf17f', 'a993fe', 'abb666', 'a980e1', '0d07a8', 'a537ed', 'a94b48', 'abf29f', 'a78dbe', 'aa6c50', 'a01b38', 'abfa65', '2c00e0', '2c05cc', 'aa73e9', 'abd010', 'a9044d', 'a1ede3', '2c0309', 'a9d6c6', 'a446f4', 'a1dc31', 'a77b76', 'a0d90c', 'aacf19', 'a27e14', 'abe287', '2c07af', '2c095c', 'ab26c4', 'aa7a83', '2c09be', 'a0e607', 'ad3d4e', 'a86605', 'a44ed2', '2c0642', 'ab13ff', 'aa777e', '2c02e8', 'a8c3ea', 'adc8e7', 'aa493e', 'a47903', 'ae57bd', 'aac850', 'adb014', 'a0aa87', 'a72f91', 'a04240', 'a57285', 'a50900', '2c0b0b', 'a94b2e', 'a67231', 'aa56f7', 'a8ad4e', 'abafff', 'aaa26a', 'a92384', 'a1a8db', 'a700da', '2c01ba', 'aad287', 'aae6d5', 'abb19c', 'ac4e55', '2c0d65', 'acb480', 'ac047d', 'a546c9', 'c03234', 'a4ec3a', 'a0e249', 'a635f7', 'a047e3', 'adc532', 'a8fc73', 'a9767b', 'a3b13f', 'a904c9', 'a65054', '2c0ba3', '342109', 'a2107b', 'a0b550', 'a89fcf', 'ad3ca2', 'abe82c', 'a79ea0', 'a71b43', 'ab2c0c', 'a68b46', 'a7b3ff', '503da5', 'ad77d3', 'aaf0ff', '0d09bf', '0c205c', 'a9e737', 'c06e93', 'a7006c', '2c0b85', 'ace6e2', 'ab4eeb', 'a98052', 'ad049a', 'a557b7', 'aa7e79', '2c039a', '2c0e65', 'a958f5', '71c285', 'ad84de', 'a2dffe', '424195', 'a3c4c9', 'acd296', 'ac7029', 'aceb09', '2c0450', 'ab6229', 'ade2b8', '2c0421', '2c04dd', 'ac1f0e', '2d4790', 'a3fbaa', 'a85f29', '06a0df', 'a6d9c3', 'a733e6', 'a02367', 'a78d6b', 'a2753c', '0d085c', 'a08ed7', 'a38609', 'a47cba', 'adca15', 'abdc9b', '2c0a2e', 'a05582', 'a992db', 'a768a2', 'ab8d76', 'a3271a', '2c0fb2', 'a13386', 'ad0d65', 'ab1890', 'abefdd', 'a7a60e', 'a97085', '2c026a', 'a722db', 'ad2fd0', 'aad63e', 'aba9e7', 'a63a85', 'abd69d', '2c00c7', 'a34840', '2c0c3d', '2c074b', 'ab6247', '400690', 'a1ecb3', 'a675e8', '0d09df', 'a114ed', 'ab44a7', 'abec4d', 'ade66f', 'a38991', 'a06815', 'a6df74', 'a0b20e', 'c004e9', 'a13408', 'a0ad1f', 'a5823e', 'aa9f97', 'a3bdbd', '478f47', 'a40318', 'a0abc5', 'abc573', 'abf025', 'aaaa8b', 'ac1e0a', 'acd64b', 'a38daa', 'ab2496', 'a4ade9', 'ad8881', '2c0aa4', 'aaa2f6', 'c02509', 'a44e18', 'a2090d', 'a3efa2', 'a1f942', '2c0d8e', 'a53ba4', 'a05855', 'a64684', 'ac18fe', 'a3f085', 'ac7fc2', 'aa568e', 'abf3b8', 'abfde0', 'a16de1', 'a25f3f', '0d0776', '780715', 'acd5ad', 'a904ca', 'abdc76', 'a9536a', 'aa140f', 'a40698', 'a0b35c', 'a87c4f', 'a99dfd', 'c0737c', 'a09188', 'a32b04', 'a2c62b', 'a57ad0', 'a9cf43', 'aad397', 'a6c5d4', '2c0193', '2c0e29', 'ad5687', 'aa7734', 'a4eb80', 'a63a29', '0d0986', 'abe448', 'a44a22', 'a602ae', 'a14bdd', '0c2059', 'aa6fca', 'a94b29', 'aa56d4', '2c078c', 'aaad6d', 'a31ab9', 'a0fcd4', '71be16', 'aa2643', 'c001ed', 'a8c31b', 'ac608e', 'adde49', '2c06ad', 'ac0418', 'a0b6b2', '899105', 'a39ac6', 'a5955b', 'a0ed6e', 'c02202', 'a15397', 'a0640f', 'a16525', 'a94b4d', '2c08ef', 'a310c9', 'a8d4ef', 'acdf9a', 'a46d95', 'a5d487', 'a43ea3', '88b926', 'a58642', '2c0946', 'ac5310', 'a64342', 'a0ad24', 'a591a4', 'a7101e', '0d0641', 'a94b08', 'a700a4', 'c020e8', '2c0265', 'aa76ef', 'aaed5a', 'a7a08a', 'a48a44', 'a716ee', 'acca88', '2c05a7', 'a0baca', 'a951e9', 'acfd2c', '06a07d', 'a6497e', '0d06f4', '2c0a76', 'a001c5', 'aafc60', 'a0a480', 'a465df', 'a49510', 'ad945a', 'a504dd', 'a3918f', 'a98408', 'a52931', 'ab5f00', 'a449f1', 'aa558a', 'a4a1f0', 'a04758', '2c023a', '2c0062', 'a65527', 'a6ed70', 'a0acdd', '2c0171', 'c03bfb', 'a394ae', 'aaec9c', 'abaaa8', 'a71aa5', 'a69900', 'a445ef', '2c0810', 'a19db5', 'a4ba02', 'ad97cb', 'a1bea8', 'a06bd3', 'abd536', 'a7fed0', 'a1c2ec', 'acb5ba', 'acd100', 'abca08', 'a5255a', 'a71232', '42417c', 'c0524c', 'a0ad1b', 'c03bf2', '2c0602', 'a4c872', 'a1cd55', 'a41407', 'a1057a', 'a7fdd8', '2c0332', 'a1b048', 'abe00f', 'a14f98', 'a4455e', 'a32eb6', 'a24782', 'a95c43', 'a2f13a', 'aa4501', 'a49fd2', 'a426e0', '4d20fe', 'ac5314', 'a69d04', '2c05dd', '2c08a7', 'adab31', 'ac2bfd', 'a06a7e', '2c0882', 'abd815', 'a77a32', '2c0dfa', 'a7cfe3', 'a9560d', 'acc76b', 'a1a60e', 'a2bdc8', 'aa90ea', 'a782e4', 'a789c3', 'a41e90', 'a6f777', 'a91b2a', 'c02201', 'a752b3', 'a68e14', 'ab048d', '0d09eb', 'a7fb76', 'aa7b78', 'a9d5df', '2c0823', 'a7258b', 'a06f83', 'a19647', 'a22f16', 'a3bfb7', 'a03c7e', 'abdc92', 'a96b65', 'a5cf43', 'a9d5e4', 'a837a5', 'aa1e8a', 'a403f4', 'c06a39', 'ab43c6', 'aa9875', 'ad7633', 'a15752', '0d0081', '2c0109', 'a42329', 'ad2c19', '2c0876', 'a8d665', 'a8b56f', 'a04035', 'aa6cf3', 'ab0485', 'a68a5d', 'c07fb9', '4caaba', '2c06c5', 'a2ebe8', 'a3ad88', 'a57412', 'abaa43', 'c02209', 'a2d33d', 'a0011c', 'a2b371', 'a39b00', 'aa6dd8', 'a491b2', 'ac0a81', 'aadf96', 'a97633', 'a4bc10', '478386', '2d4f39', 'ab1195', 'a0205c', 'ab2855', '2c0c63', '2c0371', 'a40025', 'ad6ec5', 'ad1ffb', 'adeddd', 'a6c4d3', 'ab120b', '484506', 'abef16', 'ab615b', 'a6d74d', 'a022a3', 'ab83e8', 'a7ad0d', 'a05044', 'a5b78a', 'ab5315', 'a854d0', 'ae4ebc', '2c06c9', 'a16f9e', 'a446ce', 'ab5365', 'a34e40', 'a7869b', 'a837a6', 'a4c104', '2c0504', 'a95442', 'abd94d', 'abcf2f', 'ab4153', 'ad73a9', 'aab146', 'abd2e6', 'a32792', 'a87904', 'ac6ff8', 'a00f5d', 'aab37c', 'abb1de', 'a0af7c', 'a69549', 'a59f22', 'ac0dd9', '2c027f', '2c0a85', 'acea99', 'a2e045', 'a2c7ef', 'acd964', 'a35aae', '0d0058', 'a3323f', 'ad4059', 'a5ccd2', 'ab477d', 'a2f710', 'a903b9', 'a728bd', '2c099a', 'a62e1e', 'a9600b', '2c0a20', 'ab3da7', 'aa9f1c', 'a00439', 'a4d04c', 'abe579', 'a7cc2c', 'a5fb76', 'ac239a', 'a8e45c', 'a00228', 'a3d074', 'a0ecb1', '2c061f', 'a0f1bb', 'c07ee8', 'ab9d9d', 'a32396', 'abca97', 'a8cf70', 'a785fd', 'a101c3', '2c05da', 'a63660', '2c00d0', 'ade96e', '3c4aa8', 'a74170', '2c003b', 'aa56da', 'a9b9dc', '2c0fd1', 'a46d4e', 'a42405', 'aac366', 'a1fff2', 'a500fe', 'aa56f8', 'aacc07', 'a53abe', 'a72ca2', 'a657bf', '0d09d0', 'a9d743', 'ade5b7', 'a120fe', 'a1419f', 'a02c4e', 'a63ab8', '2c0928', '484186', 'a438f1', 'a97dcb', 'a883bd', 'a95850', 'adda1e', 'a95340', 'a3473f', '2c0e8f', 'a14019', 'adb782', 'a4834b', 'a336df', '2c00bb', 'a7c7ea', '0c2051', 'adea7f', 'a3f3ae', 'ac2bd4', '0c2046', '2c0b3d', '780bb8', 'a6cc41', 'a1744b', 'abd3c7', 'a34111', '71be09', 'a21ba0', 'a517dc', 'a3e08d', 'ade8fa', 'abd204', '2c02a2', 'a08efd', 'accb22', 'ab6c08', 'a3e574', 'a56323', '4408d8', 'a7416d', 'a83451', 'a1ba0f', 'ab3ee2', 'a1d13b', 'ac51b2', 'a0bf90', 'add667', 'aad375', '47a097', 'a47557', 'a6ec52', 'add66d', '2c03fd', 'a2b810', 'a62f85', 'a54cd9', 'abdcb5', 'a78c3d', 'a34f84', 'a57f11', 'ac64c6', 'a4b420', 'aa51d3', 'a54c6d', 'a902b5', 'ab5383', 'a7202a', 'a62ee6', '406f72', 'a20c44', 'a4a808', 'ab967b', 'a9e5a6', 'a4f414', 'a8b75f', 'abef2f', 'abec03', 'ac8d18', 'a496cb', 'a4080c', 'a49441', 'a82a06', 'a6e45a', 'ab635d', 'a67558', 'a260bc', 'a38138', 'a5906b', 'a11f9d', 'aaf1fa', 'a70812', 'a69c3f', 'a7a90d', 'abc91f', '2c06a2', '2c0eb1', '2c0fda', 'a76309', 'aaf5a9', '4c1652', 'a0aaa0', 'a01ca5', 'a831c3', 'abeeea', 'a6a7dc', 'a5c8f8', 'c01755', 'aae73b', '0d08b3', 'a92367', 'aab97c', 'a14b0f', 'a76d54', 'aa7d09', '2c0871', 'aae9c0', 'a1db3a', '440834', 'a950c0', 'aac762', 'a0aa2b', 'a62a80', 'aa4d77', '2c036e', 'a202fd', 'a7b4f2', 'a6227b', '2c0e6c', 'a41e29', '4ba9f6', 'acf5be', '2c0788', 'a9c938', 'ada2a5', 'aa7409', 'a88d6f', 'a8d327', '2c0e18', 'a9be0e', 'abd5e0', '3965ae', 'a95d00', 'ac5cd7', 'a64a3b', 'a09e47', 'a015e8', 'a81773', 'a31b22', 'adf50e', 'ab321c', 'aa6f80', '2c0bd5', 'adda24', 'a4c170', 'a014ff', 'a789bc', '2c014d', 'a02062', 'a96ba2', 'e47f36', 'acad44', 'a7c3d9', 'ad9302', '2c0536', 'a494c5', 'a96b30', 'aa44cf', 'ab0e5b', 'a825e3', 'a027ca', 'a9fa5c', '2c0575', 'aa737d', 'ab0745', '2c09b9', 'a95128', 'ab2504', 'a0cfbd', 'a5aa78', 'a79890', 'abd135', 'c00ec2', 'a5a690', 'a81001', 'a95169', 'a63864', 'ac2bb7', 'a7ad84', 'a1bfba', 'aaadf8', 'a0e7f4', 'a90ef3', 'a8fc09', 'ac6f98', 'a70009', 'adb3b1', 'a1bd80', 'ad38eb', 'abd4e7', 'aa76cb', 'a6242b', 'ad7ece', 'c05857', 'ad0beb', 'abe40a', 'ac3068', '2c02e4', 'a6c88e', '0c205e', 'a20c6e', 'a1308a', 'a198e5', 'a8b75a', 'ac2bb6', 'ab3e98', 'abe28f', 'aaaddc', 'a0019f', 'a1e8b8'}\n",
            "Tổng số chuyến bay: 3619\n"
          ]
        }
      ],
      "source": [
        "tong_chuyen_bay = set()\n",
        "for index, row in data.iterrows(): # duyet datafame\n",
        "  tong_chuyen_bay.add(row[\"icao24\"])\n",
        "print(tong_chuyen_bay)\n",
        "print(\"Tổng số chuyến bay:\",len(tong_chuyen_bay))"
      ]
    },
    {
      "cell_type": "code",
      "execution_count": null,
      "metadata": {
        "colab": {
          "base_uri": "https://localhost:8080/"
        },
        "id": "JxBgaDPlF3aS",
        "outputId": "b73dcc87-2647-48da-ba7a-58447a7b7d3e"
      },
      "outputs": [
        {
          "name": "stdout",
          "output_type": "stream",
          "text": [
            "['06a07d', '06a0df', '06a141', '06a1e6', '0c2046', '0c2047', '0c204c', '0c204f', '0c2051', '0c2059', '0c205b', '0c205c', '0c205d', '0c205e', '0c205f', '0c2061', '0c2063', '0c2064', '0c2081', '0c208c', '0c20ac', '0c20ba', '0c20ce', '0d002f', '0d0030', '0d0058', '0d0081', '0d02f1', '0d042b', '0d0516', '0d059d', '0d05ce', '0d05d5', '0d05e1', '0d0641', '0d06e3', '0d06f4', '0d0710', '0d072f', '0d0760', '0d0776', '0d07a8', '0d07d5', '0d07f0', '0d0804', '0d0805', '0d0806', '0d081c', '0d085c', '0d08a5', '0d08b3', '0d08fd', '0d0984', '0d0986', '0d0993', '0d099d', '0d09a4', '0d09b8', '0d09bf', '0d09d0', '0d09de', '0d09df', '0d09e5', '0d09eb', '0d09ec', '0d09f8', '15407a', '2c003b', '2c003c', '2c00d0', '2c00e0', '2c011d', '2c0144', '2c018c', '2c01ba', '2c01c2', '2c01f5', '2c01fe', '2c0208', '2c021c', '2c0240', '2c0249', '2c02a2', '2c02c8', '2c02e8', '2c0323', '2c0326', '2c032d', '2c036e', '2c03c4', '2c03d2', '2c03dc', '2c03ee', '2c03ff', '2c0409', '2c0503', '2c050c', '2c0551', '2c0558', '2c0575', '2c0576', '2c0577', '2c05bc', '2c05da', '2c05dd', '2c05e7', '2c0630', '2c065c', '2c06d3', '2c06de', '2c07a4', '2c080c', '2c086d', '2c0873', '2c0894', '2c08e0', '2c0965', '2c096b', '2c096c', '2c0992', '2c09a7', '2c09b9', '2c09e9', '2c0a10', '2c0ab6', '2c0b0b', '2c0b45', '2c0b4b', '2c0b55', '2c0b5e', '2c0b91', '2c0b9a', '2c0c03', '2c0c45', '2c0c7e', '2c0c93', '2c0d14', '2c0d25', '2c0d33', '2c0d3c', '2c0d65', '2c0d7e', '2c0d8e', '2c0da0', '2c0dce', '2c0dfa', '2c0e1e', '2c0e58', '2c0e6c', '2c0e93', '2c0ea8', '2c0f7a', '2c0f98', '2c0fb2', '2c0fd0', '2c0fd8', '2d40d8', '2d41d8', '2d4790', '2d4f39', '342109', '34218a', '342212', '34230c', '343315', '3434ca', '345299', '394a08', '3951c1', '396443', '3964e8', '3964e9', '3965ae', '3965b0', '3c4aa8', '3c4b2c', '3c4b2e', '3c4b2f', '3c64c4', '3c7066', '40040d', '400690', '4006b1', '4067f8', '406a9d', '406a9f', '406f72', '4242c5', '4248f8', '463aff', '478386', '478f47', '484186', '484506', '4ba9f6', '4c1652', '4ca4b5', '4caaba', '4d0101', '4d0107', '4d0128', '4d012a', '4d20f6', '4d20fe', '71be10', '71c045', '780715', '780a70', '780bb7', '780bb8', '88b926', '899105', '899113', 'a00084', 'a000d7', 'a000da', 'a0011c', 'a0020c', 'a00244', 'a0026e', 'a00331', 'a0053c', 'a005c9', 'a00623', 'a00647', 'a00956', 'a00a31', 'a00f5d', 'a0105b', 'a014ff', 'a0174b', 'a01b38', 'a01cab', 'a0205c', 'a022ee', 'a023e3', 'a027ca', 'a02c4e', 'a02d84', 'a02dda', 'a0302b', 'a030b1', 'a030d5', 'a03510', 'a038c7', 'a03c7e', 'a03cb6', 'a04758', 'a047e3', 'a04da8', 'a04e14', 'a04edb', 'a05582', 'a05855', 'a05939', 'a05a25', 'a05cc7', 'a05cf0', 'a05e90', 'a05f59', 'a06010', 'a0628f', 'a06435', 'a0645e', 'a066c7', 'a066e3', 'a067ec', 'a06815', 'a0681c', 'a06a09', 'a06bcc', 'a06db4', 'a06e35', 'a06f83', 'a07311', 'a0733a', 'a0755d', 'a076f1', 'a07b3e', 'a07ca0', 'a07cd8', 'a07cf8', 'a07d01', 'a07f6a', 'a087fd', 'a08a1a', 'a08bdd', 'a08e53', 'a08f94', 'a09281', 'a09322', 'a0934b', 'a097e9', 'a09940', 'a0996b', 'a09ab9', 'a09e70', 'a0a36b', 'a0a480', 'a0a6e9', 'a0a7a0', 'a0a7d6', 'a0a80e', 'a0a8df', 'a0aa87', 'a0abc5', 'a0abee', 'a0acdd', 'a0acfd', 'a0ad1b', 'a0ade2', 'a0aeb8', 'a0af7c', 'a0afa5', 'a0b20e', 'a0b333', 'a0b6b2', 'a0b6ea', 'a0b8fb', 'a0ba69', 'a0baca', 'a0bd47', 'a0be81', 'a0c162', 'a0c238', 'a0c5c6', 'a0c5ef', 'a0c8b1', 'a0c955', 'a0cb9e', 'a0cbff', 'a0cc06', 'a0cf8d', 'a0cfbd', 'a0d36d', 'a0d9a1', 'a0de99', 'a0e0cf', 'a0e249', 'a0e250', 'a0e600', 'a0e607', 'a0e9b7', 'a0ecb1', 'a0ed6e', 'a0f37e', 'a0f46f', 'a0f4b5', 'a0f634', 'a0f735', 'a0f7c1', 'a0fac3', 'a0faec', 'a10931', 'a109c8', 'a10d56', 'a10d7f', 'a1102e', 'a11817', 'a118b1', 'a11eb4', 'a11f9d', 'a11fa1', 'a11fc1', 'a120fe', 'a12121', 'a124ae', 'a12622', 'a12c18', 'a12c19', 'a12c76', 'a12ce9', 'a12fda', 'a13127', 'a131f4', 'a13687', 'a1373d', 'a14008', 'a141e3', 'a144a0', 'a14aa8', 'a14b0f', 'a14bdd', 'a14f95', 'a14f98', 'a15397', 'a16228', 'a16525', 'a16aa6', 'a16abb', 'a16fa6', 'a1735d', 'a178de', 'a17bd4', 'a17dd1', 'a18403', 'a184d2', 'a185e4', 'a187ea', 'a18f70', 'a19222', 'a19228', 'a19239', 'a1930e', 'a193aa', 'a198e5', 'a19d2e', 'a19ecf', 'a1a286', 'a1a8db', 'a1b12a', 'a1b400', 'a1b907', 'a1bdf9', 'a1c203', 'a1c2ec', 'a1c9cd', 'a1ca0e', 'a1d3be', 'a1db97', 'a1e5f1', 'a1e8b8', 'a1ea32', 'a1ed5f', 'a1ede3', 'a1f4cd', 'a1f503', 'a1f5f3', 'a1fed3', 'a1fff2', 'a203a9', 'a209b9', 'a209c0', 'a20c44', 'a21411', 'a214de', 'a217a9', 'a21b7d', 'a21ed4', 'a21ed8', 'a21f58', 'a22003', 'a22753', 'a22b28', 'a23047', 'a23138', 'a238a6', 'a23c5d', 'a242af', 'a24782', 'a24ec7', 'a24ef0', 'a25188', 'a256e9', 'a257bc', 'a258b7', 'a25bf4', 'a25f3f', 'a25f4b', 'a260bc', 'a26473', 'a2665c', 'a26a4f', 'a26b8a', 'a2757d', 'a27cd8', 'a27d26', 'a27f5c', 'a282be', 'a28947', 'a28de0', 'a28de3', 'a2923f', 'a29d50', 'a29e2e', 'a29ea2', 'a2a1fc', 'a2aa4a', 'a2b0ed', 'a2b346', 'a2b371', 'a2b728', 'a2bcdd', 'a2bd2b', 'a2c84a', 'a2c850', 'a2c9bb', 'a2ce2d', 'a2ce60', 'a2ceb1', 'a2ceec', 'a2d580', 'a2d59e', 'a2dd97', 'a2ebe8', 'a2efee', 'a2f13a', 'a2f3b8', 'a2f3c8', 'a2fb01', 'a3007b', 'a301af', 'a304ec', 'a310c9', 'a31ab9', 'a31b22', 'a31fc6', 'a31fdd', 'a31ffc', 'a3203b', 'a32110', 'a3231a', 'a3244f', 'a325fd', 'a32792', 'a3282f', 'a32890', 'a32e9e', 'a32ffe', 'a3396b', 'a33d8c', 'a33ecc', 'a33f01', 'a34209', 'a34230', 'a3473f', 'a34811', 'a34840', 'a348a1', 'a34b0a', 'a34f84', 'a3571c', 'a3599f', 'a35aae', 'a35ef7', 'a3612a', 'a361fe', 'a3650b', 'a36659', 'a369af', 'a36d13', 'a37020', 'a3739b', 'a3816b', 'a3822d', 'a38609', 'a389de', 'a38c90', 'a38daa', 'a38dd8', 'a38ff7', 'a3918f', 'a3971e', 'a39eac', 'a39f0d', 'a3a263', 'a3a266', 'a3a4b1', 'a3a67b', 'a3a873', 'a3a9d1', 'a3ad88', 'a3ade9', 'a3b13f', 'a3bdbd', 'a3c4c9', 'a3c68c', 'a3c880', 'a3c9e2', 'a3cc37', 'a3cd99', 'a3cf4f', 'a3d074', 'a3d150', 'a3d3a5', 'a3d75c', 'a3d7b9', 'a3d8a2', 'a3d8be', 'a3db13', 'a3dc75', 'a3deca', 'a3e528', 'a3e574', 'a3e917', 'a3e9f3', 'a3ea54', 'a3ed0f', 'a3ee0b', 'a3ef1b', 'a3efa2', 'a3f1c2', 'a3f3ae', 'a3f43c', 'a3f518', 'a3fbaa', 'a4009e', 'a403f4', 'a406be', 'a406cf', 'a4080c', 'a40817', 'a40c4b', 'a40d92', 'a40e1c', 'a414e8', 'a41f61', 'a42405', 'a42dbc', 'a431d7', 'a4345e', 'a4360a', 'a43667', 'a438f1', 'a43918', 'a43ea3', 'a43f83', 'a4433a', 'a4467a', 'a446e0', 'a449f1', 'a44a22', 'a44cda', 'a44e18', 'a4553b', 'a45b57', 'a45cef', 'a465df', 'a467de', 'a46818', 'a4682e', 'a46a27', 'a46cc1', 'a46d95', 'a46e5f', 'a474e8', 'a47557', 'a47903', 'a47cba', 'a47d3b', 'a4834b', 'a48473', 'a48a44', 'a48ba6', 'a48dfb', 'a491b2', 'a491b6', 'a49227', 'a49561', 'a49569', 'a496cb', 'a49920', 'a49995', 'a49cd7', 'a49fd2', 'a4a1f0', 'a4a445', 'a4a808', 'a4aa49', 'a4ab32', 'a4ade9', 'a4b228', 'a4b420', 'a4b4a2', 'a4b8bf', 'a4bc10', 'a4bfc7', 'a4c37e', 'a4c9f6', 'a4caec', 'a4cfe0', 'a4d36a', 'a4d85b', 'a4d9a7', 'a4dca4', 'a4e115', 'a4e330', 'a4e3f0', 'a4e498', 'a4eb80', 'a4ebb2', 'a4ec3a', 'a4f2ee', 'a4f6a5', 'a4f75f', 'a4fff7', 'a500fe', 'a50126', 'a50316', 'a50419', 'a5042e', 'a504dd', 'a515ed', 'a51968', 'a51e24', 'a524ee', 'a5252c', 'a52931', 'a54af4', 'a54bb2', 'a54f41', 'a5521c', 'a55a66', 'a55ec5', 'a56122', 'a5694f', 'a57249', 'a57281', 'a57285', 'a5745b', 'a57666', 'a57719', 'a57ad0', 'a57b5a', 'a57d52', 'a57e87', 'a57f11', 'a581f5', 'a582c8', 'a58642', 'a58a25', 'a58a36', 'a5906b', 'a5911c', 'a5945d', 'a5949e', 'a59b3c', 'a59b6b', 'a59f22', 'a5a2d9', 'a5a690', 'a5a910', 'a5a91d', 'a5a934', 'a5aa78', 'a5b78a', 'a5b7f1', 'a5c564', 'a5c8f8', 'a5ca58', 'a5cc86', 'a5ce0f', 'a5d089', 'a5d487', 'a5d4aa', 'a5d4c3', 'a5dee3', 'a5e8d1', 'a5e921', 'a5fb76', 'a602ae', 'a60363', 'a606e9', 'a61438', 'a6148e', 'a6189c', 'a6242b', 'a62778', 'a62e1e', 'a62e37', 'a62ee6', 'a62f85', 'a63660', 'a63864', 'a638d6', 'a639cb', 'a63a29', 'a63a85', 'a63ab8', 'a63b03', 'a63b38', 'a63b94', 'a63bd4', 'a63f16', 'a641fa', 'a642a3', 'a64526', 'a6464b', 'a64973', 'a64ad4', 'a64d1d', 'a64e02', 'a65054', 'a651a9', 'a65220', 'a65408', 'a65560', 'a657bf', 'a65844', 'a658f0', 'a65b76', 'a65dfd', 'a65fbd', 'a6630f', 'a66346', 'a6654d', 'a67160', 'a67181', 'a67231', 'a67558', 'a67571', 'a675e8', 'a67cb9', 'a67d7c', 'a6800a', 'a6810d', 'a6844d', 'a684c4', 'a688f4', 'a689bd', 'a68a5d', 'a68b46', 'a68e14', 'a691cb', 'a69242', 'a69582', 'a695ea', 'a6989e', 'a69939', 'a699a1', 'a69bd8', 'a69bec', 'a69c3f', 'a69cf0', 'a69d04', 'a6a1cf', 'a6a45e', 'a6b168', 'a6b4f7', 'a6c120', 'a6c247', 'a6c436', 'a6c5d4', 'a6c88e', 'a6cb48', 'a6ce63', 'a6cffc', 'a6d3b3', 'a6d65b', 'a6d7c9', 'a6d8ff', 'a6d9c3', 'a6dc3a', 'a6df74', 'a6e131', 'a6ed70', 'a6f68f', 'a6f6dd', 'a6f975', 'a6fa94', 'a6fa95', 'a6fb32', 'a6ff76', 'a6fffe', 'a70009', 'a700da', 'a700ea', 'a7016b', 'a7045b', 'a704f9', 'a70812', 'a708b0', 'a70c67', 'a70e7e', 'a71337', 'a7178c', 'a71b43', 'a71e9a', 'a71efa', 'a7202a', 'a72213', 'a724a8', 'a72500', 'a72540', 'a7258b', 'a7265b', 'a7276c', 'a72823', 'a728bd', 'a72c78', 'a72c8a', 'a72f91', 'a72fa0', 'a733e6', 'a73a51', 'a73ab6', 'a73b7e', 'a73db6', 'a73e48', 'a73e6d', 'a74224', 'a742a4', 'a742c2', 'a745db', 'a74d0e', 'a74d2b', 'a74dda', 'a74eb4', 'a74fa2', 'a752b3', 'a757ae', 'a75a21', 'a75b65', 'a7617e', 'a76535', 'a768a2', 'a76980', 'a76d54', 'a76df8', 'a76f87', 'a777bf', 'a77b76', 'a782e4', 'a785fd', 'a7869b', 'a789b4', 'a791c0', 'a79406', 'a79890', 'a79ea0', 'a7a08a', 'a7a90d', 'a7a90e', 'a7a94b', 'a7ad0d', 'a7ad7c', 'a7b133', 'a7b3ff', 'a7b4c7', 'a7b4ea', 'a7bc58', 'a7c322', 'a7c524', 'a7c618', 'a7c7ea', 'a7c81b', 'a7cb52', 'a7cbc9', 'a7d66c', 'a7d6c6', 'a7d817', 'a7dacf', 'a7dade', 'a7db4c', 'a7df80', 'a7e2c5', 'a7ef17', 'a7f14d', 'a805f3', 'a80689', 'a80941', 'a81001', 'a8102a', 'a813e9', 'a81508', 'a822f3', 'a825c4', 'a825e3', 'a8299a', 'a82d1e', 'a831c3', 'a83451', 'a8348b', 'a83781', 'a837a7', 'a83e56', 'a83e86', 'a849ab', 'a854d0', 'a85f6e', 'a85ff5', 'a8603e', 'a860c1', 'a8657e', 'a86605', 'a869bc', 'a874e1', 'a87918', 'a87c4f', 'a8856d', 'a8886d', 'a88b5a', 'a88d2e', 'a88d3c', 'a88d6f', 'a88d96', 'a88de8', 'a88dfd', 'a88e39', 'a8913b', 'a89861', 'a89f5f', 'a89fcf', 'a8a017', 'a8a063', 'a8a386', 'a8ab64', 'a8b22f', 'a8b43f', 'a8b75a', 'a8b75f', 'a8b817', 'a8b872', 'a8bc71', 'a8bcf1', 'a8c397', 'a8c3ea', 'a8c796', 'a8cebc', 'a8cffd', 'a8d489', 'a8d665', 'a8d9ee', 'a8dc3a', 'a8e47c', 'a8e4e9', 'a8e75f', 'a8f213', 'a8f21d', 'a8f284', 'a8fda9', 'a90185', 'a90190', 'a903b9', 'a9047a', 'a904b6', 'a904c9', 'a904ca', 'a90b27', 'a90b3c', 'a91295', 'a91369', 'a9164c', 'a91b2a', 'a92361', 'a92362', 'a92480', 'a92528', 'a92558', 'a92c2f', 'a92c6d', 'a92eef', 'a932a6', 'a941b2', 'a94b0b', 'a94b48', 'a94b4b', 'a94b72', 'a94bfc', 'a950c0', 'a95169', 'a951e9', 'a952a4', 'a9536a', 'a95442', 'a9559e', 'a9560d', 'a95850', 'a958f5', 'a95c0c', 'a95c54', 'a95c9a', 'a95dba', 'a9600b', 'a96171', 'a963bf', 'a96779', 'a967eb', 'a968bf', 'a96ba2', 'a96c96', 'a9703d', 'a97310', 'a975fe', 'a97633', 'a977bb', 'a97c65', 'a97db4', 'a97dcb', 'a98023', 'a980fa', 'a9816b', 'a98445', 'a988f0', 'a98f38', 'a992db', 'a993fe', 'a9968f', 'a999df', 'a99dfd', 'a9a7c4', 'a9a901', 'a9a97f', 'a9aeb3', 'a9af85', 'a9b38f', 'a9b78e', 'a9b85b', 'a9bb45', 'a9bd9a', 'a9bee2', 'a9befc', 'a9c1c5', 'a9c5a3', 'a9c66a', 'a9c737', 'a9c938', 'a9cd47', 'a9cf43', 'a9d0fe', 'a9d2fa', 'a9d5df', 'a9d743', 'a9d744', 'a9d86c', 'a9db8d', 'a9de50', 'a9e391', 'a9e9d7', 'a9ed8e', 'a9eeb6', 'a9f0bf', 'a9f0d2', 'a9f4c6', 'a9f6c2', 'a9fa5c', 'a9fbed', 'a9fdeb', 'aa01e7', 'aa059e', 'aa0938', 'aa099e', 'aa1156', 'aa147a', 'aa1816', 'aa1a8a', 'aa1e41', 'aa2643', 'aa34ce', 'aa40b4', 'aa44ac', 'aa44cf', 'aa492b', 'aa493e', 'aa4d76', 'aa4d77', 'aa4e1c', 'aa51d3', 'aa54f8', 'aa558a', 'aa568e', 'aa5690', 'aa5694', 'aa56b3', 'aa56b4', 'aa56b5', 'aa56d4', 'aa56d5', 'aa56d8', 'aa56da', 'aa56f7', 'aa5cf8', 'aa6466', 'aa6489', 'aa66ee', 'aa679c', 'aa686f', 'aa6988', 'aa6ba6', 'aa6bc9', 'aa6bed', 'aa6c50', 'aa6cf3', 'aa70f6', 'aa7305', 'aa7757', 'aa777e', 'aa7952', 'aa795d', 'aa7aa6', 'aa7ba7', 'aa7d09', 'aa7e36', 'aa7e56', 'aa7e74', 'aa7e7b', 'aa7e7c', 'aa80c0', 'aa8404', 'aa8740', 'aa8a26', 'aa8aae', 'aa8af7', 'aa8b40', 'aa9107', 'aa91f5', 'aa94be', 'aa97f8', 'aa9830', 'aa9d1a', 'aa9e04', 'aa9f97', 'aa9fe3', 'aaa02c', 'aaa0d1', 'aaa224', 'aaa58b', 'aaa590', 'aaa593', 'aaa5b8', 'aaa5d4', 'aaa83f', 'aaaa8b', 'aaabf6', 'aab100', 'aab146', 'aab364', 'aab37c', 'aabfa7', 'aac3f4', 'aac499', 'aac6ee', 'aac762', 'aac7ab', 'aac850', 'aacb19', 'aacc07', 'aacd50', 'aacfbe', 'aad287', 'aad375', 'aad63e', 'aad72c', 'aade03', 'aadf96', 'aae1e8', 'aae357', 'aae6d5', 'aae6e1', 'aae73b', 'aae7a0', 'aaec9c', 'aaed09', 'aaee43', 'aaef89', 'aaf0ff', 'aaf18d', 'aaf1fa', 'aaf53a', 'aaf5b1', 'aaf5bc', 'aaf968', 'aafca8', 'aafd1f', 'ab0129', 'ab0485', 'ab04f3', 'ab04f9', 'ab0745', 'ab0d14', 'ab120b', 'ab13ff', 'ab15c2', 'ab1628', 'ab183e', 'ab1878', 'ab1935', 'ab1979', 'ab20df', 'ab20e7', 'ab214d', 'ab26c4', 'ab2738', 'ab2855', 'ab28bb', 'ab2ad9', 'ab2c0c', 'ab2f1f', 'ab321c', 'ab3276', 'ab35e5', 'ab3639', 'ab391e', 'ab3985', 'ab398a', 'ab39f0', 'ab3da7', 'ab40f0', 'ab40f8', 'ab437a', 'ab44a7', 'ab4866', 'ab4c99', 'ab5315', 'ab538b', 'ab5648', 'ab5d2c', 'ab60e3', 'ab6101', 'ab663f', 'ab6800', 'ab6851', 'ab6c08', 'ab6fbf', 'ab7ae4', 'ab875c', 'ab8862', 'ab8880', 'ab8c19', 'ab8fd0', 'ab9a1a', 'aba51d', 'aba573', 'abab43', 'abaf6e', 'abb537', 'abb666', 'abb6dc', 'abba53', 'abbe76', 'abc865', 'abc9da', 'abca08', 'abccc5', 'abd45e', 'abd746', 'abd815', 'abdc91', 'abdcb5', 'abdcfd', 'abdd00', 'abe28f', 'abe448', 'abe53c', 'abeb5d', 'abf826', 'abfde0', 'ac03ee', 'ac0418', 'ac047d', 'ac0a81', 'ac0b7f', 'ac0ba7', 'ac1e0a', 'ac239a', 'ac2bd4', 'ac2dea', 'ac3068', 'ac30d8', 'ac3136', 'ac31a1', 'ac3625', 'ac3efd', 'ac4a44', 'ac52f2', 'ac5312', 'ac5802', 'ac5ca9', 'ac6343', 'ac64c6', 'ac6aa9', 'ac6c0d', 'ac6f37', 'ac6f98', 'ac6ff8', 'ac701e', 'ac7029', 'ac70c3', 'ac7160', 'ac71e7', 'ac7216', 'ac72af', 'ac754b', 'ac756c', 'ac76aa', 'ac76c8', 'ac793f', 'ac7a61', 'ac7b8a', 'ac7e24', 'ac7fc2', 'ac847b', 'ac85c1', 'ac8621', 'ac86b6', 'ac8ed7', 'ac946d', 'ac94e5', 'ac94f1', 'ac9e9a', 'aca20d', 'acaa77', 'acab11', 'acad44', 'acaec8', 'acb1af', 'acb285', 'acb59c', 'acb5ba', 'acb60d', 'acb636', 'acb826', 'acb953', 'acbc04', 'acbc64', 'acc3d8', 'acc76b', 'accb22', 'acd13e', 'acd296', 'acd4f5', 'acd623', 'acd8ac', 'acdc63', 'acde5f', 'ace063', 'ace194', 'ace5bc', 'ace658', 'ace754', 'ace96c', 'ace9fd', 'acf8c9', 'acfc74', 'ad03e2', 'ad0538', 'ad0864', 'ad08ef', 'ad0b3f', 'ad0d65', 'ad0da9', 'ad166d', 'ad1c85', 'ad203c', 'ad3292', 'ad34e4', 'ad3654', 'ad3997', 'ad3c48', 'ad4036', 'ad4404', 'ad447d', 'ad4b72', 'ad4f3f', 'ad52e0', 'ad5687', 'ad5c83', 'ad5ca7', 'ad5fe9', 'ad6116', 'ad6884', 'ad6ec5', 'ad7633', 'ad76a8', 'ad7e16', 'ad8426', 'ad853e', 'ad8881', 'ad8895', 'ad8935', 'ad90a3', 'ad9302', 'ad96b9', 'ad9811', 'ad9bc8', 'ada1de', 'ada2a5', 'ada595', 'ada905', 'adab31', 'adabef', 'adacfd', 'adb0b4', 'adb3b1', 'adba21', 'adbdd3', 'adc2a7', 'adc5a6', 'adc8e7', 'adcca6', 'add324', 'adda24', 'adda92', 'adde49', 'ade200', 'ade96e', 'adeca5', 'adf066', 'adf4ab', 'adf50e', 'adfdd1', 'adfe4c', 'adfe4d', 'adfe97', 'ae01df', 'ae1258', 'ae4eb2', 'ae4eb5', 'ae4eb9', 'ae4ebc', 'ae4ec0', 'ae4ec7', 'ae57b7', 'ae57bd', 'ae57c6', 'ae57cb', 'ba11f2', 'c001ed', 'c004e9', 'c004f3', 'c00926', 'c00cd6', 'c00e93', 'c00ec2', 'c0121e', 'c01755', 'c01791', 'c01795', 'c01970', 'c01c28', 'c01ef7', 'c01f52', 'c020e4', 'c020e8', 'c021f6', 'c02201', 'c02202', 'c02209', 'c02a27', 'c02d51', 'c03234', 'c03291', 'c0335d', 'c033a0', 'c03435', 'c034ba', 'c03517', 'c0360e', 'c03abc', 'c03bf2', 'c03bf5', 'c03bf7', 'c03bfb', 'c03c02', 'c03c04', 'c03f81', 'c0499b', 'c05220', 'c0524c', 'c0584d', 'c05853', 'c05857', 'c05858', 'c058b8', 'c05cbb', 'c0613e', 'c06142', 'c0669e', 'c06a39', 'c06c58', 'c06e93', 'c0737c', 'c07444', 'c07563', 'c07877', 'c078fc', 'c07a0c', 'c07eda', 'c07ee8', 'c07eee', 'c07fb0', 'c07fb1', 'c07fb9', 'c07fbf', 'c0809d', 'c080a0', 'c080a3', 'c080aa', 'c080ad', 'c088bb', 'e47f36', 'e491f3']\n",
            "Số chuyến bay có điểm dữ liệu từ 1 đến 100 : 1582\n"
          ]
        }
      ],
      "source": [
        "# Tính số quỹ đạo của mỗi máy bay\n",
        "trajectory_count_per_aircraft = data.groupby('icao24').size()\n",
        "\n",
        "# Lọc các chuyến bay có quỹ đạo nhỏ hơn 10\n",
        "x = 1\n",
        "y = 100\n",
        "flights_with_trajectory_between_10_and_20 = trajectory_count_per_aircraft[trajectory_count_per_aircraft.between(x, y)]\n",
        "\n",
        "print(flights_with_trajectory_between_10_and_20.index.tolist())\n",
        "\n",
        "# Hiển thị số chuyến bay có quỹ đạo nhỏ hơn 10\n",
        "print(\"Số chuyến bay có điểm dữ liệu từ {0} đến {1} : {2}\".format(x,y,len(flights_with_trajectory_between_10_and_20)))\n"
      ]
    },
    {
      "cell_type": "code",
      "execution_count": null,
      "metadata": {
        "colab": {
          "base_uri": "https://localhost:8080/"
        },
        "id": "pjkx3G68oP_H",
        "outputId": "1d82d79b-a14f-4878-f7b5-641d534e08be"
      },
      "outputs": [
        {
          "name": "stdout",
          "output_type": "stream",
          "text": [
            "Số lượng chuyến bay có tất cả giá trị heading bị thiếu: 20\n",
            "['a1a60e', 'a4c9f6', '2c01b7', 'aafc2d', '2c0873', '2c0d36', 'a5e921', '2c036e', '2c0390', 'a7cb52', 'a16394', 'ab8ba5', 'aac366', 'a19d27', '2c0b5e', 'a8e47c', '2c00f2', 'a36d13', 'a62f85', 'a40c4b']\n",
            "Số lượng chuyến bay có tất cả giá trị velocity bị thiếu: 20\n",
            "['a1a60e', 'a4c9f6', '2c01b7', 'aafc2d', '2c0873', '2c0d36', 'a5e921', '2c036e', '2c0390', 'a7cb52', 'a16394', 'ab8ba5', 'aac366', 'a19d27', '2c0b5e', 'a8e47c', '2c00f2', 'a36d13', 'a62f85', 'a40c4b']\n",
            "Số lượng chuyến bay có tất cả giá trị geoaltitude bị thiếu: 29\n",
            "['a4c9f6', 'a5ca58', '2c0d36', '2c00f2', '2c0c2a', 'a1a60e', '2c01b7', 'aafc2d', '2c0873', '2c0b2a', '2c036e', '2c032d', 'a7cb52', '2c0240', 'a62f85', '2c01d9', 'a40c4b', '2c0b0b', 'a5e921', '2c0390', 'a16394', 'ab8ba5', 'a19d27', 'a8e47c', 'a36d13', '2c08af', 'aac366', '2c0b5e', '2c03ee']\n",
            "Số lượng chuyến bay có tất cả giá trị geoaltitude, velocity, heading bị thiếu: 20\n",
            "['a1a60e', 'a4c9f6', '2c01b7', 'aafc2d', '2c0873', '2c0d36', 'a5e921', '2c036e', '2c0390', 'a7cb52', 'a16394', 'ab8ba5', 'aac366', 'a19d27', '2c0b5e', 'a8e47c', '2c00f2', 'a36d13', 'a62f85', 'a40c4b']\n"
          ]
        }
      ],
      "source": [
        "# Đếm số lượng chuyến bay có tất cả giá trị heading bị thiếu\n",
        "total_flights_with_all_missing_heading = 0\n",
        "list_heading_null_all =[]\n",
        "for icao24 in list_heading:\n",
        "    if (data[data['icao24'] == icao24]['heading'].isnull().all()):\n",
        "        total_flights_with_all_missing_heading += 1\n",
        "        list_heading_null_all.append(icao24)\n",
        "\n",
        "print(\"Số lượng chuyến bay có tất cả giá trị heading bị thiếu:\", total_flights_with_all_missing_heading)\n",
        "print(list_heading_null_all)\n",
        "\n",
        "total_flights_with_all_missing_velocity = 0\n",
        "list_velocity_null_all =[]\n",
        "for icao24 in list_velocity:\n",
        "    if data[data['icao24'] == icao24]['velocity'].isnull().all():\n",
        "        total_flights_with_all_missing_velocity += 1\n",
        "        list_velocity_null_all.append(icao24)\n",
        "\n",
        "\n",
        "print(\"Số lượng chuyến bay có tất cả giá trị velocity bị thiếu:\", total_flights_with_all_missing_velocity)\n",
        "print(list_velocity_null_all)\n",
        "\n",
        "total_flights_with_all_missing_geoaltitude = 0\n",
        "list_geoaltitude_null_all =[]\n",
        "for icao24 in flights_with_null_geoaltitude_list:\n",
        "    if data[data['icao24'] == icao24]['geoaltitude'].isnull().all():\n",
        "        total_flights_with_all_missing_geoaltitude += 1\n",
        "        list_geoaltitude_null_all.append(icao24)\n",
        "\n",
        "\n",
        "print(\"Số lượng chuyến bay có tất cả giá trị geoaltitude bị thiếu:\", total_flights_with_all_missing_geoaltitude)\n",
        "print(list_geoaltitude_null_all)\n",
        "\n",
        "total_flights_with_all_missing_full_3_cot = 0\n",
        "list_null_all =[]\n",
        "for icao24 in list_heading:\n",
        "    if (data[data['icao24'] == icao24]['heading'].isnull().all()) and (data[data['icao24'] == icao24]['velocity'].isnull().all()) and (data[data['icao24'] == icao24]['geoaltitude'].isnull().all()):\n",
        "        total_flights_with_all_missing_full_3_cot += 1\n",
        "        list_null_all.append(icao24)\n",
        "\n",
        "\n",
        "print(\"Số lượng chuyến bay có tất cả giá trị geoaltitude, velocity, heading bị thiếu:\", total_flights_with_all_missing_full_3_cot)\n",
        "print(list_null_all)\n"
      ]
    },
    {
      "cell_type": "markdown",
      "metadata": {
        "id": "XEhbsghRButL"
      },
      "source": [
        "#TIỀN XỬ LÍ DỮ LIỆU"
      ]
    },
    {
      "cell_type": "code",
      "execution_count": null,
      "metadata": {
        "id": "dmjN73syUla4"
      },
      "outputs": [],
      "source": [
        "original_data = data.copy()\n",
        "print((original_data))"
      ]
    },
    {
      "cell_type": "code",
      "execution_count": null,
      "metadata": {
        "id": "Gy2zGe2FaRoa"
      },
      "outputs": [],
      "source": [
        "\n",
        "import pandas as pd\n",
        "\n",
        "def drop_flights_by_icao24(flights_data, icao24_list):\n",
        "    # Loại bỏ các hàng có mã ICAO24 trong danh sách\n",
        "    flights_data = flights_data.drop(flights_data[flights_data['icao24'].isin(icao24_list)].index)\n",
        "    return flights_data\n",
        "\n",
        "# Gọi hàm để xóa các hàng có mã ICAO24 trong danh sách từ DataFrame\n",
        "original_data = drop_flights_by_icao24(original_data, flights_with_trajectory_between_10_and_20.index.tolist())\n",
        "# Ghi đè lên file gốc sau khi loại bỏ các hàng có mã ICAO24 trong danh sách\n",
        "original_data.to_csv('original_data_new1.csv', index=True)\n",
        "\n"
      ]
    },
    {
      "cell_type": "markdown",
      "metadata": {
        "id": "LFGmJxzFysHE"
      },
      "source": [
        "#Xóa các chuyến bay thiếu dữ liệu cả 3 cột velocity, heading, geoaltitude"
      ]
    },
    {
      "cell_type": "code",
      "execution_count": null,
      "metadata": {
        "id": "pmL31gQ2zQDM"
      },
      "outputs": [],
      "source": [
        "def drop_flights_by_icao24(flights_data, icao24_list):\n",
        "    # Tạo một mask để xác định các hàng cần xóa\n",
        "    mask = flights_data['icao24'].isin(icao24_list)\n",
        "\n",
        "    # Xóa các hàng từ DataFrame\n",
        "    flights_data = flights_data[~mask]\n",
        "\n",
        "    # Trả về DataFrame đã xóa hàng\n",
        "    return flights_data\n",
        "\n",
        "# Gán lại giá trị cho data sau khi xóa các chuyến bay\n",
        "original_data= drop_flights_by_icao24(original_data, list_null_all)\n",
        "original_data.to_csv('original_data_new1.csv', index=True)\n",
        "#data.to_csv('updated_data.csv', index=False)\n"
      ]
    },
    {
      "cell_type": "markdown",
      "metadata": {
        "id": "-5sdR1wNucQE"
      },
      "source": [
        "#Xóa các chuyến bay bị thiếu dữ liệu full velocity"
      ]
    },
    {
      "cell_type": "code",
      "execution_count": null,
      "metadata": {
        "id": "pgfrpZMVume9"
      },
      "outputs": [],
      "source": [
        "def drop_flights_by_icao24(flights_data, icao24_list):\n",
        "    # Tạo một mask để xác định các hàng cần xóa\n",
        "    mask = flights_data['icao24'].isin(icao24_list)\n",
        "\n",
        "    # Xóa các hàng từ DataFrame\n",
        "    flights_data = flights_data[~mask]\n",
        "\n",
        "    # Trả về DataFrame đã xóa hàng\n",
        "    return flights_data\n",
        "\n",
        "# Gán lại giá trị cho data sau khi xóa các chuyến bay\n",
        "original_data= drop_flights_by_icao24(original_data, list_velocity_null_all)\n",
        "original_data.to_csv('original_data_new1.csv', index=True)\n",
        "#data.to_csv('updated_data.csv', index=False)"
      ]
    },
    {
      "cell_type": "markdown",
      "metadata": {
        "id": "ZGDtaJArvNKj"
      },
      "source": [
        "#Xóa các chuyến bay bị thiếu dữ liệu full heading"
      ]
    },
    {
      "cell_type": "code",
      "execution_count": null,
      "metadata": {
        "id": "-fetgkDivZ_s"
      },
      "outputs": [],
      "source": [
        "def drop_flights_by_icao24(flights_data, icao24_list):\n",
        "    # Tạo một mask để xác định các hàng cần xóa\n",
        "    mask = flights_data['icao24'].isin(icao24_list)\n",
        "\n",
        "    # Xóa các hàng từ DataFrame\n",
        "    flights_data = flights_data[~mask]\n",
        "\n",
        "    # Trả về DataFrame đã xóa hàng\n",
        "    return flights_data\n",
        "\n",
        "# Gán lại giá trị cho data sau khi xóa các chuyến bay\n",
        "original_data= drop_flights_by_icao24(original_data, list_heading_null_all)\n",
        "original_data.to_csv('original_data_new1.csv', index=True)\n",
        "#data.to_csv('updated_data.csv', index=False)"
      ]
    },
    {
      "cell_type": "markdown",
      "metadata": {
        "id": "RSKw7DFyvRYk"
      },
      "source": [
        "#Xóa các chuyến bay bị thiếu dữ liệu full geoaltitude"
      ]
    },
    {
      "cell_type": "code",
      "execution_count": null,
      "metadata": {
        "id": "ao9i2Jv3vT58"
      },
      "outputs": [],
      "source": [
        "def drop_flights_by_icao24(flights_data, icao24_list):\n",
        "    # Tạo một mask để xác định các hàng cần xóa\n",
        "    mask = flights_data['icao24'].isin(icao24_list)\n",
        "\n",
        "    # Xóa các hàng từ DataFrame\n",
        "    flights_data = flights_data[~mask]\n",
        "\n",
        "    # Trả về DataFrame đã xóa hàng\n",
        "    return flights_data\n",
        "\n",
        "# Gán lại giá trị cho data sau khi xóa các chuyến bay\n",
        "original_data= drop_flights_by_icao24(original_data, list_geoaltitude_null_all)\n",
        "original_data.to_csv('original_data_new1.csv', index=True)\n",
        "#data.to_csv('updated_data.csv', index=False)"
      ]
    },
    {
      "cell_type": "markdown",
      "metadata": {
        "id": "9F26oD5bpRZ0"
      },
      "source": [
        "#Xử lí dữ liệu thiếu cột heading"
      ]
    },
    {
      "cell_type": "code",
      "execution_count": null,
      "metadata": {
        "id": "pJj_8iWmiBPE"
      },
      "outputs": [],
      "source": [
        "# Xử lí dữ liệu còn thiếu bằng cách điền giá trị gần nhất với nó\n",
        "import pandas as pd\n",
        "\n",
        "# Thực hiện các thay đổi trên DataFrame mới\n",
        "for icao24 in list_heading:\n",
        "    flights_of_icao24 = original_data[original_data['icao24'] == icao24]\n",
        "    flights_of_icao24 = flights_of_icao24[~flights_of_icao24.index.duplicated(keep='first')]\n",
        "\n",
        "    # Điền các giá trị bị thiếu bằng giá trị ở sau gần nhất trong cùng cột\n",
        "    flights_of_icao24[\"heading\"].fillna(method='bfill', inplace=True)\n",
        "\n",
        "    original_data.loc[flights_of_icao24.index] = flights_of_icao24\n",
        "\n",
        "# Lưu DataFrame vào tệp CSV gốc\n",
        "original_data.to_csv('original_data_new1.csv', index=True)\n"
      ]
    },
    {
      "cell_type": "code",
      "execution_count": null,
      "metadata": {
        "id": "VSRFJdmvLMca"
      },
      "outputs": [],
      "source": [
        "# Xử dụng giá trị trung bình\n",
        "import pandas as pd\n",
        "\n",
        "# Thực hiện các thay đổi trên DataFrame mới\n",
        "for icao24 in list_heading:\n",
        "    flights_of_icao24 = original_data[original_data['icao24'] == icao24]\n",
        "    flights_of_icao24 = flights_of_icao24[~flights_of_icao24.index.duplicated(keep='first')]\n",
        "\n",
        "    # Tính giá trị trung bình của cột 'heading'\n",
        "    mean_heading = flights_of_icao24['heading'].mean()\n",
        "\n",
        "    # Điền giá trị trung bình vào các giá trị thiếu của cột 'heading'\n",
        "    flights_of_icao24['heading'].fillna(mean_heading, inplace=True)\n",
        "\n",
        "    original_data.loc[flights_of_icao24.index] = flights_of_icao24\n",
        "\n",
        "# Lưu DataFrame vào tệp CSV gốc\n",
        "original_data.to_csv('original_data_new1.csv', index=True)\n"
      ]
    },
    {
      "cell_type": "code",
      "execution_count": null,
      "metadata": {
        "id": "vD_oFaQJypJP"
      },
      "outputs": [],
      "source": [
        "#Xử dụng phép nội suy bậc 3\n",
        "import pandas as pd\n",
        "\n",
        "# Thực hiện các thay đổi trên DataFrame mới\n",
        "for icao24 in list_heading:\n",
        "    flights_of_icao24 = original_data[original_data['icao24'] == icao24]\n",
        "    flights_of_icao24 = flights_of_icao24[~flights_of_icao24.index.duplicated(keep='first')]\n",
        "\n",
        "    # Điền các giá trị thiếu của cột 'velocity' bằng nội suy đa thức bậc 3 từ cả hai hướng\n",
        "    flights_of_icao24['heading'].interpolate(method='polynomial', order=3, direction='both', inplace=True)\n",
        "\n",
        "    original_data.loc[flights_of_icao24.index] = flights_of_icao24\n",
        "\n",
        "# Lưu DataFrame vào tệp CSV gốc\n",
        "original_data.to_csv('original_data_new1.csv', index=True)\n"
      ]
    },
    {
      "cell_type": "markdown",
      "metadata": {
        "id": "z3sUfX-1pYWT"
      },
      "source": [
        "#Xử lí dữ liệu thiếu cột velocity"
      ]
    },
    {
      "cell_type": "code",
      "execution_count": null,
      "metadata": {
        "id": "vMwZknx-wYej"
      },
      "outputs": [],
      "source": [
        "# Xử lí dữ liệu còn thiếu bằng cách điền giá trị gần nhất với nó\n",
        "import pandas as pd\n",
        "\n",
        "# Thực hiện các thay đổi trên DataFrame mới\n",
        "for icao24 in list_velocity:\n",
        "    flights_of_icao24 = original_data[original_data['icao24'] == icao24]\n",
        "    flights_of_icao24 = flights_of_icao24[~flights_of_icao24.index.duplicated(keep='first')]\n",
        "\n",
        "    # Điền các giá trị bị thiếu bằng giá trị ở sau gần nhất trong cùng cột\n",
        "    flights_of_icao24[\"velocity\"].fillna(method='bfill', inplace=True)\n",
        "\n",
        "    original_data.loc[flights_of_icao24.index] = flights_of_icao24\n",
        "\n",
        "# Lưu DataFrame vào tệp CSV gốc\n",
        "original_data.to_csv('original_data_new1.csv', index=True)\n"
      ]
    },
    {
      "cell_type": "code",
      "execution_count": null,
      "metadata": {
        "id": "ycnanvFtpiLn"
      },
      "outputs": [],
      "source": [
        "#Xử dụng giá trị trung bình\n",
        "\n",
        "import pandas as pd\n",
        "\n",
        "# Thực hiện các thay đổi trên DataFrame mới\n",
        "for icao24 in list_velocity:\n",
        "    flights_of_icao24 = original_data[original_data['icao24'] == icao24]\n",
        "    flights_of_icao24 = flights_of_icao24[~flights_of_icao24.index.duplicated(keep='first')]\n",
        "\n",
        "    # Tính giá trị trung bình của cột 'heading'\n",
        "    mean_heading = flights_of_icao24['velocity'].mean()\n",
        "\n",
        "    # Điền giá trị trung bình vào các giá trị thiếu của cột 'heading'\n",
        "    flights_of_icao24['velocity'].fillna(mean_heading, inplace=True)\n",
        "\n",
        "    original_data.loc[flights_of_icao24.index] = flights_of_icao24\n",
        "\n",
        "# Lưu DataFrame vào tệp CSV gốc\n",
        "original_data.to_csv('original_data_new1.csv', index=True)"
      ]
    },
    {
      "cell_type": "code",
      "execution_count": null,
      "metadata": {
        "id": "WFrHv951rTJE"
      },
      "outputs": [],
      "source": [
        "# Xử dụng nội suy bậc 3\n",
        "\n",
        "# Thực hiện các thay đổi trên DataFrame mới\n",
        "for icao24 in list_velocity:\n",
        "    flights_of_icao24 = original_data[original_data['icao24'] == icao24]\n",
        "    flights_of_icao24 = flights_of_icao24[~flights_of_icao24.index.duplicated(keep='first')]\n",
        "\n",
        "    # Điền các giá trị thiếu của cột 'velocity' bằng spline bậc 3\n",
        "    flights_of_icao24['velocity'].interpolate(method='spline', order=3, inplace=True)\n",
        "\n",
        "    original_data.loc[flights_of_icao24.index] = flights_of_icao24\n",
        "# Lưu DataFrame vào tệp CSV gốc\n",
        "original_data.to_csv('original_data_new1.csv', index=True)\n"
      ]
    },
    {
      "cell_type": "markdown",
      "metadata": {
        "id": "-rxc4Wbh4yhd"
      },
      "source": [
        "#Xử lí dữ liệu thiếu cột geoaltitude"
      ]
    },
    {
      "cell_type": "code",
      "execution_count": null,
      "metadata": {
        "id": "pf6pKBP27QgP"
      },
      "outputs": [],
      "source": [
        "# Xử lí dữ liệu còn thiếu bằng cách điền giá trị gần nhất với nó\n",
        "import pandas as pd\n",
        "\n",
        "# Thực hiện các thay đổi trên DataFrame mới\n",
        "for icao24 in flights_with_null_geoaltitude_list:\n",
        "    flights_of_icao24 = original_data[original_data['icao24'] == icao24]\n",
        "    flights_of_icao24 = flights_of_icao24[~flights_of_icao24.index.duplicated(keep='first')]\n",
        "\n",
        "    # Điền các giá trị bị thiếu bằng giá trị ở sau gần nhất trong cùng cột\n",
        "    flights_of_icao24[\"geoaltitude\"].fillna(method='bfill', inplace=True)\n",
        "\n",
        "    original_data.loc[flights_of_icao24.index] = flights_of_icao24\n",
        "\n",
        "# Lưu DataFrame vào tệp CSV gốc\n",
        "original_data.to_csv('original_data_new1.csv', index=True)\n"
      ]
    },
    {
      "cell_type": "code",
      "execution_count": null,
      "metadata": {
        "id": "6Wrm2zK043nt"
      },
      "outputs": [],
      "source": [
        "#Xử lí theo giá trị trung bình\n",
        "import pandas as pd\n",
        "\n",
        "# Thực hiện các thay đổi trên DataFrame mới\n",
        "for icao24 in flights_with_null_geoaltitude_list:\n",
        "    flights_of_icao24 = original_data[original_data['icao24'] == icao24]\n",
        "    flights_of_icao24 = flights_of_icao24[~flights_of_icao24.index.duplicated(keep='first')]\n",
        "\n",
        "    # Tính giá trị trung bình của cột 'heading'\n",
        "    mean_heading = flights_of_icao24['geoaltitude'].mean()\n",
        "\n",
        "    # Điền giá trị trung bình vào các giá trị thiếu của cột 'heading'\n",
        "    flights_of_icao24['geoaltitude'].fillna(mean_heading, inplace=True)\n",
        "\n",
        "    original_data.loc[flights_of_icao24.index] = flights_of_icao24\n",
        "\n",
        "# Lưu DataFrame vào tệp CSV gốc\n",
        "original_data.to_csv('original_data_new1.csv', index=True)"
      ]
    },
    {
      "cell_type": "code",
      "execution_count": null,
      "metadata": {
        "id": "nq7WrBqa4-Cs"
      },
      "outputs": [],
      "source": [
        "# Xử lí nội suy bậc 3\n",
        "import pandas as pd\n",
        "\n",
        "# Thực hiện các thay đổi trên DataFrame mới\n",
        "for icao24 in flights_with_null_geoaltitude_list:\n",
        "    flights_of_icao24 = original_data[original_data['icao24'] == icao24]\n",
        "    flights_of_icao24 = flights_of_icao24[~flights_of_icao24.index.duplicated(keep='first')]\n",
        "\n",
        "    # Điền các giá trị thiếu của cột 'velocity' bằng spline bậc 3\n",
        "    flights_of_icao24['geoaltitude'].interpolate(method='spline', order=3, inplace=True)\n",
        "\n",
        "    original_data.loc[flights_of_icao24.index] = flights_of_icao24\n",
        "# Lưu DataFrame vào tệp CSV gốc\n",
        "original_data.to_csv('original_data_new1.csv', index=True)\n"
      ]
    },
    {
      "cell_type": "markdown",
      "metadata": {
        "id": "l256s3wU_7oU"
      },
      "source": [
        "#Lưu dữ liệu sang file mới"
      ]
    },
    {
      "cell_type": "code",
      "execution_count": null,
      "metadata": {
        "id": "hJ-rVBxuX00-"
      },
      "outputs": [],
      "source": [
        "# spline\n",
        "original_data.to_csv('original_data_new1.csv', index=True)\n"
      ]
    },
    {
      "cell_type": "code",
      "execution_count": null,
      "metadata": {
        "id": "KpiCe6Jo7fem"
      },
      "outputs": [],
      "source": [
        "# gan nhat\n",
        "original_data.to_csv('original_data_new.csv', index= True)"
      ]
    },
    {
      "cell_type": "code",
      "execution_count": null,
      "metadata": {
        "id": "xP4Bc-4U6Plq"
      },
      "outputs": [],
      "source": [
        "#spline\n",
        "data1 = pd.read_csv('original_data_new1.csv')\n",
        "data1[\"time\"] = pd.to_datetime(data1['time'], unit='s')\n",
        "# Đặt cột \"time\" làm cột chỉ mục (index)\n",
        "data1.set_index('time', inplace=True)\n",
        "\n",
        "data1= data1[[\"icao24\",\"lat\",\"lon\",\"velocity\",\"heading\",\"geoaltitude\"]]\n",
        "data1"
      ]
    },
    {
      "cell_type": "code",
      "execution_count": null,
      "metadata": {
        "id": "qZuB7hkKYVB9"
      },
      "outputs": [],
      "source": [
        "# gần nhat\n",
        "data2 = pd.read_csv('original_data_new.csv')\n",
        "data2[\"time\"] = pd.to_datetime(data2['time'], unit='s')\n",
        "# Đặt cột \"time\" làm cột chỉ mục (index)\n",
        "data2.set_index('time', inplace=True)\n",
        "\n",
        "data2= data2[[\"icao24\",\"lat\",\"lon\",\"velocity\",\"heading\",\"geoaltitude\"]]\n",
        "data2"
      ]
    },
    {
      "cell_type": "code",
      "execution_count": null,
      "metadata": {
        "id": "TC3pUKsTsOCE"
      },
      "outputs": [],
      "source": [
        "# gan nhat\n",
        "data1[data1[\"icao24\"]== 'aafc2d']"
      ]
    },
    {
      "cell_type": "code",
      "execution_count": null,
      "metadata": {
        "colab": {
          "base_uri": "https://localhost:8080/"
        },
        "id": "Rmp8s3neYHAH",
        "outputId": "0f1431e3-370c-4bec-a369-dde910226494"
      },
      "outputs": [
        {
          "name": "stdout",
          "output_type": "stream",
          "text": [
            "Số lượng chuyến bay có heading bị NULL: 18\n",
            "['a94b50', 'a18d60', 'a7912a', 'a2e5d1', 'a2189c', '2c0ae2', '503da5', 'a1e9af', 'a506c9', 'a4edba', 'a8754d', 'a2090d', 'a9b053', '2c0ba3', 'abd2e6', 'a2f710', 'ab8b56', 'a87904']\n"
          ]
        }
      ],
      "source": [
        "# Tạo một tập hợp để lưu các icao24 của các chuyến bay có HEADING bị null\n",
        "flights_with_null_heading = set()\n",
        "\n",
        "# Lọc các chuyến bay có heading bị null và thêm icao24 vào tập hợp\n",
        "for index, row in data1.iterrows():\n",
        "    if pd.isnull(row['heading']):\n",
        "        flights_with_null_heading.add(row['icao24'])\n",
        "\n",
        "# Chuyển tập hợp thành danh sách để hiển thị\n",
        "list_heading = list(flights_with_null_heading)\n",
        "\n",
        "# Hiển thị danh sách các icao24 của các chuyến bay có heading bị null\n",
        "print(\"Số lượng chuyến bay có heading bị NULL:\", len(list_heading))\n",
        "print(list_heading)\n"
      ]
    },
    {
      "cell_type": "code",
      "execution_count": null,
      "metadata": {
        "id": "qLnGeuiQQojE"
      },
      "outputs": [],
      "source": [
        "import os\n",
        "import pandas as pd\n",
        "input_dir = \"/content/output_directory\"\n",
        "output_dir = \"velocity_heading\"  # Thay đổi đường dẫn tới thư mục lưu các tệp nhỏ theo ngày\n",
        "os.makedirs(output_dir, exist_ok=True)\n",
        "\n",
        "for icao24 in list_heading:\n",
        "\n",
        "  input_file = os.path.join(input_dir,f\"{icao24}.csv\")\n",
        "\n",
        "  data = pd.read_csv(input_file)\n",
        "   # Chuyển đổi cột 'timestamp' thành đối tượng datetime\n",
        "  data['time'] = pd.to_datetime(data['time'])\n",
        "\n",
        "        # Tách dữ liệu thành các nhóm theo ngày\n",
        "  for date, group_data in data.groupby(data['time'].dt.date):\n",
        "            # Tạo tên tệp cho tệp nhỏ dựa trên ngày và ICAO 24\n",
        "     output_file_path = os.path.join(output_dir, f\"{os.path.splitext(icao24)[0]}_{date}.csv\")\n",
        "\n",
        "            # Lưu dữ liệu vào tệp nhỏ\n",
        "     group_data.to_csv(output_file_path, index=True)\n",
        "\n",
        "\n",
        "\n",
        "\n"
      ]
    },
    {
      "cell_type": "code",
      "execution_count": null,
      "metadata": {
        "id": "JpgguRejfGq3"
      },
      "outputs": [],
      "source": [
        "import pandas as pd\n",
        "import os\n",
        "\n",
        "\n",
        "\n",
        "\n",
        "# Đường dẫn đến thư mục gốc chứa các tệp CSV\n",
        "input_dir = \"/content/velocity_heading\"  # Thay đổi đường dẫn tới thư mục gốc chứa các tệp CSV\n",
        "output_dir = \"/content/interpolated_data\"  # Thay đổi đường dẫn tới thư mục lưu các tệp CSV đã nội suy\n",
        "\n",
        "# Tạo thư mục đầu ra nếu chưa tồn tại\n",
        "os.makedirs(output_dir, exist_ok=True)\n",
        "\n",
        "# Lặp qua tất cả các tệp CSV trong thư mục gốc\n",
        "for filename in os.listdir(input_dir):\n",
        "    if filename.endswith(\".csv\"):  # Đảm bảo chỉ xử lý các tệp CSV\n",
        "        # Đường dẫn đầy đủ đến tệp CSV đầu vào\n",
        "        input_file = os.path.join(input_dir, filename)\n",
        "\n",
        "        # Đọc dữ liệu từ tệp CSV\n",
        "        data = pd.read_csv(input_file)\n",
        "\n",
        "        # Kiểm tra và nội suy bậc 3 cho cột 'heading' nếu bị thiếu dữ liệu\n",
        "        if 'heading' in data.columns and data['heading'].isnull().any():\n",
        "            # Nội suy bậc 3 từ cả hai hướng\n",
        "\n",
        "             data['heading'].interpolate(method='polynomial', order=3, inplace=True, direction='both')\n",
        "\n",
        "        if 'velocity' in data.columns and data['velocity'].isnull().any():\n",
        "    # Nội suy bậc 3 từ cả hai hướng\n",
        "            data['velocity'].interpolate(method='polynomial', order=3, inplace=True, direction='both')\n",
        "\n",
        "       # if 'geoaltitude' in data.columns and data['geoaltitude'].isnull().any():\n",
        "            # Nội suy bậc 3 từ cả hai hướng\n",
        "          #  data['geoaltitude'].interpolate(method='polynomial', order=3, inplace=True)\n",
        "\n",
        "\n",
        "        # Lưu dữ liệu đã được nội suy vào tệp CSV mới trong thư mục đầu ra\n",
        "        output_file = os.path.join(output_dir, filename)\n",
        "        data.to_csv(output_file, index=True)\n",
        "\n",
        "        print(f\"Đã xử lý và lưu tệp: {output_file}\")\n",
        "#/content/interpolated_data/06a1e7_2016-12-04.csv"
      ]
    },
    {
      "cell_type": "code",
      "execution_count": null,
      "metadata": {
        "id": "djMgzbQPZebc"
      },
      "outputs": [],
      "source": [
        "import os\n",
        "import pandas as pd\n",
        "\n",
        "input_dir = \"/content/velocity_heading\"\n",
        "\n",
        "for filename in os.listdir(input_dir):\n",
        "    input_file = os.path.join(input_dir, filename)\n",
        "\n",
        "    data = pd.read_csv(input_file)\n",
        "\n",
        "    # Kiểm tra nếu không có giá trị null trong cột \"heading\"\n",
        "    if data[\"heading\"].notnull().all():\n",
        "        # Xóa tệp tin\n",
        "        os.remove(input_file)\n",
        "        print(f\"Đã xóa tệp tin: {filename}\")\n"
      ]
    },
    {
      "cell_type": "code",
      "execution_count": null,
      "metadata": {
        "colab": {
          "base_uri": "https://localhost:8080/"
        },
        "id": "ccE-_CsAMK4Q",
        "outputId": "095dd8f4-f8f6-4648-8d5f-88556ed855c1"
      },
      "outputs": [
        {
          "name": "stdout",
          "output_type": "stream",
          "text": [
            "Số lượng chuyến bay có velocity bị NULL: 253\n",
            "['2c074b', 'ab3c58', 'a678ef', 'a1c8eb', 'a91536', 'ab7a21', 'a36110', 'a1db3a', '0c2063', 'ab4153', 'a1102e', 'a3e08d', 'a449f1', 'ab6b45', '2c0b3c', '2c0b4b', 'a7fb19', 'a57362', '2c0fb9', 'abf09e', 'a336df', '2c02c8', '2c018c', 'ab34ea', 'a9a1d9', 'ac8ed7', 'a69900', 'a51b93', 'a2b8c5', 'a41b66', 'ab2b2c', 'a506c9', '2c0c93', 'a7911f', 'a98f2d', 'c03bf7', 'abe82c', 'abe579', 'a577a3', '2c08ef', 'abe475', 'a2b371', 'a7912a', '2c01f4', '503daf', 'aa7b54', 'a7c878', 'a0f815', 'a6006f', 'abe0df', 'a6bf31', 'a8c094', '2c0012', '2c0b5c', 'ac02b4', 'a0e600', 'a972d3', 'a32ebb', 'a16de1', '2c078c', 'a7a9cd', '2c0577', 'ab6c08', 'ab0d76', 'a2090d', '2c048b', 'a34fae', '2c0a9f', 'ab62d3', 'a0fb74', '2c080c', 'a335f6', 'a456a9', '2c00f5', 'a95dba', 'a1e14a', 'ab8b56', 'ab1122', '503da5', '0d0600', 'a85953', '2c09a7', '2c0adf', '2c0602', 'ab04f3', '2c0fcf', 'a8754d', 'ab72b3', 'a48e63', '2c0ba3', 'a4eb80', 'a7db08', '2c00e2', 'a0902d', '2c0567', 'a636ea', 'abeb31', 'a95306', 'a757ae', 'a94bff', 'abae2c', '2c023a', '2c02e4', 'abd5e0', 'aa6c0f', 'ab5c69', 'ab23b5', '2c0e6c', 'a47cba', 'a7c7ea', '2c07a4', 'a7ad84', 'abec03', 'a78e09', 'a8dff1', 'a27de0', '2c000f', 'ad97cb', 'a69242', 'a05806', 'a06a7e', 'a118e0', 'ad03ee', 'aa795d', '2c0371', 'a789bc', 'a4943e', '2c0aa9', 'abadd6', '2c0f55', 'ab048d', '2c0036', 'abf29f', 'ab766a', 'a049f0', 'aaa58b', 'a3f253', '2c0850', 'a49510', 'a2c62b', 'abb666', 'a417af', '2c0668', 'ab5365', 'aa6f17', '503da6', 'ab37d6', 'ae4ebc', 'ab1c47', 'a6fb2e', '2c04bd', 'abe1b6', '2c0fd0', '2c0096', 'a4ef05', 'ab03a4', '2c06f3', 'a1dddf', 'abd2e6', 'a6e89b', 'a39ac6', 'ab8fd0', 'adeddd', '2c0974', 'a90b3c', 'a49561', '2c0f59', '2c0ae2', 'a4e181', 'abb537', 'a8aba8', 'a1e9af', 'a38d77', 'a2f710', 'aaffed', 'ab8031', '2c0946', 'ad4c2a', '2c038d', 'a202fd', 'ab1d30', 'c06c58', 'a40359', 'abe892', '2c0dfa', '2c03f8', 'a43b77', '2c0ce6', 'a32ad1', 'aaf111', 'abe3e6', 'a74224', '2c0409', 'a4edba', 'aa72f5', 'a7c00f', 'a7debf', 'a7a25f', 'a77ae0', '2c0fa2', 'aacfbe', '2c04e0', 'a2189c', 'a2e5d1', 'acd86e', 'abaa43', 'a2f13a', 'a3b4a6', 'a18d60', 'a40dbb', 'a87904', 'aa96e2', 'ab09b4', 'a963bf', 'adea7f', 'acb285', 'a34721', 'ab4eeb', 'a9ed8e', 'a0cdf3', '2c0454', '2c08de', 'a2dffe', 'a43b45', '2c058c', 'aaed5a', 'ac3558', 'a1ac91', 'ac5310', 'ad340d', 'adb29f', '503da9', 'a08321', 'a66a13', '2c0674', 'a35605', 'a5823e', '2c04a6', 'a62e37', 'a94b50', 'a78d73', 'a7256e', 'a95340', '2c07f4', 'ab14d9', 'c00e93', 'a9b053', '2c0e1e', 'a9729e', '2c06c9', '2c0f44', 'a4b294', 'a9044d']\n"
          ]
        }
      ],
      "source": [
        "# Tạo một tập hợp để lưu các icao24 của các chuyến bay có VELOCITY bị null\n",
        "flights_with_null_velocity = set()\n",
        "\n",
        "# Lọc các chuyến bay có velocity bị null và thêm icao24 vào tập hợp\n",
        "for index, row in data1.iterrows():\n",
        "    if pd.isnull(row['velocity']):\n",
        "        flights_with_null_velocity.add(row['icao24'])\n",
        "\n",
        "# Chuyển tập hợp thành danh sách để hiển thị\n",
        "list_velocity = list(flights_with_null_velocity)\n",
        "\n",
        "# Hiển thị danh sách các icao24 của các chuyến bay có velocity bị null\n",
        "print(\"Số lượng chuyến bay có velocity bị NULL:\", len(list_velocity))\n",
        "print(list_velocity)"
      ]
    },
    {
      "cell_type": "code",
      "execution_count": null,
      "metadata": {
        "colab": {
          "base_uri": "https://localhost:8080/"
        },
        "id": "P1w1xVYPMT1c",
        "outputId": "0b069418-64d1-4bfd-f32f-8b54ccb829f6"
      },
      "outputs": [
        {
          "name": "stdout",
          "output_type": "stream",
          "text": [
            "Số lượng chuyến bay bị có GEOALTITUDE (NULL): 684\n",
            "['ad7a5f', 'ac7082', 'a1db3a', 'abd19e', 'a76546', 'aba281', 'a449f1', 'ab6b45', '2c0b4b', 'a7fb19', 'a8e813', 'abf09e', 'a336df', 'a1a8db', '2c02c8', 'ac8ed7', 'a69900', 'a2b8c5', 'a41e90', 'a9021c', 'a4943f', 'a07f44', '2c08ef', '71bc15', 'abf17f', 'a2cc46', 'a7c878', 'abe0df', '2c011f', 'a4ba02', 'a8c094', 'adb3cb', '2c078c', 'a0d90c', 'aaa2d3', 'ac7f41', 'ab62d3', 'adc5a6', 'a335f6', 'a199fe', 'a1e14a', '2c0784', 'a474e8', 'ab8b56', 'aaa201', 'a78a52', '2c068b', 'a63bf4', 'a85953', 'aae5f7', 'a84660', 'acc3b4', 'a7128b', '2c00d6', 'ab2855', 'aa6d33', 'a494eb', '2c01e0', 'a96c96', 'a64d06', 'a98051', 'a74170', 'a1bfba', 'ab23b5', 'abe2a3', 'ab5e9b', 'a44e18', 'a3323f', 'ad0e61', '2c07a4', 'a7ad84', 'a1d10c', 'ab5eb2', 'abec03', 'a32890', 'a6cff8', 'ad97cb', 'a118e0', 'a5b923', 'a8b4eb', 'aa795d', 'adf194', 'a339ad', '2c0bf0', 'abfb46', '2c09e9', 'a49510', 'abb666', 'a6227b', 'aa6f17', 'adb782', 'ad44bc', 'ab2760', 'ab37d6', 'ab1c47', 'a6fb2e', 'abe1b6', '2c0fd0', 'a665aa', '2c0096', 'abea11', 'ad18da', 'a4b444', '2c06f3', 'abd2e6', 'a6e89b', 'a39ac6', 'ab8fd0', 'a40698', 'a40cce', '2c0f59', 'abef79', 'a8aba8', 'a1fc3b', 'a1e9af', 'a06310', '2c038d', 'a6464b', 'a0ff2b', 'abd5bb', 'a6e131', 'a43b77', 'aaa1de', '2c0929', 'ad2f24', '2c0409', 'a4edba', 'a7c00f', 'abe287', 'a44560', 'a1e5f8', '2c0421', 'a1e241', 'a2e5d1', 'a1530a', 'a2f13a', 'a3b4a6', 'ac468d', 'acb285', 'a9ed8e', 'a0cdf3', 'abe448', 'a58642', 'ab9de9', 'ac5310', 'a1a605', 'a8fc73', '2c0b55', '2c04a3', 'a87196', 'a963f7', '2c0be0', 'a66a13', 'a38991', 'a40b98', 'ac4ab5', 'a62e37', 'a95340', 'a1308a', 'ad1ffb', 'a9fe30', '2c06c9', '2c019e', '2c074b', 'ab485e', 'aafc36', 'a1e8b8', 'a1dc31', 'a91536', 'ab7a21', 'ac2bd5', 'ab4153', '0c2063', 'a71232', '0d0806', 'abb68c', 'abebe0', 'ad90a3', 'a95c0c', 'a4b64b', '2c05cc', 'a1fff9', 'a41b66', 'a54274', 'a8e825', 'c004f3', 'aab129', 'a21f57', 'a98f2d', 'a7911f', 'aaa28d', 'c03bf7', 'aa7aeb', 'ab43c6', 'a77e8f', 'a8bcdd', 'a2b371', 'ac5829', 'c01791', 'a8ee4d', 'a0f815', 'a9600b', 'ab6101', 'a6006f', 'abd971', 'a6bf31', '2c0012', '2c0b5c', 'a0e600', 'ab2f35', 'a32ebb', 'abe4db', 'ab6c08', 'a7a9cd', 'a4467a', 'abd8c1', 'a2090d', 'a78dbe', 'a6cb48', '2c0a9f', 'a0ddfb', 'a0fb74', 'abd57e', '2c08b2', '2c080c', 'a456a9', 'a95dba', '2c0f4a', '0d0600', 'a704f9', 'a53436', 'ac5331', 'a226c5', 'a9fbed', 'a6a425', '2c0602', 'a8754d', 'ac2bf8', 'a81b2a', 'ad5c83', '2c00e2', 'a883bd', 'a0fcd4', 'a7d39a', 'aa7030', 'a95306', 'ac15aa', '2c02e4', 'c0524c', 'abd5e0', 'a131f4', '2c0f2f', 'a69cb7', 'a1ff46', 'a0541b', 'ab313c', 'a27de0', '2c000f', 'a19db5', '2c055f', 'ad03ee', 'abae62', '2c0aa9', '2c0f55', 'a6c07f', '2c00bb', '2c04f4', 'abf29f', 'a42f04', '2c0850', 'adc8e7', 'a9969b', 'ab2496', 'abfa65', 'a1a523', 'ab5365', '2c0876', 'a8d665', 'aafc60', 'a87918', '2c04bd', 'ab03a4', 'a1dddf', 'a9e737', 'aafd17', 'a6b911', 'acf5be', '2c0d6b', 'a5c474', 'a49561', '2c0ae2', 'ab8031', 'ad4c2a', '2c0ffb', 'ad806d', 'abdcb7', 'ab1d30', 'a40359', '0c2045', '2c03f8', 'aaf111', 'abe3e6', 'a74224', 'a76d99', 'aacfbe', '4247a1', '2c0fa2', '2c04e0', 'a55d6a', 'abaa43', 'a18d60', 'aa96e2', 'adea7f', '7c3b43', 'ab4eeb', 'a6844d', 'adf068', 'a43b45', 'a2dffe', 'ac2bfd', '2c058c', 'aaed5a', 'a1ac91', 'abd3c7', 'adb29f', 'abefba', '0d02f1', '2c0674', 'a5823e', 'a1226b', 'a82e27', 'a94b50', 'a78d73', 'c00e93', 'a9b053', '2c0e1e', 'a0be81', 'a369af', 'a2c205', 'acde5f', 'ac72af', 'a9767b', 'a1c8eb', 'a445f0', 'a36110', 'ade96e', '3c7066', 'a1102e', 'a700a4', 'a9fdb4', 'a57362', 'a7c62e', 'a6d74d', '2c0fb9', 'ab2f1f', '2c018c', 'a1ed66', 'ab3c61', 'aa5691', 'acfc58', 'a94b2e', 'a389c0', 'ab2b2c', 'aba7b0', 'a506c9', '2c0c93', 'a33272', 'abe82c', 'abe579', 'a577a3', 'a546c9', 'abe475', '2c01f4', '503daf', 'ab3ee2', 'aa6dd8', '4d012b', 'c033a0', 'a7416d', 'a445ec', 'a16de1', 'a5223c', 'abda54', 'a0b6ea', 'ab4bab', '2c0d25', '2c09be', 'ad2c19', 'a34fae', 'abd135', 'ad8881', '2c021c', '503da5', 'a041cd', '2c09a7', '503da3', 'a8352b', 'a48e63', '2c0ba3', 'a7db08', 'a6cc41', 'a902b5', 'ac5920', 'abeb31', '2c05de', 'a757ae', 'ab8880', 'aa017c', 'a669a8', 'aa6c0f', 'a7753f', 'ab5c69', 'a6d326', 'ac7b87', 'a7c7ea', '2c0224', 'a32363', 'a5142e', 'adb656', 'a78e09', 'a69242', 'a05806', 'a06a7e', 'adddd5', 'a71f24', '2c05e7', 'abfe1c', 'a82a06', 'abe7c5', 'ab048d', 'a96171', 'abadd6', '2c0928', '2c0036', 'a3f253', 'a92171', '2c0668', 'a94b05', '2c00d0', 'abb7c8', 'abaf2e', '47a1cf', 'a6f777', 'ae4ebc', 'abd230', 'ab7f5c', '2c0fb2', 'abab67', 'abb12d', 'a385da', 'adeddd', '2c0974', 'a90b3c', 'a4e181', 'a73a51', 'a7617e', 'a57412', 'a38d77', 'a2f710', '2c0946', 'ada521', 'a3cd99', 'c06c58', '2c0dfa', 'ab38a1', '2c0642', 'ab975c', 'a32ad1', 'a2107b', 'aa6f63', 'a7debf', 'a4f05d', 'a7a25f', '2c01d1', 'adc65e', '2c0655', '2c0da0', 'a40dbb', 'a34721', 'ab502d', 'a98408', '2c08de', 'a16162', 'a722db', 'ac3558', 'ad20f4', 'a85caa', 'ac91d4', 'a958d2', 'ad340d', '2c0ff4', '2c0365', 'ac771f', 'a08321', '2c04a6', 'a7256e', 'ab14d9', 'abd8e4', 'a18113', '2c0f44', 'a4b294', 'a566da', 'a923cf', 'a83782', 'ab3c58', 'a678ef', 'a1fc42', 'aa700f', 'a3e08d', 'a098f6', 'a849ab', 'aa16d5', '2c0b3c', 'a32be6', 'a7b13b', 'a95c43', 'ab34ea', 'a9a1d9', 'a51b93', 'a426e0', 'abbdfa', 'adde49', 'a1d059', 'a76d54', 'a968bf', 'a00475', 'a43815', 'a7912a', 'aa7b54', 'abd536', 'acd100', 'e490fd', 'a791c0', 'a0bcb2', 'a320c9', 'ac02b4', 'a972d3', '2c0577', 'a6a77c', 'ab0d76', 'a57666', '2c04dd', 'ac77d0', 'abaafe', '2c048b', 'a86ddf', 'a97c9a', 'ab0e16', 'a04240', 'a09188', '2c00f5', 'a2c7ef', '2c0788', 'aa7b78', 'abe056', 'a46e5f', 'c004e9', 'a0c162', 'ab1122', 'a80dac', 'a6b0e1', 'aaadf8', '2c0adf', 'ab04f3', '2c0fcf', '4d0107', 'ab72b3', 'a4eb80', 'abe40a', 'a77111', 'c00ec2', '2c06c3', 'a0902d', '2c0567', 'abf4b0', 'a636ea', 'a32396', 'a86671', 'abb1c2', 'a94bff', '2c023a', 'abdce1', 'abae2c', 'a41e94', 'a339db', 'a494e9', '2c0e6c', 'a47cba', 'abd1c5', 'a4b1f4', '2c0ccc', 'a31ab9', 'a7419c', 'a13408', 'a7a60e', 'a8dff1', 'ab1c40', 'a0f1bb', 'a794d6', 'abcd31', 'a41e29', 'a789bc', 'a4943e', '2c0371', 'a86061', 'ab766a', 'a049f0', 'a716ee', 'aaa58b', 'a95c89', 'a2c62b', 'abfde0', 'a35635', 'a417af', '503da6', '2c05dd', 'a03749', 'a365f8', 'a19647', 'a7824e', 'a0b581', '2c090c', 'ae4ec0', 'a4ef05', 'a84a17', 'a83ef2', 'adc531', 'a96b65', 'a737c7', 'a81ee1', 'a34e40', 'ab6339', 'a0996b', 'aaa83f', 'a82298', 'abb537', 'ace0d2', 'aaffed', '2c0144', 'ac5314', 'a8e0c2', 'a46d47', '2c02e2', 'a202fd', 'accb22', 'abe892', 'a7cc2c', '2c02fa', '2c0ce6', 'aa72f5', 'a34ae0', 'ace31a', '2c02eb', 'a77ae0', 'acd86e', 'a2189c', 'a923a7', 'a963bf', 'ab183e', '2c0286', 'a76f66', 'ab09b4', 'a87904', 'a76ddf', 'a78605', '2c0454', 'ab5f00', '2c04d2', 'a1d7c7', '503da9', 'aab0de', 'a12121', 'a97655', 'a35605', 'abdd4a', 'acd1f6', 'adf0a8', '2c07f4', 'abfefd', 'a9b2d4', 'a9729e', 'a00538', 'aaad8f', 'a9044d']\n"
          ]
        }
      ],
      "source": [
        "# Tạo một tập hợp để lưu các icao24 của các chuyến bay có GEOALTITUDE bị null\n",
        "flights_with_null_geoaltitude = set()\n",
        "\n",
        "# Lọc các chuyến bay có velocity bị null và thêm icao24 vào tập hợp\n",
        "for index, row in data1.iterrows():\n",
        "    if pd.isnull(row['geoaltitude']):\n",
        "        flights_with_null_geoaltitude.add(row['icao24'])\n",
        "\n",
        "# Chuyển tập hợp thành danh sách để hiển thị\n",
        "flights_with_null_geoaltitude_list = list(flights_with_null_geoaltitude)\n",
        "\n",
        "# Hiển thị danh sách các icao24 của các chuyến bay có velocity bị null\n",
        "print(\"Số lượng chuyến bay bị có GEOALTITUDE (NULL):\",len(flights_with_null_geoaltitude_list))\n",
        "\n",
        "print(flights_with_null_geoaltitude_list)\n"
      ]
    },
    {
      "cell_type": "code",
      "execution_count": null,
      "metadata": {
        "colab": {
          "base_uri": "https://localhost:8080/"
        },
        "id": "j0PmjCYYYxxN",
        "outputId": "1b247de9-aa70-4332-aa91-a09d4ce9a199"
      },
      "outputs": [
        {
          "name": "stderr",
          "output_type": "stream",
          "text": [
            "<ipython-input-37-6a23a43c01da>:13: UserWarning: Could not infer format, so each element will be parsed individually, falling back to `dateutil`. To ensure parsing is consistent and as-expected, please specify a format.\n",
            "  data['time'] = pd.to_datetime(data['time'])\n"
          ]
        }
      ],
      "source": [
        "import os\n",
        "import pandas as pd\n",
        "input_dir = \"/content/output_directory\"\n",
        "output_dir = \"geoaltitude\"  # Thay đổi đường dẫn tới thư mục lưu các tệp nhỏ theo ngày\n",
        "os.makedirs(output_dir, exist_ok=True)\n",
        "\n",
        "for icao24 in flights_with_null_geoaltitude_list:\n",
        "\n",
        "  input_file = os.path.join(input_dir,f\"{icao24}.csv\")\n",
        "\n",
        "  data = pd.read_csv(input_file)\n",
        "   # Chuyển đổi cột 'timestamp' thành đối tượng datetime\n",
        "  data['time'] = pd.to_datetime(data['time'])\n",
        "\n",
        "        # Tách dữ liệu thành các nhóm theo ngày\n",
        "  for date, group_data in data.groupby(data['time'].dt.date):\n",
        "            # Tạo tên tệp cho tệp nhỏ dựa trên ngày và ICAO 24\n",
        "     output_file_path = os.path.join(output_dir, f\"{os.path.splitext(icao24)[0]}_{date}.csv\")\n",
        "\n",
        "            # Lưu dữ liệu vào tệp nhỏ\n",
        "     group_data.to_csv(output_file_path, index=True)\n",
        "\n",
        "\n"
      ]
    },
    {
      "cell_type": "code",
      "execution_count": null,
      "metadata": {
        "id": "lVPk5VcZNBRH"
      },
      "outputs": [],
      "source": [
        "data1[data1[\"icao24\"]== \"ab3c58\"]"
      ]
    },
    {
      "cell_type": "markdown",
      "metadata": {
        "id": "12-zWInguP1o"
      },
      "source": [
        "#MÔ PHỎNG"
      ]
    },
    {
      "cell_type": "code",
      "execution_count": null,
      "metadata": {
        "colab": {
          "base_uri": "https://localhost:8080/"
        },
        "id": "iC-pSYEA_mD8",
        "outputId": "7c083872-322f-49f3-bdc7-92a0532f5bfb"
      },
      "outputs": [
        {
          "name": "stdout",
          "output_type": "stream",
          "text": [
            "                     icao24        lat        lon   velocity     heading  \\\n",
            "time                                                                       \n",
            "2017-03-11 22:20:27  2c0674  33.763321 -84.439461        NaN         NaN   \n",
            "2017-03-11 22:20:28  2c0674  33.763321 -84.439461        NaN         NaN   \n",
            "2017-03-11 22:20:29  2c0674  33.763321 -84.439461        NaN         NaN   \n",
            "2017-03-11 22:20:30  2c0674  33.763321 -84.439461        NaN         NaN   \n",
            "2017-03-11 22:20:31  2c0674  33.763321 -84.439461        NaN         NaN   \n",
            "...                     ...        ...        ...        ...         ...   \n",
            "2017-03-11 22:29:36  2c0674  33.782959 -84.408188  30.107063  236.853004   \n",
            "2017-03-11 22:29:37  2c0674  33.782959 -84.408188  30.107063  236.853004   \n",
            "2017-03-11 22:29:38  2c0674  33.782959 -84.408188  30.107063  236.853004   \n",
            "2017-03-11 22:29:39  2c0674  33.782959 -84.408188  30.107063  236.853004   \n",
            "2017-03-11 22:29:40  2c0674  33.782959 -84.408188  30.107063  236.853004   \n",
            "\n",
            "                     geoaltitude  \n",
            "time                              \n",
            "2017-03-11 22:20:27          NaN  \n",
            "2017-03-11 22:20:28          NaN  \n",
            "2017-03-11 22:20:29          NaN  \n",
            "2017-03-11 22:20:30          NaN  \n",
            "2017-03-11 22:20:31          NaN  \n",
            "...                          ...  \n",
            "2017-03-11 22:29:36       693.42  \n",
            "2017-03-11 22:29:37       693.42  \n",
            "2017-03-11 22:29:38       693.42  \n",
            "2017-03-11 22:29:39       693.42  \n",
            "2017-03-11 22:29:40       693.42  \n",
            "\n",
            "[554 rows x 6 columns]\n"
          ]
        }
      ],
      "source": [
        "import pandas as pd\n",
        "\n",
        "search_date = '2017-03-11'\n",
        "# Chuyển đổi ngày tìm kiếm sang định dạng datetime\n",
        "search_date = pd.to_datetime(search_date)\n",
        "\n",
        "# Lọc các chuyến bay trong ngày tìm kiếm và có chỉ số icao24 nhất định\n",
        "flights_on_search_date = data1[(data1.index.date == search_date.date()) & (data1['icao24'] == '2c0674')] # tb\n",
        "#flights_on_search_date2 = data2[(data2.index.date == search_date.date()) & (data2['icao24'] == 'adeddd')]  # gan nhat\n",
        "\n",
        "print(flights_on_search_date)\n",
        "#print(flights_on_search_date2)"
      ]
    },
    {
      "cell_type": "code",
      "execution_count": null,
      "metadata": {
        "id": "hM9RPHUmlXeo"
      },
      "outputs": [],
      "source": [
        "import folium\n",
        "\n",
        "# Tạo một bản đồ vệ tinh\n",
        "m = folium.Map(location=[33.6407, -84.4277], zoom_start=10)\n",
        "\n",
        "# Tạo một list chứa các điểm (latitude, longitude) của quỹ đạo bay của máy bay\n",
        "flight_path = []\n",
        "for index, row in flights_on_search_date2.iterrows():\n",
        "    flight_path.append((row['lat'], row['lon']))\n",
        "\n",
        "# Tạo các CircleMarker cho mỗi điểm trong DataFrame\n",
        "for index, row in flights_on_search_date2.iterrows():\n",
        "    folium.CircleMarker(location=(row['lat'], row['lon']), radius=3, color='black', fill=False).add_to(m)\n",
        "\n",
        "# Tạo đường kẻ thẳng dựa trên danh sách các điểm quỹ đạo\n",
        "folium.PolyLine(locations=flight_path, color='red').add_to(m)\n",
        "\n",
        "# Đánh dấu điểm đầu\n",
        "folium.Marker(location=flight_path[0], popup='Điểm đầu', icon=folium.Icon(color='green')).add_to(m)\n",
        "\n",
        "# Đánh dấu điểm cuối\n",
        "folium.Marker(location=flight_path[-1], popup='Điểm cuối', icon=folium.Icon(color='blue')).add_to(m)\n",
        "\n",
        "# Hiển thị bản đồ\n",
        "m\n"
      ]
    },
    {
      "cell_type": "code",
      "execution_count": null,
      "metadata": {
        "colab": {
          "base_uri": "https://localhost:8080/",
          "height": 501
        },
        "id": "OtmwVsQKruep",
        "outputId": "256d9f89-96af-4665-b4f5-5cefe4552ffd"
      },
      "outputs": [
        {
          "data": {
            "image/png": "[encoded data removed]",
            "text/plain": [
              "<Figure size 1000x600 with 1 Axes>"
            ]
          },
          "metadata": {},
          "output_type": "display_data"
        }
      ],
      "source": [
        "import matplotlib.pyplot as plt\n",
        "from mpl_toolkits.mplot3d import Axes3D\n",
        "\n",
        "# Điều chỉnh kích thước của hình vẽ\n",
        "fig = plt.figure(figsize=(10, 6))\n",
        "ax = fig.add_subplot(111, projection='3d')\n",
        "\n",
        "# Lấy dữ liệu của máy bay cụ thể từ dataframe\n",
        "specific_flight_data = flights_on_search_date\n",
        "\n",
        "# Biểu diễn các điểm dữ liệu thành các chấm tròn đặc màu đen\n",
        "ax.scatter(specific_flight_data['lon'], specific_flight_data['lat'], specific_flight_data['geoaltitude'], color='black', marker='o', label='Các điểm',s=5)\n",
        "\n",
        "# Nối các điểm bằng các đoạn thẳng\n",
        "ax.plot(specific_flight_data['lon'], specific_flight_data['lat'], specific_flight_data['geoaltitude'], color='blue')\n",
        "\n",
        "# Đặt nhãn trục\n",
        "ax.set_xlabel('Kinh độ')\n",
        "ax.set_ylabel('Vĩ độ')\n",
        "ax.set_zlabel('Cao độ')\n",
        "\n",
        "# Hiển thị biểu đồ\n",
        "plt.show()\n"
      ]
    },
    {
      "cell_type": "markdown",
      "metadata": {
        "id": "LKhYiDXcQxCG"
      },
      "source": [
        "#Mô phỏng kinh độ và vĩ độ"
      ]
    },
    {
      "cell_type": "code",
      "execution_count": null,
      "metadata": {
        "colab": {
          "base_uri": "https://localhost:8080/",
          "height": 542
        },
        "id": "Qhpq3yfHIRHR",
        "outputId": "c4ca0d6d-b6f8-49fa-c6ca-3905d197e380"
      },
      "outputs": [
        {
          "data": {
            "image/png": "[encoded data removed]",
            "text/plain": [
              "<Figure size 1000x600 with 1 Axes>"
            ]
          },
          "metadata": {},
          "output_type": "display_data"
        }
      ],
      "source": [
        "import matplotlib.pyplot as plt\n",
        "\n",
        "# Điều chỉnh kích thước của hình vẽ\n",
        "plt.figure(figsize=(10, 6))\n",
        "\n",
        "# Lấy dữ liệu của máy bay cụ thể từ dataframe\n",
        "specific_flight_data = flights_on_search_date\n",
        "\n",
        "# Vẽ đường nối giữa các điểm\n",
        "plt.plot(specific_flight_data['lon'], specific_flight_data['lat'], linestyle='-', color='blue')\n",
        "\n",
        "# Vẽ điểm của quỹ đạo máy bay cụ thể với màu đen\n",
        "plt.scatter(specific_flight_data['lon'], specific_flight_data['lat'], label='Quỹ đạo máy bay', marker='o', facecolors='none', edgecolors='red',s=15)\n",
        "\n",
        "# Đặt nhãn trục\n",
        "plt.xlabel('Kinh độ')\n",
        "plt.ylabel('Vĩ độ')\n",
        "\n",
        "# Hiển thị biểu đồ\n",
        "plt.show()\n"
      ]
    },
    {
      "cell_type": "markdown",
      "metadata": {
        "id": "We--DYf8J3yr"
      },
      "source": [
        "#Mô phỏng kinh độ theo thời gian"
      ]
    },
    {
      "cell_type": "code",
      "execution_count": null,
      "metadata": {
        "id": "8NBsr1eVI0_b"
      },
      "outputs": [],
      "source": [
        "import matplotlib.pyplot as plt\n",
        "\n",
        "# Điều chỉnh kích thước của hình vẽ\n",
        "plt.figure(figsize=(10, 6))\n",
        "\n",
        "# Lấy dữ liệu của máy bay cụ thể từ dataframe\n",
        "specific_flight_data = flights_on_search_date\n",
        "\n",
        "# Vẽ các chấm tròn rỗng\n",
        "plt.scatter(specific_flight_data.index, specific_flight_data['lon'], color='none', edgecolor='black',s=17)\n",
        "\n",
        "# Vẽ đường nối các chấm\n",
        "plt.plot(specific_flight_data.index, specific_flight_data['lon'], color='blue')\n",
        "\n",
        "# Đặt nhãn trục\n",
        "plt.xlabel('Thời gian')\n",
        "plt.ylabel('Kinh độ')\n",
        "\n",
        "# Hiển thị biểu đồ\n",
        "plt.show()\n"
      ]
    },
    {
      "cell_type": "markdown",
      "metadata": {
        "id": "UC2QpDTfJ_K0"
      },
      "source": [
        "#Mô phỏng vĩ độ theo thời gian"
      ]
    },
    {
      "cell_type": "code",
      "execution_count": null,
      "metadata": {
        "id": "DN0-AZohKVVp"
      },
      "outputs": [],
      "source": [
        "\n",
        "import matplotlib.pyplot as plt\n",
        "\n",
        "# Điều chỉnh kích thước của hình vẽ\n",
        "plt.figure(figsize=(10, 6))\n",
        "\n",
        "# Lấy dữ liệu của máy bay cụ thể từ dataframe\n",
        "specific_flight_data = flights_on_search_date\n",
        "\n",
        "# Vẽ các chấm tròn rỗng\n",
        "plt.scatter(specific_flight_data.index, specific_flight_data['lat'], color='none', edgecolor='blue', s=20)\n",
        "\n",
        "# Vẽ đường nối các chấm\n",
        "plt.plot(specific_flight_data.index, specific_flight_data['lat'], color='black')\n",
        "\n",
        "# Đặt nhãn trục\n",
        "plt.xlabel('Thời gian')\n",
        "plt.ylabel('Vĩ độ')\n",
        "\n",
        "# Hiển thị biểu đồ\n",
        "plt.show()\n"
      ]
    },
    {
      "cell_type": "markdown",
      "metadata": {
        "id": "dAry0QuiKo2b"
      },
      "source": [
        "#Mô phỏng vận tốc theo thời gian"
      ]
    },
    {
      "cell_type": "code",
      "execution_count": null,
      "metadata": {
        "colab": {
          "base_uri": "https://localhost:8080/",
          "height": 607
        },
        "id": "nRqW-fFSKsBK",
        "outputId": "35c5b114-0772-4c54-b0cd-33bd5efdde30"
      },
      "outputs": [
        {
          "data": {
            "image/png": "[encoded data removed]",
            "text/plain": [
              "<Figure size 1000x600 with 1 Axes>"
            ]
          },
          "metadata": {},
          "output_type": "display_data"
        }
      ],
      "source": [
        "import matplotlib.pyplot as plt\n",
        "\n",
        "# Loại bỏ các dòng trùng lặp dựa trên cột 'velocity'\n",
        "unique_values = flights_on_search_date.drop_duplicates(subset=['velocity'])\n",
        "\n",
        "# Điều chỉnh kích thước của hình vẽ\n",
        "plt.figure(figsize=(10, 6))\n",
        "\n",
        "# Vẽ các chấm tròn rỗng\n",
        "plt.scatter(unique_values.index, unique_values['velocity'], color='none', edgecolor='blue', s=30, label='Flight 1')\n",
        "\n",
        "# Vẽ đường nối các chấm\n",
        "plt.plot(unique_values.index, unique_values['velocity'], color='blue', label='_nolegend_')\n",
        "\n",
        "# Đặt nhãn trục và tiêu đề\n",
        "plt.xlabel('Thời gian')\n",
        "plt.ylabel('Velocity')\n",
        "plt.title('Biểu đồ vận tốc của các chuyến bay')\n",
        "\n",
        "# Hiển thị chú thích\n",
        "plt.legend()\n",
        "\n",
        "# Hiển thị biểu đồ\n",
        "plt.grid(True)\n",
        "plt.tight_layout()\n",
        "plt.show()\n"
      ]
    },
    {
      "cell_type": "code",
      "execution_count": null,
      "metadata": {
        "id": "9SQUfZwbIp86"
      },
      "outputs": [],
      "source": [
        "import matplotlib.pyplot as plt\n",
        "\n",
        "# Điều chỉnh kích thước của hình vẽ\n",
        "plt.figure(figsize=(10, 6))\n",
        "\n",
        "# Chỉ định số lượng hình tròn bạn muốn hiển thị\n",
        "num_points_to_show = 200\n",
        "\n",
        "# Vẽ các hình tròn rỗng cho Flight 1\n",
        "plt.scatter(flights_on_search_date.index[:num_points_to_show], flights_on_search_date['velocity'][:num_points_to_show], color='none', edgecolor='blue', s=30, label='Flight 1')\n",
        "\n",
        "# Vẽ các hình tròn rỗng cho Flight 2\n",
        "plt.scatter(flights_on_search_date2.index[:num_points_to_show], flights_on_search_date2['velocity'][:num_points_to_show], color='none', edgecolor='black', s=10, label='Flight 2')\n",
        "\n",
        "# Vẽ đường nối các điểm cho Flight 1\n",
        "plt.plot(flights_on_search_date.index[:num_points_to_show], flights_on_search_date['velocity'][:num_points_to_show], color='blue', label='_nolegend_')\n",
        "\n",
        "# Vẽ đường nối các điểm cho Flight 2\n",
        "plt.plot(flights_on_search_date2.index[:num_points_to_show], flights_on_search_date2['velocity'][:num_points_to_show], color='black', label='_nolegend_')\n",
        "\n",
        "# Đặt nhãn trục và tiêu đề\n",
        "plt.xlabel('Thời gian')\n",
        "plt.ylabel('Velocity')\n",
        "plt.title('Biểu đồ vận tốc của các chuyến bay')\n",
        "\n",
        "# Hiển thị chú thích\n",
        "plt.legend()\n",
        "\n",
        "# Hiển thị biểu đồ\n",
        "plt.grid(True)\n",
        "plt.tight_layout()\n",
        "plt.show()\n"
      ]
    },
    {
      "cell_type": "markdown",
      "metadata": {
        "id": "obKV7uODK-F5"
      },
      "source": [
        "#Mô phỏng độ cao theo thời gian"
      ]
    },
    {
      "cell_type": "code",
      "execution_count": null,
      "metadata": {
        "colab": {
          "base_uri": "https://localhost:8080/",
          "height": 542
        },
        "id": "vs_ePGa4LZh5",
        "outputId": "fd8418e4-1e89-4945-ce87-0457a22d5134"
      },
      "outputs": [
        {
          "data": {
            "image/png": "[encoded data removed]",
            "text/plain": [
              "<Figure size 1000x600 with 1 Axes>"
            ]
          },
          "metadata": {},
          "output_type": "display_data"
        }
      ],
      "source": [
        "import matplotlib.pyplot as plt\n",
        "\n",
        "# Điều chỉnh kích thước của hình vẽ\n",
        "plt.figure(figsize=(10, 6))\n",
        "\n",
        "# Lấy dữ liệu của máy bay cụ thể từ dataframe\n",
        "specific_flight_data = flights_on_search_date\n",
        "\n",
        "# Vẽ các chấm tròn rỗng với kích thước nhỏ hơn\n",
        "plt.scatter(specific_flight_data.index, specific_flight_data['geoaltitude'], color='none', edgecolor='blue', s=20)\n",
        "\n",
        "# Vẽ đường nối các chấm\n",
        "plt.plot(specific_flight_data.index, specific_flight_data['geoaltitude'], color='black')\n",
        "\n",
        "# Đặt nhãn trục\n",
        "plt.xlabel('Thời gian')\n",
        "plt.ylabel('Geoaltitude')\n",
        "\n",
        "# Hiển thị biểu đồ\n",
        "plt.show()\n"
      ]
    },
    {
      "cell_type": "markdown",
      "metadata": {
        "id": "MQuJ8Qw7J2t_"
      },
      "source": [
        "#Mô phỏng heading theo thời gian"
      ]
    },
    {
      "cell_type": "code",
      "execution_count": null,
      "metadata": {
        "colab": {
          "base_uri": "https://localhost:8080/",
          "height": 542
        },
        "id": "wAswiTJbJ6uD",
        "outputId": "ba0ed600-936d-410e-e188-d3a86814c529"
      },
      "outputs": [
        {
          "data": {
            "image/png": "[encoded data removed]",
            "text/plain": [
              "<Figure size 1000x600 with 1 Axes>"
            ]
          },
          "metadata": {},
          "output_type": "display_data"
        }
      ],
      "source": [
        "import matplotlib.pyplot as plt\n",
        "\n",
        "# Điều chỉnh kích thước của hình vẽ\n",
        "plt.figure(figsize=(10, 6))\n",
        "\n",
        "# Lấy dữ liệu của máy bay cụ thể từ dataframe\n",
        "specific_flight_data2 = data2[(data2.index.date == search_date.date()) & (data2['icao24'] == 'a7912a')]\n",
        "specific_flight_data = data[(data.index.date == search_date.date()) & (data['icao24'] == 'abe056')]\n",
        "\n",
        "# Vẽ các chấm tròn rỗng\n",
        "plt.scatter(specific_flight_data2.index, specific_flight_data2['heading'], color='none', edgecolor='black')\n",
        "plt.scatter(specific_flight_data.index, specific_flight_data['heading'], color='none', edgecolor='blue')\n",
        "\n",
        "# Vẽ đường nối các chấm\n",
        "plt.plot(specific_flight_data2.index, specific_flight_data2['heading'], color='black', label='Flight 1')\n",
        "plt.plot(specific_flight_data.index, specific_flight_data['heading'], color='blue', label='Flight 2')\n",
        "\n",
        "# Đặt nhãn trục\n",
        "plt.xlabel('Thời gian')\n",
        "plt.ylabel('heading')\n",
        "\n",
        "# Hiển thị chú thích\n",
        "plt.legend()\n",
        "\n",
        "# Hiển thị biểu đồ\n",
        "plt.show()\n"
      ]
    },
    {
      "cell_type": "markdown",
      "metadata": {
        "id": "-zPtf601KCgr"
      },
      "source": []
    },
    {
      "cell_type": "code",
      "execution_count": null,
      "metadata": {
        "id": "0kU2wQDZKQsG"
      },
      "outputs": [],
      "source": [
        "!pip install traffic"
      ]
    },
    {
      "cell_type": "code",
      "execution_count": null,
      "metadata": {
        "id": "Bk2EEj1_Oowk"
      },
      "outputs": [],
      "source": [
        "from traffic.core import Flight"
      ]
    },
    {
      "cell_type": "code",
      "execution_count": null,
      "metadata": {
        "id": "F1suc9bg7SL6"
      },
      "outputs": [],
      "source": [
        "from traffic.data import airports\n",
        "airports['ATL']"
      ]
    },
    {
      "cell_type": "code",
      "execution_count": null,
      "metadata": {
        "id": "llgP2PHvs8-w"
      },
      "outputs": [],
      "source": [
        "from traffic.data import aircraft\n",
        "aircraft[\"aba941\"]"
      ]
    },
    {
      "cell_type": "code",
      "execution_count": null,
      "metadata": {
        "id": "taC-YHwc2ZRd"
      },
      "outputs": [],
      "source": [
        "data = data.rename(columns={'time': 'timestamp'})\n"
      ]
    },
    {
      "cell_type": "code",
      "execution_count": null,
      "metadata": {
        "id": "316TYsfB45xZ"
      },
      "outputs": [],
      "source": [
        "import folium\n",
        "\n",
        "# Tạo một bản đồ với tọa độ trung tâm là vị trí của sân bay ATL\n",
        "m = folium.Map(location=[33.6407, -84.4277], zoom_start=10)\n",
        "\n",
        "# Đánh dấu vị trí của sân bay ATL trên bản đồ\n",
        "folium.Marker([33.6407, -84.4277], tooltip='ATL Airport').add_to(m)\n",
        "\n",
        "# Hiển thị bản đồ\n",
        "m\n"
      ]
    },
    {
      "cell_type": "code",
      "execution_count": null,
      "metadata": {
        "id": "eZ9ggGaXps5p"
      },
      "outputs": [],
      "source": [
        "from traffic.core import Flight\n",
        "\n",
        "# Tạo một đối tượng Flight từ DataFrame data\n",
        "flight = Flight(data)\n",
        "\n",
        "# Bây giờ bạn có thể sử dụng đối tượng flight để truy cập vào dữ liệu và thực hiện các phân tích\n"
      ]
    },
    {
      "cell_type": "code",
      "execution_count": null,
      "metadata": {
        "id": "VRIlRIiV5bP6"
      },
      "outputs": [],
      "source": [
        "start_time = pd.to_datetime(\"2017-03-30 00:03:32\")\n",
        "end_time = pd.to_datetime(\"2017-03-30 15:12:15\")\n"
      ]
    },
    {
      "cell_type": "code",
      "execution_count": null,
      "metadata": {
        "id": "fkOsu52PHh_Y"
      },
      "outputs": [],
      "source": [
        "import pandas as pd\n",
        "import matplotlib.pyplot as plt\n",
        "\n",
        "# Chuyển đổi thời gian thành datetime64\n",
        "start_time = pd.to_datetime(start_time)\n",
        "end_time = pd.to_datetime(end_time)\n",
        "\n",
        "# Lọc dữ liệu trong khoảng thời gian cần vẽ\n",
        "flight_subset = flight.between(start_time, end_time)\n",
        "\n",
        "# Vẽ biểu đồ tốc độ của chuyến bay trong khoảng thời gian đã lọc\n",
        "plt.plot(flight_subset.data.timestamp, flight_subset.data.velocity)\n",
        "plt.xlabel('Time')\n",
        "plt.ylabel('Velocity')\n",
        "plt.title('Flight Velocity')\n",
        "plt.show()\n"
      ]
    },
    {
      "cell_type": "markdown",
      "metadata": {
        "id": "uG6Z4HIs9TJG"
      },
      "source": []
    },
    {
      "cell_type": "code",
      "execution_count": null,
      "metadata": {
        "colab": {
          "base_uri": "https://localhost:8080/",
          "height": 141
        },
        "id": "6EH9EQAz29zh",
        "outputId": "ec2e4363-6ca0-4bab-8e8b-360d9c360f65"
      },
      "outputs": [
        {
          "ename": "NameError",
          "evalue": "name 'flight' is not defined",
          "output_type": "error",
          "traceback": [
            "\u001b[0;31m---------------------------------------------------------------------------\u001b[0m",
            "\u001b[0;31mNameError\u001b[0m                                 Traceback (most recent call last)",
            "\u001b[0;32m<ipython-input-37-2e236b644a32>\u001b[0m in \u001b[0;36m<cell line: 1>\u001b[0;34m()\u001b[0m\n\u001b[0;32m----> 1\u001b[0;31m \u001b[0mflight\u001b[0m\u001b[0;34m.\u001b[0m\u001b[0mbetween\u001b[0m\u001b[0;34m(\u001b[0m\u001b[0mstart_time\u001b[0m\u001b[0;34m,\u001b[0m \u001b[0mend_time\u001b[0m\u001b[0;34m)\u001b[0m\u001b[0;34m.\u001b[0m\u001b[0mdata\u001b[0m\u001b[0;34m\u001b[0m\u001b[0;34m\u001b[0m\u001b[0m\n\u001b[0m",
            "\u001b[0;31mNameError\u001b[0m: name 'flight' is not defined"
          ]
        }
      ],
      "source": [
        "flight.between(start_time, end_time).data"
      ]
    },
    {
      "cell_type": "code",
      "execution_count": null,
      "metadata": {
        "id": "I6yRQpdIuBXo"
      },
      "outputs": [],
      "source": [
        "import matplotlib.pyplot as plt\n",
        "from mpl_toolkits.mplot3d import Axes3D\n",
        "\n",
        "# Tạo biểu đồ 3D\n",
        "fig = plt.figure(figsize=(10, 8))\n",
        "ax = fig.add_subplot(111, projection='3d')\n",
        "\n",
        "flight_subset = flight.between(start_time, end_time)\n",
        "\n",
        "# Dữ liệu kinh độ, vĩ độ, độ cao và thời gian từ DataFrame đã lọc\n",
        "longitude = flight_subset.data['lon']\n",
        "latitude = flight_subset.data['lat']\n",
        "altitude = flight_subset.data['geoaltitude']\n",
        "timestamp = flight_subset.data['timestamp']\n",
        "\n",
        "# Vẽ điểm dữ liệu trên biểu đồ 3D với màu sắc dựa trên thời gian\n",
        "sc = ax.scatter(longitude, latitude, altitude, c=timestamp, cmap='viridis')\n",
        "\n",
        "# Đặt nhãn cho các trục\n",
        "ax.set_xlabel('Longitude')\n",
        "ax.set_ylabel('Latitude')\n",
        "ax.set_zlabel('Altitude')\n",
        "plt.colorbar(sc, label='Time')\n",
        "\n",
        "# Hiển thị biểu đồ\n",
        "plt.show()\n"
      ]
    }
  ],
  "metadata": {
    "colab": {
      "provenance": [],
      "include_colab_link": true
    },
    "kernelspec": {
      "display_name": "Python 3",
      "name": "python3"
    },
    "language_info": {
      "name": "python"
    }
  },
  "nbformat": 4,
  "nbformat_minor": 0
}